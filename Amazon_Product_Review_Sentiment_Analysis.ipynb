{
 "cells": [
  {
   "cell_type": "markdown",
   "id": "2249dcc9",
   "metadata": {},
   "source": [
    "# Problem Statement\n",
    "\n",
    "- Amazon is an online shopping website that now caters to millions of people everywhere. Over 4,000 consumer reviews for Amazon brand products like Kindle, Fire TV Stick and more are provided. \n",
    "- The dataset has attributes like brand, categories, primary categories, reviews.title, reviews.text, and the sentiment. Sentiment is a categorical variable with three levels \"Positive\", \"Negative“, and \"Neutral\". For a given unseen data, the sentiment needs to be predicted.\n",
    "- Goal is to predict Sentiment or Satisfaction of a purchase based on multiple features and review text."
   ]
  },
  {
   "cell_type": "code",
   "execution_count": 1,
   "id": "b33fd96b",
   "metadata": {},
   "outputs": [],
   "source": [
    "import pandas as pd\n",
    "\n",
    "import numpy as np \n",
    "import matplotlib.pyplot as plt\n",
    "import seaborn as sns\n",
    "from wordcloud import WordCloud, STOPWORDS\n",
    "from nltk.corpus import stopwords\n",
    "import nltk\n",
    "from nltk.tokenize import sent_tokenize, word_tokenize\n",
    "from nltk import WordNetLemmatizer, pos_tag, word_tokenize\n",
    "import re,string\n",
    "from sklearn.metrics import classification_report\n",
    "\n",
    "import warnings\n",
    "warnings.filterwarnings('ignore')\n",
    "\n"
   ]
  },
  {
   "cell_type": "code",
   "execution_count": 2,
   "id": "3702b03a",
   "metadata": {},
   "outputs": [
    {
     "data": {
      "text/html": [
       "<div>\n",
       "<style scoped>\n",
       "    .dataframe tbody tr th:only-of-type {\n",
       "        vertical-align: middle;\n",
       "    }\n",
       "\n",
       "    .dataframe tbody tr th {\n",
       "        vertical-align: top;\n",
       "    }\n",
       "\n",
       "    .dataframe thead th {\n",
       "        text-align: right;\n",
       "    }\n",
       "</style>\n",
       "<table border=\"1\" class=\"dataframe\">\n",
       "  <thead>\n",
       "    <tr style=\"text-align: right;\">\n",
       "      <th></th>\n",
       "      <th>name</th>\n",
       "      <th>brand</th>\n",
       "      <th>categories</th>\n",
       "      <th>primaryCategories</th>\n",
       "      <th>reviews.date</th>\n",
       "      <th>reviews.text</th>\n",
       "      <th>reviews.title</th>\n",
       "      <th>sentiment</th>\n",
       "    </tr>\n",
       "  </thead>\n",
       "  <tbody>\n",
       "    <tr>\n",
       "      <th>0</th>\n",
       "      <td>All-New Fire HD 8 Tablet, 8\" HD Display, Wi-Fi...</td>\n",
       "      <td>Amazon</td>\n",
       "      <td>Electronics,iPad &amp; Tablets,All Tablets,Fire Ta...</td>\n",
       "      <td>Electronics</td>\n",
       "      <td>2016-12-26T00:00:00.000Z</td>\n",
       "      <td>Purchased on Black FridayPros - Great Price (e...</td>\n",
       "      <td>Powerful tablet</td>\n",
       "      <td>Positive</td>\n",
       "    </tr>\n",
       "    <tr>\n",
       "      <th>1</th>\n",
       "      <td>Amazon - Echo Plus w/ Built-In Hub - Silver</td>\n",
       "      <td>Amazon</td>\n",
       "      <td>Amazon Echo,Smart Home,Networking,Home &amp; Tools...</td>\n",
       "      <td>Electronics,Hardware</td>\n",
       "      <td>2018-01-17T00:00:00.000Z</td>\n",
       "      <td>I purchased two Amazon in Echo Plus and two do...</td>\n",
       "      <td>Amazon Echo Plus AWESOME</td>\n",
       "      <td>Positive</td>\n",
       "    </tr>\n",
       "    <tr>\n",
       "      <th>2</th>\n",
       "      <td>Amazon Echo Show Alexa-enabled Bluetooth Speak...</td>\n",
       "      <td>Amazon</td>\n",
       "      <td>Amazon Echo,Virtual Assistant Speakers,Electro...</td>\n",
       "      <td>Electronics,Hardware</td>\n",
       "      <td>2017-12-20T00:00:00.000Z</td>\n",
       "      <td>Just an average Alexa option. Does show a few ...</td>\n",
       "      <td>Average</td>\n",
       "      <td>Neutral</td>\n",
       "    </tr>\n",
       "    <tr>\n",
       "      <th>3</th>\n",
       "      <td>Fire HD 10 Tablet, 10.1 HD Display, Wi-Fi, 16 ...</td>\n",
       "      <td>Amazon</td>\n",
       "      <td>eBook Readers,Fire Tablets,Electronics Feature...</td>\n",
       "      <td>Office Supplies,Electronics</td>\n",
       "      <td>2017-08-04T00:00:00.000Z</td>\n",
       "      <td>very good product. Exactly what I wanted, and ...</td>\n",
       "      <td>Greattttttt</td>\n",
       "      <td>Positive</td>\n",
       "    </tr>\n",
       "    <tr>\n",
       "      <th>4</th>\n",
       "      <td>Brand New Amazon Kindle Fire 16gb 7\" Ips Displ...</td>\n",
       "      <td>Amazon</td>\n",
       "      <td>Computers/Tablets &amp; Networking,Tablets &amp; eBook...</td>\n",
       "      <td>Electronics</td>\n",
       "      <td>2017-01-23T00:00:00.000Z</td>\n",
       "      <td>This is the 3rd one I've purchased. I've bough...</td>\n",
       "      <td>Very durable!</td>\n",
       "      <td>Positive</td>\n",
       "    </tr>\n",
       "  </tbody>\n",
       "</table>\n",
       "</div>"
      ],
      "text/plain": [
       "                                                name   brand  \\\n",
       "0  All-New Fire HD 8 Tablet, 8\" HD Display, Wi-Fi...  Amazon   \n",
       "1        Amazon - Echo Plus w/ Built-In Hub - Silver  Amazon   \n",
       "2  Amazon Echo Show Alexa-enabled Bluetooth Speak...  Amazon   \n",
       "3  Fire HD 10 Tablet, 10.1 HD Display, Wi-Fi, 16 ...  Amazon   \n",
       "4  Brand New Amazon Kindle Fire 16gb 7\" Ips Displ...  Amazon   \n",
       "\n",
       "                                          categories  \\\n",
       "0  Electronics,iPad & Tablets,All Tablets,Fire Ta...   \n",
       "1  Amazon Echo,Smart Home,Networking,Home & Tools...   \n",
       "2  Amazon Echo,Virtual Assistant Speakers,Electro...   \n",
       "3  eBook Readers,Fire Tablets,Electronics Feature...   \n",
       "4  Computers/Tablets & Networking,Tablets & eBook...   \n",
       "\n",
       "             primaryCategories              reviews.date  \\\n",
       "0                  Electronics  2016-12-26T00:00:00.000Z   \n",
       "1         Electronics,Hardware  2018-01-17T00:00:00.000Z   \n",
       "2         Electronics,Hardware  2017-12-20T00:00:00.000Z   \n",
       "3  Office Supplies,Electronics  2017-08-04T00:00:00.000Z   \n",
       "4                  Electronics  2017-01-23T00:00:00.000Z   \n",
       "\n",
       "                                        reviews.text  \\\n",
       "0  Purchased on Black FridayPros - Great Price (e...   \n",
       "1  I purchased two Amazon in Echo Plus and two do...   \n",
       "2  Just an average Alexa option. Does show a few ...   \n",
       "3  very good product. Exactly what I wanted, and ...   \n",
       "4  This is the 3rd one I've purchased. I've bough...   \n",
       "\n",
       "              reviews.title sentiment  \n",
       "0           Powerful tablet  Positive  \n",
       "1  Amazon Echo Plus AWESOME  Positive  \n",
       "2                   Average   Neutral  \n",
       "3               Greattttttt  Positive  \n",
       "4             Very durable!  Positive  "
      ]
     },
     "execution_count": 2,
     "metadata": {},
     "output_type": "execute_result"
    }
   ],
   "source": [
    "#load train dataset and check first 5 records\n",
    "\n",
    "train_df = pd.read_csv('train_data.csv')\n",
    "test_df = pd.read_csv('test_data.csv')\n",
    "train_df.head()"
   ]
  },
  {
   "cell_type": "markdown",
   "id": "bee3fac9",
   "metadata": {},
   "source": [
    "#### Check info of the data"
   ]
  },
  {
   "cell_type": "code",
   "execution_count": 3,
   "id": "8f7306b9",
   "metadata": {},
   "outputs": [
    {
     "data": {
      "text/plain": [
       "((4000, 8), (1000, 8))"
      ]
     },
     "execution_count": 3,
     "metadata": {},
     "output_type": "execute_result"
    }
   ],
   "source": [
    "#shape \n",
    "train_df.shape,test_df.shape"
   ]
  },
  {
   "cell_type": "markdown",
   "id": "34044531",
   "metadata": {},
   "source": [
    "#### training dataset contains 4k records and 8 features and testing dataset have 1k records."
   ]
  },
  {
   "cell_type": "code",
   "execution_count": 4,
   "id": "3b4aeb32",
   "metadata": {},
   "outputs": [
    {
     "name": "stdout",
     "output_type": "stream",
     "text": [
      "<class 'pandas.core.frame.DataFrame'>\n",
      "RangeIndex: 4000 entries, 0 to 3999\n",
      "Data columns (total 8 columns):\n",
      " #   Column             Non-Null Count  Dtype \n",
      "---  ------             --------------  ----- \n",
      " 0   name               4000 non-null   object\n",
      " 1   brand              4000 non-null   object\n",
      " 2   categories         4000 non-null   object\n",
      " 3   primaryCategories  4000 non-null   object\n",
      " 4   reviews.date       4000 non-null   object\n",
      " 5   reviews.text       4000 non-null   object\n",
      " 6   reviews.title      3990 non-null   object\n",
      " 7   sentiment          4000 non-null   object\n",
      "dtypes: object(8)\n",
      "memory usage: 250.1+ KB\n"
     ]
    }
   ],
   "source": [
    "# info\n",
    "train_df.info()\n"
   ]
  },
  {
   "cell_type": "markdown",
   "id": "8da6d722",
   "metadata": {},
   "source": [
    "#### train dataset contains  8 features, all are ojects type."
   ]
  },
  {
   "cell_type": "code",
   "execution_count": 5,
   "id": "1650ded8",
   "metadata": {},
   "outputs": [
    {
     "data": {
      "text/html": [
       "<div>\n",
       "<style scoped>\n",
       "    .dataframe tbody tr th:only-of-type {\n",
       "        vertical-align: middle;\n",
       "    }\n",
       "\n",
       "    .dataframe tbody tr th {\n",
       "        vertical-align: top;\n",
       "    }\n",
       "\n",
       "    .dataframe thead th {\n",
       "        text-align: right;\n",
       "    }\n",
       "</style>\n",
       "<table border=\"1\" class=\"dataframe\">\n",
       "  <thead>\n",
       "    <tr style=\"text-align: right;\">\n",
       "      <th></th>\n",
       "      <th>count</th>\n",
       "      <th>unique</th>\n",
       "      <th>top</th>\n",
       "      <th>freq</th>\n",
       "    </tr>\n",
       "  </thead>\n",
       "  <tbody>\n",
       "    <tr>\n",
       "      <th>name</th>\n",
       "      <td>4000</td>\n",
       "      <td>23</td>\n",
       "      <td>Amazon Echo Show Alexa-enabled Bluetooth Speak...</td>\n",
       "      <td>676</td>\n",
       "    </tr>\n",
       "    <tr>\n",
       "      <th>brand</th>\n",
       "      <td>4000</td>\n",
       "      <td>1</td>\n",
       "      <td>Amazon</td>\n",
       "      <td>4000</td>\n",
       "    </tr>\n",
       "    <tr>\n",
       "      <th>categories</th>\n",
       "      <td>4000</td>\n",
       "      <td>23</td>\n",
       "      <td>Electronics,iPad &amp; Tablets,All Tablets,Fire Ta...</td>\n",
       "      <td>628</td>\n",
       "    </tr>\n",
       "    <tr>\n",
       "      <th>primaryCategories</th>\n",
       "      <td>4000</td>\n",
       "      <td>4</td>\n",
       "      <td>Electronics</td>\n",
       "      <td>2600</td>\n",
       "    </tr>\n",
       "    <tr>\n",
       "      <th>reviews.date</th>\n",
       "      <td>4000</td>\n",
       "      <td>638</td>\n",
       "      <td>2017-01-23T00:00:00.000Z</td>\n",
       "      <td>99</td>\n",
       "    </tr>\n",
       "    <tr>\n",
       "      <th>reviews.text</th>\n",
       "      <td>4000</td>\n",
       "      <td>3598</td>\n",
       "      <td>I bought this kindle for my 11yr old granddaug...</td>\n",
       "      <td>4</td>\n",
       "    </tr>\n",
       "    <tr>\n",
       "      <th>reviews.title</th>\n",
       "      <td>3990</td>\n",
       "      <td>2606</td>\n",
       "      <td>Great tablet</td>\n",
       "      <td>100</td>\n",
       "    </tr>\n",
       "    <tr>\n",
       "      <th>sentiment</th>\n",
       "      <td>4000</td>\n",
       "      <td>3</td>\n",
       "      <td>Positive</td>\n",
       "      <td>3749</td>\n",
       "    </tr>\n",
       "  </tbody>\n",
       "</table>\n",
       "</div>"
      ],
      "text/plain": [
       "                  count unique  \\\n",
       "name               4000     23   \n",
       "brand              4000      1   \n",
       "categories         4000     23   \n",
       "primaryCategories  4000      4   \n",
       "reviews.date       4000    638   \n",
       "reviews.text       4000   3598   \n",
       "reviews.title      3990   2606   \n",
       "sentiment          4000      3   \n",
       "\n",
       "                                                                 top  freq  \n",
       "name               Amazon Echo Show Alexa-enabled Bluetooth Speak...   676  \n",
       "brand                                                         Amazon  4000  \n",
       "categories         Electronics,iPad & Tablets,All Tablets,Fire Ta...   628  \n",
       "primaryCategories                                        Electronics  2600  \n",
       "reviews.date                                2017-01-23T00:00:00.000Z    99  \n",
       "reviews.text       I bought this kindle for my 11yr old granddaug...     4  \n",
       "reviews.title                                           Great tablet   100  \n",
       "sentiment                                                   Positive  3749  "
      ]
     },
     "execution_count": 5,
     "metadata": {},
     "output_type": "execute_result"
    }
   ],
   "source": [
    "#describe\n",
    "train_df.describe().transpose()"
   ]
  },
  {
   "cell_type": "markdown",
   "id": "23bccf06",
   "metadata": {},
   "source": [
    "#### Observations from the above train data \n",
    "- Dataset contains total 4 primary categories.\n",
    "- Electronics category is the most used one with 2600 records\n",
    "- Total subcategories are 23, brand is only one i.e. Amazon. \n",
    "- Total 3 types of sentiments are there Positive,Neagtive and Neutral, most of the sentiments looks Positive i.e. 3749 positive   records are there."
   ]
  },
  {
   "cell_type": "code",
   "execution_count": 6,
   "id": "234ddfe7",
   "metadata": {},
   "outputs": [
    {
     "data": {
      "text/html": [
       "<div>\n",
       "<style scoped>\n",
       "    .dataframe tbody tr th:only-of-type {\n",
       "        vertical-align: middle;\n",
       "    }\n",
       "\n",
       "    .dataframe tbody tr th {\n",
       "        vertical-align: top;\n",
       "    }\n",
       "\n",
       "    .dataframe thead th {\n",
       "        text-align: right;\n",
       "    }\n",
       "</style>\n",
       "<table border=\"1\" class=\"dataframe\">\n",
       "  <thead>\n",
       "    <tr style=\"text-align: right;\">\n",
       "      <th></th>\n",
       "      <th>name</th>\n",
       "      <th>brand</th>\n",
       "      <th>categories</th>\n",
       "      <th>reviews.date</th>\n",
       "      <th>reviews.text</th>\n",
       "      <th>reviews.title</th>\n",
       "      <th>sentiment</th>\n",
       "    </tr>\n",
       "    <tr>\n",
       "      <th>primaryCategories</th>\n",
       "      <th></th>\n",
       "      <th></th>\n",
       "      <th></th>\n",
       "      <th></th>\n",
       "      <th></th>\n",
       "      <th></th>\n",
       "      <th></th>\n",
       "    </tr>\n",
       "  </thead>\n",
       "  <tbody>\n",
       "    <tr>\n",
       "      <th>Electronics</th>\n",
       "      <td>18</td>\n",
       "      <td>1</td>\n",
       "      <td>17</td>\n",
       "      <td>458</td>\n",
       "      <td>2310</td>\n",
       "      <td>1706</td>\n",
       "      <td>3</td>\n",
       "    </tr>\n",
       "    <tr>\n",
       "      <th>Electronics,Hardware</th>\n",
       "      <td>2</td>\n",
       "      <td>1</td>\n",
       "      <td>3</td>\n",
       "      <td>203</td>\n",
       "      <td>1095</td>\n",
       "      <td>827</td>\n",
       "      <td>3</td>\n",
       "    </tr>\n",
       "    <tr>\n",
       "      <th>Electronics,Media</th>\n",
       "      <td>1</td>\n",
       "      <td>1</td>\n",
       "      <td>1</td>\n",
       "      <td>16</td>\n",
       "      <td>17</td>\n",
       "      <td>17</td>\n",
       "      <td>1</td>\n",
       "    </tr>\n",
       "    <tr>\n",
       "      <th>Office Supplies,Electronics</th>\n",
       "      <td>2</td>\n",
       "      <td>1</td>\n",
       "      <td>2</td>\n",
       "      <td>140</td>\n",
       "      <td>204</td>\n",
       "      <td>181</td>\n",
       "      <td>3</td>\n",
       "    </tr>\n",
       "  </tbody>\n",
       "</table>\n",
       "</div>"
      ],
      "text/plain": [
       "                             name  brand  categories  reviews.date  \\\n",
       "primaryCategories                                                    \n",
       "Electronics                    18      1          17           458   \n",
       "Electronics,Hardware            2      1           3           203   \n",
       "Electronics,Media               1      1           1            16   \n",
       "Office Supplies,Electronics     2      1           2           140   \n",
       "\n",
       "                             reviews.text  reviews.title  sentiment  \n",
       "primaryCategories                                                    \n",
       "Electronics                          2310           1706          3  \n",
       "Electronics,Hardware                 1095            827          3  \n",
       "Electronics,Media                      17             17          1  \n",
       "Office Supplies,Electronics           204            181          3  "
      ]
     },
     "execution_count": 6,
     "metadata": {},
     "output_type": "execute_result"
    }
   ],
   "source": [
    "train_df.groupby('primaryCategories').nunique()"
   ]
  },
  {
   "cell_type": "code",
   "execution_count": 7,
   "id": "9596c9fd",
   "metadata": {},
   "outputs": [
    {
     "data": {
      "text/plain": [
       "reviews.date\n",
       "2017-01-23 00:00:00+00:00    99\n",
       "2017-01-18 00:00:00+00:00    88\n",
       "2017-01-06 00:00:00+00:00    87\n",
       "2017-12-01 00:00:00+00:00    73\n",
       "2017-01-16 00:00:00+00:00    69\n",
       "                             ..\n",
       "2016-10-25 00:00:00+00:00     1\n",
       "2017-11-19 07:47:58+00:00     1\n",
       "2016-10-18 00:00:00+00:00     1\n",
       "2016-10-10 00:00:00+00:00     1\n",
       "2018-09-15 15:58:24+00:00     1\n",
       "Name: reviews.date, Length: 638, dtype: int64"
      ]
     },
     "execution_count": 7,
     "metadata": {},
     "output_type": "execute_result"
    }
   ],
   "source": [
    "train_df['reviews.date'] = pd.to_datetime(train_df['reviews.date'])\n",
    "train_df.groupby('reviews.date')['reviews.date'].count().sort_values(ascending=False)"
   ]
  },
  {
   "cell_type": "code",
   "execution_count": 8,
   "id": "cccb11cd",
   "metadata": {},
   "outputs": [
    {
     "data": {
      "image/png": "[encoded data removed]",
      "text/plain": [
       "<Figure size 432x288 with 1 Axes>"
      ]
     },
     "metadata": {
      "needs_background": "light"
     },
     "output_type": "display_data"
    }
   ],
   "source": [
    "train_df['year'] = train_df['reviews.date'].dt.year\n",
    "train_df['month'] = train_df['reviews.date'].dt.month\n",
    "train_df['weekday'] = train_df['reviews.date'].dt.dayofweek\n",
    "\n",
    "sns.countplot(x ='year', data = train_df)\n",
    "plt.show()"
   ]
  },
  {
   "cell_type": "markdown",
   "id": "7e9f1ddc",
   "metadata": {},
   "source": [
    "#### Most of the reviews collected in the year 2017"
   ]
  },
  {
   "cell_type": "code",
   "execution_count": 9,
   "id": "54dd67b0",
   "metadata": {},
   "outputs": [
    {
     "data": {
      "image/png": "[encoded data removed]",
      "text/plain": [
       "<Figure size 432x288 with 1 Axes>"
      ]
     },
     "metadata": {
      "needs_background": "light"
     },
     "output_type": "display_data"
    }
   ],
   "source": [
    "sns.countplot(y ='month', data = train_df,order = train_df['month'].value_counts().index)\n",
    "plt.show()"
   ]
  },
  {
   "cell_type": "markdown",
   "id": "04fc8540",
   "metadata": {},
   "source": [
    "#### Most of the reviews are in the month of Jan and Dec, so people might purchased more in these 2 months."
   ]
  },
  {
   "cell_type": "code",
   "execution_count": 10,
   "id": "3b22a027",
   "metadata": {},
   "outputs": [
    {
     "data": {
      "image/png": "[encoded data removed]",
      "text/plain": [
       "<Figure size 432x288 with 1 Axes>"
      ]
     },
     "metadata": {
      "needs_background": "light"
     },
     "output_type": "display_data"
    }
   ],
   "source": [
    "sns.countplot(x ='weekday', data = train_df)\n",
    "plt.show()"
   ]
  },
  {
   "cell_type": "code",
   "execution_count": 11,
   "id": "8d0912d8",
   "metadata": {},
   "outputs": [],
   "source": [
    "# Most of the people purchased mostly on friday"
   ]
  },
  {
   "cell_type": "code",
   "execution_count": 12,
   "id": "1d453467",
   "metadata": {},
   "outputs": [
    {
     "data": {
      "text/plain": [
       "(45, 159, 8351)"
      ]
     },
     "execution_count": 12,
     "metadata": {},
     "output_type": "execute_result"
    }
   ],
   "source": [
    "#### Check for minimum and maximum length for review text\n",
    "\n",
    "long_review_length = train_df[\"reviews.text\"].map(len).max()\n",
    "short_review_length = train_df[\"reviews.text\"].map(len).min()\n",
    "avg_review_length = round(train_df[\"reviews.text\"].map(len).mean())\n",
    "short_review_length,avg_review_length,long_review_length"
   ]
  },
  {
   "cell_type": "markdown",
   "id": "f4e72201",
   "metadata": {},
   "source": [
    "#### Longest review is 8351 char., shortest review length is 45 char. and average is 159 char. long "
   ]
  },
  {
   "cell_type": "code",
   "execution_count": 13,
   "id": "06114c99",
   "metadata": {},
   "outputs": [
    {
     "data": {
      "text/plain": [
       "(1539, 1, 31)"
      ]
     },
     "execution_count": 13,
     "metadata": {},
     "output_type": "execute_result"
    }
   ],
   "source": [
    "# Check the words used in review\n",
    "\n",
    "train_df['totalwords'] = [len(x.split()) for x in train_df[\"reviews.text\"].tolist()]\n",
    "train_df['maxwordlen'] = [len(max(x.split(), key=len)) for x in train_df[\"reviews.text\"].tolist()]\n",
    "\n",
    "maximum_words = train_df.totalwords.max()\n",
    "minimum_words = train_df.totalwords.min()\n",
    "average_words = round(train_df.totalwords.mean())\n",
    "\n",
    "maximum_words,minimum_words,average_words"
   ]
  },
  {
   "cell_type": "markdown",
   "id": "0b6afcac",
   "metadata": {},
   "source": [
    "#### 1539 Maximum words used in review, Minimum words used is 1 and average words used are 31."
   ]
  },
  {
   "cell_type": "code",
   "execution_count": 14,
   "id": "fc856bc8",
   "metadata": {},
   "outputs": [
    {
     "data": {
      "text/html": [
       "<div>\n",
       "<style scoped>\n",
       "    .dataframe tbody tr th:only-of-type {\n",
       "        vertical-align: middle;\n",
       "    }\n",
       "\n",
       "    .dataframe tbody tr th {\n",
       "        vertical-align: top;\n",
       "    }\n",
       "\n",
       "    .dataframe thead th {\n",
       "        text-align: right;\n",
       "    }\n",
       "</style>\n",
       "<table border=\"1\" class=\"dataframe\">\n",
       "  <thead>\n",
       "    <tr style=\"text-align: right;\">\n",
       "      <th></th>\n",
       "      <th>name</th>\n",
       "      <th>brand</th>\n",
       "      <th>categories</th>\n",
       "      <th>primaryCategories</th>\n",
       "      <th>reviews.date</th>\n",
       "      <th>reviews.text</th>\n",
       "      <th>reviews.title</th>\n",
       "      <th>sentiment</th>\n",
       "      <th>year</th>\n",
       "      <th>month</th>\n",
       "      <th>weekday</th>\n",
       "      <th>totalwords</th>\n",
       "      <th>maxwordlen</th>\n",
       "    </tr>\n",
       "  </thead>\n",
       "  <tbody>\n",
       "    <tr>\n",
       "      <th>177</th>\n",
       "      <td>Amazon 9W PowerFast Official OEM USB Charger a...</td>\n",
       "      <td>Amazon</td>\n",
       "      <td>Computers &amp; Accessories,Tablet &amp; E-Reader Acce...</td>\n",
       "      <td>Electronics</td>\n",
       "      <td>2016-07-16 00:00:00+00:00</td>\n",
       "      <td>Works great !!!!!!!!!!!!!!!!!!!!!!!!!!!!!!!!!!...</td>\n",
       "      <td>Good</td>\n",
       "      <td>Positive</td>\n",
       "      <td>2016</td>\n",
       "      <td>7</td>\n",
       "      <td>5</td>\n",
       "      <td>3</td>\n",
       "      <td>39</td>\n",
       "    </tr>\n",
       "    <tr>\n",
       "      <th>1296</th>\n",
       "      <td>Amazon Echo Show Alexa-enabled Bluetooth Speak...</td>\n",
       "      <td>Amazon</td>\n",
       "      <td>Computers,Amazon Echo,Virtual Assistant Speake...</td>\n",
       "      <td>Electronics,Hardware</td>\n",
       "      <td>2017-12-01 00:00:00+00:00</td>\n",
       "      <td>As advertised....................................</td>\n",
       "      <td>As advertised</td>\n",
       "      <td>Positive</td>\n",
       "      <td>2017</td>\n",
       "      <td>12</td>\n",
       "      <td>4</td>\n",
       "      <td>2</td>\n",
       "      <td>48</td>\n",
       "    </tr>\n",
       "    <tr>\n",
       "      <th>1679</th>\n",
       "      <td>Amazon - Echo Plus w/ Built-In Hub - Silver</td>\n",
       "      <td>Amazon</td>\n",
       "      <td>Amazon Echo,Smart Home,Networking,Home &amp; Tools...</td>\n",
       "      <td>Electronics,Hardware</td>\n",
       "      <td>2018-01-05 00:00:00+00:00</td>\n",
       "      <td>So much fun, love it.............................</td>\n",
       "      <td>Alexa</td>\n",
       "      <td>Positive</td>\n",
       "      <td>2018</td>\n",
       "      <td>1</td>\n",
       "      <td>4</td>\n",
       "      <td>5</td>\n",
       "      <td>61</td>\n",
       "    </tr>\n",
       "    <tr>\n",
       "      <th>2477</th>\n",
       "      <td>Amazon - Kindle Voyage - 6\" - 4GB - Black</td>\n",
       "      <td>Amazon</td>\n",
       "      <td>eBook Readers,Electronics Features,Walmart for...</td>\n",
       "      <td>Electronics</td>\n",
       "      <td>2015-04-17 00:00:00+00:00</td>\n",
       "      <td>Realllllllllllllllllllllllllllllllllllllllllll...</td>\n",
       "      <td>it's awesome</td>\n",
       "      <td>Positive</td>\n",
       "      <td>2015</td>\n",
       "      <td>4</td>\n",
       "      <td>4</td>\n",
       "      <td>1</td>\n",
       "      <td>51</td>\n",
       "    </tr>\n",
       "    <tr>\n",
       "      <th>2799</th>\n",
       "      <td>Fire Kids Edition Tablet, 7 Display, Wi-Fi, 16...</td>\n",
       "      <td>Amazon</td>\n",
       "      <td>Computers,Fire Tablets,Electronics Features,Co...</td>\n",
       "      <td>Electronics</td>\n",
       "      <td>2017-01-07 00:00:00+00:00</td>\n",
       "      <td>Great!!!!!!!!!!!!!!!!!!!!!!!!!!!!!!!!!!!!!!!!!...</td>\n",
       "      <td>Great</td>\n",
       "      <td>Positive</td>\n",
       "      <td>2017</td>\n",
       "      <td>1</td>\n",
       "      <td>5</td>\n",
       "      <td>1</td>\n",
       "      <td>50</td>\n",
       "    </tr>\n",
       "    <tr>\n",
       "      <th>2973</th>\n",
       "      <td>All-New Fire HD 8 Tablet, 8\" HD Display, Wi-Fi...</td>\n",
       "      <td>Amazon</td>\n",
       "      <td>Electronics,iPad &amp; Tablets,All Tablets,Fire Ta...</td>\n",
       "      <td>Electronics</td>\n",
       "      <td>2017-02-11 00:00:00+00:00</td>\n",
       "      <td>Excellent product.Relable.Maximum speed.Fast d...</td>\n",
       "      <td>Good</td>\n",
       "      <td>Positive</td>\n",
       "      <td>2017</td>\n",
       "      <td>2</td>\n",
       "      <td>5</td>\n",
       "      <td>4</td>\n",
       "      <td>23</td>\n",
       "    </tr>\n",
       "    <tr>\n",
       "      <th>3467</th>\n",
       "      <td>All-New Fire HD 8 Tablet, 8\" HD Display, Wi-Fi...</td>\n",
       "      <td>Amazon</td>\n",
       "      <td>Electronics,iPad &amp; Tablets,All Tablets,Fire Ta...</td>\n",
       "      <td>Electronics</td>\n",
       "      <td>2017-02-05 00:00:00+00:00</td>\n",
       "      <td>asesome!!!!!!!!!!!!!!!!!!!!!!!!!!!!!!!!!!!!!!!...</td>\n",
       "      <td>awesome</td>\n",
       "      <td>Positive</td>\n",
       "      <td>2017</td>\n",
       "      <td>2</td>\n",
       "      <td>6</td>\n",
       "      <td>1</td>\n",
       "      <td>112</td>\n",
       "    </tr>\n",
       "    <tr>\n",
       "      <th>3493</th>\n",
       "      <td>Fire Kids Edition Tablet, 7 Display, Wi-Fi, 16...</td>\n",
       "      <td>Amazon</td>\n",
       "      <td>Computers,Fire Tablets,Electronics Features,Co...</td>\n",
       "      <td>Electronics</td>\n",
       "      <td>2017-01-06 00:00:00+00:00</td>\n",
       "      <td>Son loves it.....................................</td>\n",
       "      <td>Great for kids</td>\n",
       "      <td>Neutral</td>\n",
       "      <td>2017</td>\n",
       "      <td>1</td>\n",
       "      <td>4</td>\n",
       "      <td>3</td>\n",
       "      <td>42</td>\n",
       "    </tr>\n",
       "  </tbody>\n",
       "</table>\n",
       "</div>"
      ],
      "text/plain": [
       "                                                   name   brand  \\\n",
       "177   Amazon 9W PowerFast Official OEM USB Charger a...  Amazon   \n",
       "1296  Amazon Echo Show Alexa-enabled Bluetooth Speak...  Amazon   \n",
       "1679        Amazon - Echo Plus w/ Built-In Hub - Silver  Amazon   \n",
       "2477          Amazon - Kindle Voyage - 6\" - 4GB - Black  Amazon   \n",
       "2799  Fire Kids Edition Tablet, 7 Display, Wi-Fi, 16...  Amazon   \n",
       "2973  All-New Fire HD 8 Tablet, 8\" HD Display, Wi-Fi...  Amazon   \n",
       "3467  All-New Fire HD 8 Tablet, 8\" HD Display, Wi-Fi...  Amazon   \n",
       "3493  Fire Kids Edition Tablet, 7 Display, Wi-Fi, 16...  Amazon   \n",
       "\n",
       "                                             categories     primaryCategories  \\\n",
       "177   Computers & Accessories,Tablet & E-Reader Acce...           Electronics   \n",
       "1296  Computers,Amazon Echo,Virtual Assistant Speake...  Electronics,Hardware   \n",
       "1679  Amazon Echo,Smart Home,Networking,Home & Tools...  Electronics,Hardware   \n",
       "2477  eBook Readers,Electronics Features,Walmart for...           Electronics   \n",
       "2799  Computers,Fire Tablets,Electronics Features,Co...           Electronics   \n",
       "2973  Electronics,iPad & Tablets,All Tablets,Fire Ta...           Electronics   \n",
       "3467  Electronics,iPad & Tablets,All Tablets,Fire Ta...           Electronics   \n",
       "3493  Computers,Fire Tablets,Electronics Features,Co...           Electronics   \n",
       "\n",
       "                  reviews.date  \\\n",
       "177  2016-07-16 00:00:00+00:00   \n",
       "1296 2017-12-01 00:00:00+00:00   \n",
       "1679 2018-01-05 00:00:00+00:00   \n",
       "2477 2015-04-17 00:00:00+00:00   \n",
       "2799 2017-01-07 00:00:00+00:00   \n",
       "2973 2017-02-11 00:00:00+00:00   \n",
       "3467 2017-02-05 00:00:00+00:00   \n",
       "3493 2017-01-06 00:00:00+00:00   \n",
       "\n",
       "                                           reviews.text   reviews.title  \\\n",
       "177   Works great !!!!!!!!!!!!!!!!!!!!!!!!!!!!!!!!!!...            Good   \n",
       "1296  As advertised....................................   As advertised   \n",
       "1679  So much fun, love it.............................           Alexa   \n",
       "2477  Realllllllllllllllllllllllllllllllllllllllllll...    it's awesome   \n",
       "2799  Great!!!!!!!!!!!!!!!!!!!!!!!!!!!!!!!!!!!!!!!!!...           Great   \n",
       "2973  Excellent product.Relable.Maximum speed.Fast d...            Good   \n",
       "3467  asesome!!!!!!!!!!!!!!!!!!!!!!!!!!!!!!!!!!!!!!!...         awesome   \n",
       "3493  Son loves it.....................................  Great for kids   \n",
       "\n",
       "     sentiment  year  month  weekday  totalwords  maxwordlen  \n",
       "177   Positive  2016      7        5           3          39  \n",
       "1296  Positive  2017     12        4           2          48  \n",
       "1679  Positive  2018      1        4           5          61  \n",
       "2477  Positive  2015      4        4           1          51  \n",
       "2799  Positive  2017      1        5           1          50  \n",
       "2973  Positive  2017      2        5           4          23  \n",
       "3467  Positive  2017      2        6           1         112  \n",
       "3493   Neutral  2017      1        4           3          42  "
      ]
     },
     "execution_count": 14,
     "metadata": {},
     "output_type": "execute_result"
    }
   ],
   "source": [
    "#Check fewer words reviews.\n",
    "\n",
    "train_df[train_df['totalwords']<=5]"
   ]
  },
  {
   "cell_type": "markdown",
   "id": "9f672ce2",
   "metadata": {},
   "source": [
    "#### Check for missing values"
   ]
  },
  {
   "cell_type": "code",
   "execution_count": 15,
   "id": "09de7663",
   "metadata": {},
   "outputs": [
    {
     "data": {
      "text/plain": [
       "name                  0\n",
       "brand                 0\n",
       "categories            0\n",
       "primaryCategories     0\n",
       "reviews.date          0\n",
       "reviews.text          0\n",
       "reviews.title        10\n",
       "sentiment             0\n",
       "year                  0\n",
       "month                 0\n",
       "weekday               0\n",
       "totalwords            0\n",
       "maxwordlen            0\n",
       "dtype: int64"
      ]
     },
     "execution_count": 15,
     "metadata": {},
     "output_type": "execute_result"
    }
   ],
   "source": [
    "train_df.isnull().sum()"
   ]
  },
  {
   "cell_type": "markdown",
   "id": "9eec0f4b",
   "metadata": {},
   "source": [
    "#### reviews.title contains 10 missing values, but we can ignore it for now, as our main focus is on review text."
   ]
  },
  {
   "cell_type": "markdown",
   "id": "38a08ba8",
   "metadata": {},
   "source": [
    "#### Check for duplicate values"
   ]
  },
  {
   "cell_type": "code",
   "execution_count": 16,
   "id": "ed5dce76",
   "metadata": {},
   "outputs": [
    {
     "data": {
      "text/plain": [
       "58"
      ]
     },
     "execution_count": 16,
     "metadata": {},
     "output_type": "execute_result"
    }
   ],
   "source": [
    "train_df.duplicated().sum()"
   ]
  },
  {
   "cell_type": "markdown",
   "id": "bc3a1e76",
   "metadata": {},
   "source": [
    "#### total 58 records are duplicated. "
   ]
  },
  {
   "cell_type": "markdown",
   "id": "5307a65b",
   "metadata": {},
   "source": [
    "#### Doing the product wise review analysis"
   ]
  },
  {
   "cell_type": "code",
   "execution_count": 17,
   "id": "ad991fcb",
   "metadata": {
    "scrolled": true
   },
   "outputs": [
    {
     "data": {
      "text/plain": [
       "name\n",
       "Amazon Echo Show Alexa-enabled Bluetooth Speaker with 7\" Screen                             676\n",
       "All-New Fire HD 8 Tablet, 8\" HD Display, Wi-Fi, 16 GB - Includes Special Offers, Magenta    628\n",
       "Amazon - Echo Plus w/ Built-In Hub - Silver                                                 483\n",
       "Fire Kids Edition Tablet, 7 Display, Wi-Fi, 16 GB, Blue Kid-Proof Case                      446\n",
       "Brand New Amazon Kindle Fire 16gb 7\" Ips Display Tablet Wifi 16 Gb Blue                     372\n",
       "Name: brand, dtype: int64"
      ]
     },
     "execution_count": 17,
     "metadata": {},
     "output_type": "execute_result"
    }
   ],
   "source": [
    "train_df.groupby(['name'])['brand'].count().sort_values(ascending=False).head(5)"
   ]
  },
  {
   "cell_type": "markdown",
   "id": "435a7ab3",
   "metadata": {},
   "source": [
    "- highest review recevied for  Aleax enabled 7\" bluetooth speaker "
   ]
  },
  {
   "cell_type": "markdown",
   "id": "d56c2fd9",
   "metadata": {},
   "source": [
    "#### Review cateogrywise sentiments  "
   ]
  },
  {
   "cell_type": "code",
   "execution_count": 18,
   "id": "856f8b03",
   "metadata": {},
   "outputs": [
    {
     "data": {
      "text/plain": [
       "primaryCategories            sentiment\n",
       "Electronics                  Negative       72\n",
       "                             Neutral       114\n",
       "                             Positive     2414\n",
       "Electronics,Hardware         Negative       19\n",
       "                             Neutral        32\n",
       "                             Positive     1108\n",
       "Electronics,Media            Positive       17\n",
       "Office Supplies,Electronics  Negative        3\n",
       "                             Neutral        11\n",
       "                             Positive      210\n",
       "Name: brand, dtype: int64"
      ]
     },
     "execution_count": 18,
     "metadata": {},
     "output_type": "execute_result"
    }
   ],
   "source": [
    "df_cat_sentiment = train_df.groupby(['primaryCategories','sentiment'])['brand'].count()\n",
    "df_cat_sentiment"
   ]
  },
  {
   "cell_type": "code",
   "execution_count": 19,
   "id": "cd84d29b",
   "metadata": {},
   "outputs": [
    {
     "data": {
      "text/plain": [
       "<AxesSubplot:ylabel='primaryCategories'>"
      ]
     },
     "execution_count": 19,
     "metadata": {},
     "output_type": "execute_result"
    },
    {
     "data": {
      "image/png": "[encoded data removed]",
      "text/plain": [
       "<Figure size 432x288 with 1 Axes>"
      ]
     },
     "metadata": {
      "needs_background": "light"
     },
     "output_type": "display_data"
    }
   ],
   "source": [
    " df_cat_sentiment.unstack().plot(kind='barh',stacked=True)"
   ]
  },
  {
   "cell_type": "markdown",
   "id": "0dbcfae6",
   "metadata": {},
   "source": [
    "- Majority of reviews are in Electronics category and most of them are Positive reviews\n",
    "- Electronics,Media contains very few reviews and all are positive"
   ]
  },
  {
   "cell_type": "code",
   "execution_count": 20,
   "id": "e8e387d1",
   "metadata": {},
   "outputs": [],
   "source": [
    "#### We can check most frequent words using Wordcount for each sentiment"
   ]
  },
  {
   "cell_type": "code",
   "execution_count": 21,
   "id": "5f2fd23c",
   "metadata": {},
   "outputs": [
    {
     "data": {
      "image/png": "[encoded data removed]",
      "text/plain": [
       "<Figure size 432x288 with 1 Axes>"
      ]
     },
     "metadata": {
      "needs_background": "light"
     },
     "output_type": "display_data"
    }
   ],
   "source": [
    "#Most frequent word used in Positive sentiment\n",
    "\n",
    "Positive_data = train_df.loc[train_df['sentiment']=='Positive', 'reviews.text']\n",
    "words = \" \".join(Data.split()[0] for Data in Positive_data)\n",
    "word_cloud = WordCloud(collocations = False, background_color = 'white').generate(words)\n",
    "plt.imshow(word_cloud, interpolation='bilinear')\n",
    "plt.axis(\"off\")\n",
    "plt.show()"
   ]
  },
  {
   "cell_type": "code",
   "execution_count": 22,
   "id": "bdd6dade",
   "metadata": {},
   "outputs": [
    {
     "data": {
      "image/png": "[encoded data removed]",
      "text/plain": [
       "<Figure size 432x288 with 1 Axes>"
      ]
     },
     "metadata": {
      "needs_background": "light"
     },
     "output_type": "display_data"
    }
   ],
   "source": [
    "#Most frequent word used in Negative sentiment\n",
    "\n",
    "Negative_data = train_df.loc[train_df['sentiment']=='Negative', 'reviews.text']\n",
    "words = \" \".join(Data.split()[0] for Data in Negative_data)\n",
    "word_cloud = WordCloud(collocations = False, background_color = 'white').generate(words)\n",
    "plt.imshow(word_cloud, interpolation='bilinear')\n",
    "plt.axis(\"off\")\n",
    "plt.show()"
   ]
  },
  {
   "cell_type": "code",
   "execution_count": 23,
   "id": "9e1bb279",
   "metadata": {},
   "outputs": [
    {
     "data": {
      "image/png": "[encoded data removed]",
      "text/plain": [
       "<Figure size 432x288 with 1 Axes>"
      ]
     },
     "metadata": {
      "needs_background": "light"
     },
     "output_type": "display_data"
    }
   ],
   "source": [
    "#Most frequent word used in Neutral sentiment\n",
    "\n",
    "Negative_data = train_df.loc[train_df['sentiment']=='Neutral', 'reviews.text']\n",
    "words = \" \".join(Data.split()[0] for Data in Negative_data)\n",
    "word_cloud = WordCloud(collocations = False, background_color = 'white').generate(words)\n",
    "plt.imshow(word_cloud, interpolation='bilinear')\n",
    "plt.axis(\"off\")\n",
    "plt.show()"
   ]
  },
  {
   "cell_type": "code",
   "execution_count": 24,
   "id": "71fe1113",
   "metadata": {},
   "outputs": [
    {
     "data": {
      "text/plain": [
       "Positive    3749\n",
       "Neutral      157\n",
       "Negative      94\n",
       "Name: sentiment, dtype: int64"
      ]
     },
     "execution_count": 24,
     "metadata": {},
     "output_type": "execute_result"
    }
   ],
   "source": [
    "# Distribution of each sentiment\n",
    "\n",
    "train_df.sentiment.value_counts()"
   ]
  },
  {
   "cell_type": "code",
   "execution_count": 25,
   "id": "a892e80b",
   "metadata": {
    "scrolled": true
   },
   "outputs": [
    {
     "data": {
      "image/png": "[encoded data removed]",
      "text/plain": [
       "<Figure size 432x288 with 1 Axes>"
      ]
     },
     "metadata": {
      "needs_background": "light"
     },
     "output_type": "display_data"
    }
   ],
   "source": [
    "\n",
    "sns.countplot(train_df['sentiment'])\n",
    "plt.show()"
   ]
  },
  {
   "cell_type": "code",
   "execution_count": 26,
   "id": "138ed3ad",
   "metadata": {},
   "outputs": [
    {
     "data": {
      "image/png": "[encoded data removed]",
      "text/plain": [
       "<Figure size 432x288 with 1 Axes>"
      ]
     },
     "metadata": {},
     "output_type": "display_data"
    }
   ],
   "source": [
    "# Check the percentage of each sentiment type\n",
    "\n",
    "train_df.sentiment.value_counts().plot(kind='pie',autopct='%.2f',textprops={'fontsize': 12},label='')\n",
    "plt.tight_layout()\n",
    "plt.show()"
   ]
  },
  {
   "cell_type": "markdown",
   "id": "7e8238b0",
   "metadata": {},
   "source": [
    "#### More than 93 percent data is for positive sentiment. 3.93 percent is Neutral and 2.35 percent Negative sentiments. The data is higly imbalanced. Will review later on imbalance data "
   ]
  },
  {
   "cell_type": "code",
   "execution_count": null,
   "id": "699885d5",
   "metadata": {},
   "outputs": [],
   "source": []
  },
  {
   "cell_type": "markdown",
   "id": "398a4b64",
   "metadata": {},
   "source": [
    "## Data Preprocessing"
   ]
  },
  {
   "cell_type": "code",
   "execution_count": 27,
   "id": "399ff507",
   "metadata": {},
   "outputs": [
    {
     "data": {
      "text/plain": [
       "(3942, 13)"
      ]
     },
     "execution_count": 27,
     "metadata": {},
     "output_type": "execute_result"
    }
   ],
   "source": [
    "#### We can remove duplicate entries as we need to use unique enteries for better analysis\n",
    "duplicated_data = train_df.duplicated(keep='first')\n",
    "df_new = train_df[~duplicated_data] \n",
    "df_new.shape"
   ]
  },
  {
   "cell_type": "code",
   "execution_count": 28,
   "id": "7dc8a083",
   "metadata": {},
   "outputs": [
    {
     "data": {
      "text/plain": [
       "(3934, 13)"
      ]
     },
     "execution_count": 28,
     "metadata": {},
     "output_type": "execute_result"
    }
   ],
   "source": [
    "#### keep only those review which contains at least 5 words\n",
    "df_new = df_new.loc[(train_df['totalwords']>5)]\n",
    "df_new.shape"
   ]
  },
  {
   "cell_type": "code",
   "execution_count": 29,
   "id": "63cd8815",
   "metadata": {},
   "outputs": [],
   "source": [
    "def word_baseword(word):\n",
    "    import nltk\n",
    "    from nltk.stem.wordnet import WordNetLemmatizer\n",
    "    from nltk.tokenize import word_tokenize\n",
    "    from nltk.corpus import wordnet as wn\n",
    "\n",
    "    noun_list = ['NN', 'NNS', 'NNP', 'NNPS']\n",
    "    verb_list = ['VB', 'VBD', 'VBG', 'VBN', 'VBP', 'VBZ']\n",
    "    adverb_list = ['RB', 'RBR', 'RBS']\n",
    "    adjective_list = ['JJ', 'JJR', 'JJS']\n",
    "        \n",
    "    \n",
    "    tags = nltk.pos_tag(word_tokenize(word))\n",
    "    for tag in tags:\n",
    "\n",
    "        if tag[1] in adjective_list:\n",
    "            word = WordNetLemmatizer().lemmatize(tag[0],wn.ADJ) \n",
    "        elif tag[1] in noun_list:\n",
    "            word = WordNetLemmatizer().lemmatize(tag[0],wn.NOUN) \n",
    "        elif tag[1] in adverb_list:\n",
    "            word = WordNetLemmatizer().lemmatize(tag[0],wn.ADV)\n",
    "        elif tag[1] in verb_list:\n",
    "             word = WordNetLemmatizer().lemmatize(tag[0], wn.VERB)\n",
    "   \n",
    "    return word"
   ]
  },
  {
   "cell_type": "code",
   "execution_count": 30,
   "id": "2e993695",
   "metadata": {},
   "outputs": [],
   "source": [
    "def preprocess_text(text,tokenizer=None):\n",
    "    \n",
    "    lemmatizer = WordNetLemmatizer()\n",
    "    \n",
    "    text = text.lower()\n",
    "    text = text.replace(\".\",\", \").replace(\". \", \", \")\n",
    "    text = re.sub(r'[()]', \" \", text)\n",
    "    text = re.sub(r\"\\d+\",\" \",text)\n",
    "    text = text.translate(str.maketrans('','',string.punctuation))\n",
    "\n",
    "    new_stopwords = [\"amazon\",\"pros\",\"cons\",\"ive\"]\n",
    "    exclude_words = [\"not\"]\n",
    "    stop_words = nltk.corpus.stopwords.words('english')\n",
    "    \n",
    "    for word in exclude_words:\n",
    "        stop_words.remove(word)\n",
    "    \n",
    "    stop_words.extend(new_stopwords)\n",
    "\n",
    "    tokens = word_tokenize(text)  # Get tokens from text\n",
    "    tokens = [word_baseword(t) for t in tokens if not t in stop_words]  # Remove stopwords\n",
    "    \n",
    "    #tokens = [word_baseword(t) for t in tokens]  # Remove stopwords\n",
    "    tokens = [t for t in tokens if len(t) > 2]  # Remove short tokens\n",
    "\n",
    "    \n",
    "    if tokenizer is not None:\n",
    "        return tokens\n",
    "    else:\n",
    "        clean_tokens = []\n",
    "        for tok in tokens:\n",
    "            tok = tok.strip() # remove space\n",
    "            clean_tokens.append(tok)\n",
    "        return \" \".join(clean_tokens)\n"
   ]
  },
  {
   "cell_type": "code",
   "execution_count": 31,
   "id": "ee52a307",
   "metadata": {},
   "outputs": [],
   "source": [
    "X = df_new['reviews.text']\n",
    "y = df_new['sentiment']"
   ]
  },
  {
   "cell_type": "code",
   "execution_count": 32,
   "id": "cf708d66",
   "metadata": {},
   "outputs": [
    {
     "data": {
      "text/plain": [
       "((3147,), (787,))"
      ]
     },
     "execution_count": 32,
     "metadata": {},
     "output_type": "execute_result"
    }
   ],
   "source": [
    "from sklearn.model_selection import train_test_split\n",
    "X_train,X_val,y_train,y_val = train_test_split(X,y,test_size=0.20,random_state=42)\n",
    "X_train.shape,X_val.shape"
   ]
  },
  {
   "cell_type": "code",
   "execution_count": 33,
   "id": "7a273a34",
   "metadata": {},
   "outputs": [
    {
     "data": {
      "text/plain": [
       "1963    first tablet far pleased fire tablet not gamer...\n",
       "2360    quite satisfied purchase however pay dollar sm...\n",
       "3084    ereader great start reading kindle read paperb...\n",
       "1567              good tablet kid lot appts download game\n",
       "1922    touch load content bad doesnt respond quickly ...\n",
       "Name: reviews.text, dtype: object"
      ]
     },
     "execution_count": 33,
     "metadata": {},
     "output_type": "execute_result"
    }
   ],
   "source": [
    "X_train = X_train.apply(lambda x: preprocess_text(x,))\n",
    "X_train_clean = X_train\n",
    "y_train_clean = y_train\n",
    "\n",
    "X_test = test_df['reviews.text']\n",
    "y_test = test_df['sentiment']\n",
    "\n",
    "X_train.head()"
   ]
  },
  {
   "cell_type": "code",
   "execution_count": 34,
   "id": "215491c9",
   "metadata": {},
   "outputs": [
    {
     "data": {
      "text/plain": [
       "0    Amazon kindle fire has a lot of free app and c...\n",
       "Name: reviews.text, dtype: object"
      ]
     },
     "execution_count": 34,
     "metadata": {},
     "output_type": "execute_result"
    }
   ],
   "source": [
    "X_test[:1]"
   ]
  },
  {
   "cell_type": "code",
   "execution_count": 35,
   "id": "857ce820",
   "metadata": {},
   "outputs": [],
   "source": [
    "from sklearn.metrics import confusion_matrix\n",
    "from sklearn.metrics import recall_score\n",
    "from sklearn.metrics import precision_score\n",
    "from sklearn.metrics import accuracy_score\n",
    "\n",
    "from sklearn.metrics import f1_score\n",
    "from sklearn.pipeline import Pipeline\n",
    "from sklearn.naive_bayes import MultinomialNB\n",
    "from sklearn.feature_extraction.text import TfidfVectorizer\n",
    "from sklearn.feature_extraction.text import TfidfTransformer\n",
    "from sklearn.feature_extraction.text import CountVectorizer "
   ]
  },
  {
   "cell_type": "code",
   "execution_count": 36,
   "id": "e595db28",
   "metadata": {},
   "outputs": [],
   "source": [
    "MNB_model = Pipeline([(\"vect\", CountVectorizer(stop_words= \"english\")), \n",
    "                            (\"tfidf\", TfidfTransformer()), \n",
    "                            (\"clf_multinomialnb\", MultinomialNB())])\n"
   ]
  },
  {
   "cell_type": "code",
   "execution_count": 37,
   "id": "3d681bab",
   "metadata": {},
   "outputs": [],
   "source": [
    "MNB_model.fit(X_train,y_train)\n",
    "predictedMultiNB = MNB_model.predict(X_val)"
   ]
  },
  {
   "cell_type": "code",
   "execution_count": 38,
   "id": "054852aa",
   "metadata": {},
   "outputs": [
    {
     "data": {
      "text/plain": [
       "array([[  0,   0,   0],\n",
       "       [  0,   0,   0],\n",
       "       [ 19,  23, 745]], dtype=int64)"
      ]
     },
     "execution_count": 38,
     "metadata": {},
     "output_type": "execute_result"
    }
   ],
   "source": [
    "confusion_matrix(predictedMultiNB,y_val)"
   ]
  },
  {
   "cell_type": "code",
   "execution_count": 39,
   "id": "c94a8af5",
   "metadata": {},
   "outputs": [
    {
     "name": "stdout",
     "output_type": "stream",
     "text": [
      "              precision    recall  f1-score   support\n",
      "\n",
      "    Negative       0.00      0.00      0.00        19\n",
      "     Neutral       0.00      0.00      0.00        23\n",
      "    Positive       0.95      1.00      0.97       745\n",
      "\n",
      "    accuracy                           0.95       787\n",
      "   macro avg       0.32      0.33      0.32       787\n",
      "weighted avg       0.90      0.95      0.92       787\n",
      "\n"
     ]
    }
   ],
   "source": [
    "print(classification_report(y_val, predictedMultiNB))\n"
   ]
  },
  {
   "cell_type": "code",
   "execution_count": 40,
   "id": "71957426",
   "metadata": {
    "scrolled": false
   },
   "outputs": [
    {
     "data": {
      "image/png": "[encoded data removed]",
      "text/plain": [
       "<Figure size 432x288 with 2 Axes>"
      ]
     },
     "metadata": {
      "needs_background": "light"
     },
     "output_type": "display_data"
    }
   ],
   "source": [
    "from sklearn.metrics import plot_confusion_matrix\n",
    "\n",
    "plot_confusion_matrix(MNB_model,X_val,y_val)\n",
    "plt.show()"
   ]
  },
  {
   "cell_type": "markdown",
   "id": "32ac1067",
   "metadata": {},
   "source": [
    "#### validate if every review is 'Positive'"
   ]
  },
  {
   "cell_type": "code",
   "execution_count": 41,
   "id": "e30311a8",
   "metadata": {},
   "outputs": [
    {
     "data": {
      "text/plain": [
       "'Positive'"
      ]
     },
     "execution_count": 41,
     "metadata": {},
     "output_type": "execute_result"
    }
   ],
   "source": [
    "newtext = ['bad product']\n",
    "predict_text = MNB_model.predict(newtext)\n",
    "predict_text[0]"
   ]
  },
  {
   "cell_type": "markdown",
   "id": "f397f770",
   "metadata": {},
   "source": [
    "#### Dataset is imbalanced because of that every predicted review is 'Positive'. \n",
    "#### We need to balanced data to get the better predicted result"
   ]
  },
  {
   "cell_type": "markdown",
   "id": "6b077c50",
   "metadata": {},
   "source": [
    "#### review data is text data, so first we need to convert text data to vector data "
   ]
  },
  {
   "cell_type": "code",
   "execution_count": 42,
   "id": "5a5f5142",
   "metadata": {},
   "outputs": [],
   "source": [
    "#Resampling minority class using SMOTE"
   ]
  },
  {
   "cell_type": "code",
   "execution_count": null,
   "id": "263e9026",
   "metadata": {},
   "outputs": [],
   "source": []
  },
  {
   "cell_type": "code",
   "execution_count": 43,
   "id": "1c7a0720",
   "metadata": {},
   "outputs": [],
   "source": [
    "# Now again we can test with MultinomialNB"
   ]
  },
  {
   "cell_type": "code",
   "execution_count": 44,
   "id": "a0d95e39",
   "metadata": {
    "scrolled": true
   },
   "outputs": [
    {
     "name": "stdout",
     "output_type": "stream",
     "text": [
      "--------- mnb\n",
      "              precision    recall  f1-score   support\n",
      "\n",
      "    Negative       0.26      0.37      0.30        19\n",
      "     Neutral       0.11      0.22      0.15        23\n",
      "    Positive       0.96      0.92      0.94       745\n",
      "\n",
      "    accuracy                           0.89       787\n",
      "   macro avg       0.45      0.50      0.47       787\n",
      "weighted avg       0.92      0.89      0.90       787\n",
      "\n",
      "-------------------------------------------\n",
      "--------- dt\n",
      "              precision    recall  f1-score   support\n",
      "\n",
      "    Negative       0.23      0.47      0.31        19\n",
      "     Neutral       0.10      0.22      0.14        23\n",
      "    Positive       0.97      0.91      0.94       745\n",
      "\n",
      "    accuracy                           0.88       787\n",
      "   macro avg       0.43      0.53      0.46       787\n",
      "weighted avg       0.93      0.88      0.90       787\n",
      "\n",
      "-------------------------------------------\n",
      "--------- rf\n",
      "              precision    recall  f1-score   support\n",
      "\n",
      "    Negative       1.00      0.16      0.27        19\n",
      "     Neutral       0.60      0.13      0.21        23\n",
      "    Positive       0.95      1.00      0.98       745\n",
      "\n",
      "    accuracy                           0.95       787\n",
      "   macro avg       0.85      0.43      0.49       787\n",
      "weighted avg       0.94      0.95      0.94       787\n",
      "\n",
      "-------------------------------------------\n",
      "--------- svm_linear\n",
      "              precision    recall  f1-score   support\n",
      "\n",
      "    Negative       0.75      0.32      0.44        19\n",
      "     Neutral       0.26      0.22      0.24        23\n",
      "    Positive       0.96      0.98      0.97       745\n",
      "\n",
      "    accuracy                           0.94       787\n",
      "   macro avg       0.66      0.51      0.55       787\n",
      "weighted avg       0.94      0.94      0.94       787\n",
      "\n",
      "-------------------------------------------\n",
      "--------- ada\n",
      "              precision    recall  f1-score   support\n",
      "\n",
      "    Negative       0.33      0.16      0.21        19\n",
      "     Neutral       0.09      0.52      0.15        23\n",
      "    Positive       0.97      0.83      0.90       745\n",
      "\n",
      "    accuracy                           0.81       787\n",
      "   macro avg       0.46      0.50      0.42       787\n",
      "weighted avg       0.93      0.81      0.86       787\n",
      "\n",
      "-------------------------------------------\n",
      "--------- knn\n",
      "              precision    recall  f1-score   support\n",
      "\n",
      "    Negative       0.05      0.53      0.10        19\n",
      "     Neutral       0.04      0.74      0.08        23\n",
      "    Positive       0.99      0.23      0.38       745\n",
      "\n",
      "    accuracy                           0.25       787\n",
      "   macro avg       0.36      0.50      0.18       787\n",
      "weighted avg       0.94      0.25      0.36       787\n",
      "\n",
      "-------------------------------------------\n",
      "--------- xgb\n",
      "              precision    recall  f1-score   support\n",
      "\n",
      "    Negative       0.55      0.32      0.40        19\n",
      "     Neutral       0.17      0.22      0.19        23\n",
      "    Positive       0.96      0.97      0.96       745\n",
      "\n",
      "    accuracy                           0.93       787\n",
      "   macro avg       0.56      0.50      0.52       787\n",
      "weighted avg       0.93      0.93      0.93       787\n",
      "\n",
      "-------------------------------------------\n"
     ]
    }
   ],
   "source": [
    "from imblearn.over_sampling import SMOTE\n",
    "from imblearn.pipeline import make_pipeline as make_pipeline_imb\n",
    "from imblearn.metrics import classification_report_imbalanced\n",
    "\n",
    "from sklearn.ensemble import RandomForestClassifier\n",
    "from xgboost import XGBClassifier\n",
    "from sklearn.tree import DecisionTreeClassifier\n",
    "from sklearn.svm import LinearSVC\n",
    "from sklearn import svm\n",
    "from sklearn.neighbors import KNeighborsClassifier  \n",
    "from sklearn.ensemble import AdaBoostClassifier\n",
    "\n",
    "MNB = make_pipeline_imb(TfidfVectorizer(), SMOTE(), MultinomialNB())\n",
    "DT = make_pipeline_imb(TfidfVectorizer(), SMOTE(), DecisionTreeClassifier())\n",
    "RF = make_pipeline_imb(TfidfVectorizer(), SMOTE(), RandomForestClassifier())\n",
    "SVM = make_pipeline_imb(TfidfVectorizer(), SMOTE(), LinearSVC())\n",
    "ADA = make_pipeline_imb(TfidfVectorizer(), SMOTE(), AdaBoostClassifier())\n",
    "KNN = make_pipeline_imb(TfidfVectorizer(), SMOTE(), KNeighborsClassifier())\n",
    "XGB = make_pipeline_imb(TfidfVectorizer(), SMOTE(), XGBClassifier(eval_metric='mlogloss'))\n",
    "\n",
    "models = {'mnb':MNB,'dt':DT,'rf':RF,'svm_linear':SVM,'ada':ADA,'knn':KNN,'xgb':XGB}\n",
    "\n",
    "\n",
    "f1_score_dict = {}\n",
    "\n",
    "for i in models:\n",
    "    print('---------',i)\n",
    "    models[i].fit(X_train,y_train)\n",
    "    y_pred = models[i].predict(X_val)\n",
    "    print(classification_report(y_val, y_pred))\n",
    "    f1score = f1_score(y_val,y_pred,average='macro')\n",
    "    f1_score_dict[i] = f1score\n",
    "    \n",
    "    print(\"-------------------------------------------\")\n",
    "\n",
    "\n"
   ]
  },
  {
   "cell_type": "code",
   "execution_count": 45,
   "id": "9d4f98f7",
   "metadata": {},
   "outputs": [
    {
     "data": {
      "text/plain": [
       "{'mnb': 0.465597051199083,\n",
       " 'dt': 0.4612728733160363,\n",
       " 'rf': 0.4873595346036291,\n",
       " 'svm_linear': 0.5517657192075797,\n",
       " 'ada': 0.4199442354548328,\n",
       " 'knn': 0.18292265127689697,\n",
       " 'xgb': 0.5187048876056919}"
      ]
     },
     "execution_count": 45,
     "metadata": {},
     "output_type": "execute_result"
    }
   ],
   "source": [
    "f1_score_dict"
   ]
  },
  {
   "cell_type": "code",
   "execution_count": 46,
   "id": "3c734cd3",
   "metadata": {},
   "outputs": [
    {
     "data": {
      "text/plain": [
       "<BarContainer object of 7 artists>"
      ]
     },
     "execution_count": 46,
     "metadata": {},
     "output_type": "execute_result"
    },
    {
     "data": {
      "image/png": "[encoded data removed]",
      "text/plain": [
       "<Figure size 432x288 with 1 Axes>"
      ]
     },
     "metadata": {
      "needs_background": "light"
     },
     "output_type": "display_data"
    }
   ],
   "source": [
    "plt.bar(f1_score_dict.keys(), f1_score_dict.values(), color='g')\n"
   ]
  },
  {
   "cell_type": "code",
   "execution_count": 47,
   "id": "1d6c6cc0",
   "metadata": {},
   "outputs": [],
   "source": [
    "#SVM gives better performance"
   ]
  },
  {
   "cell_type": "code",
   "execution_count": 48,
   "id": "6a7243a7",
   "metadata": {},
   "outputs": [
    {
     "name": "stdout",
     "output_type": "stream",
     "text": [
      "              precision    recall  f1-score   support\n",
      "\n",
      "    Negative       0.67      0.25      0.36        24\n",
      "     Neutral       0.44      0.31      0.36        39\n",
      "    Positive       0.96      0.98      0.97       937\n",
      "\n",
      "    accuracy                           0.94      1000\n",
      "   macro avg       0.69      0.51      0.57      1000\n",
      "weighted avg       0.93      0.94      0.93      1000\n",
      "\n"
     ]
    }
   ],
   "source": [
    "SVM.fit(X_train,y_train)\n",
    "y_pred = SVM.predict(X_test)\n",
    "print(classification_report(y_test, y_pred))\n"
   ]
  },
  {
   "cell_type": "code",
   "execution_count": 49,
   "id": "da6f7fa6",
   "metadata": {},
   "outputs": [
    {
     "data": {
      "image/png": "[encoded data removed]",
      "text/plain": [
       "<Figure size 432x288 with 2 Axes>"
      ]
     },
     "metadata": {
      "needs_background": "light"
     },
     "output_type": "display_data"
    }
   ],
   "source": [
    "y_pred = SVM.predict(X_test)\n",
    "plot_confusion_matrix(SVM,X_test,y_test)\n",
    "plt.show()"
   ]
  },
  {
   "cell_type": "code",
   "execution_count": null,
   "id": "c7ebbb59",
   "metadata": {},
   "outputs": [],
   "source": []
  },
  {
   "cell_type": "code",
   "execution_count": null,
   "id": "62c8db21",
   "metadata": {},
   "outputs": [],
   "source": []
  },
  {
   "cell_type": "code",
   "execution_count": null,
   "id": "50018f06",
   "metadata": {},
   "outputs": [],
   "source": []
  },
  {
   "cell_type": "markdown",
   "id": "215d0983",
   "metadata": {},
   "source": [
    "#### Will check if using Word2Vec word embedding technique can we get better result than tfidf"
   ]
  },
  {
   "cell_type": "code",
   "execution_count": 50,
   "id": "632d6677",
   "metadata": {},
   "outputs": [
    {
     "data": {
      "text/plain": [
       "5000"
      ]
     },
     "execution_count": 50,
     "metadata": {},
     "output_type": "execute_result"
    }
   ],
   "source": [
    "df1 = train_df['reviews.text']\n",
    "df2 = test_df['reviews.text']  \n",
    "  \n",
    "frames = [df1, df2]\n",
    "  \n",
    "total_reviews = pd.concat(frames)\n",
    "total_reviews\n",
    "\n",
    "review_lines = list()\n",
    "\n",
    "for line in total_reviews:\n",
    "    tokens = word_tokenize(line)\n",
    "    lower_tokens  = [w.lower() for w in tokens]\n",
    "    table = str.maketrans('','',string.punctuation)\n",
    "    stripped = [w.translate(table) for w in lower_tokens]\n",
    "    normal_words = [w for w in stripped if w.isalpha()]\n",
    "    #stop_words = set(stopwords.words('english'))\n",
    "    #words = [w for w in lower_tokens if w not in stop_words ]\n",
    "    literals = \"~!@#$%^&*()_-+][]}{}.,<>?\"\n",
    "    words = [w for w in normal_words if w not in literals ]\n",
    "                 \n",
    "    review_lines.append(words)\n",
    "    \n",
    "len(review_lines)"
   ]
  },
  {
   "cell_type": "code",
   "execution_count": 51,
   "id": "94ad286f",
   "metadata": {},
   "outputs": [],
   "source": [
    "class Sequencer():\n",
    "    \n",
    "    def __init__(self,\n",
    "                 all_words,\n",
    "                 max_words,\n",
    "                 seq_len,\n",
    "                 embedding_matrix\n",
    "                ):\n",
    "        \n",
    "        self.seq_len = seq_len\n",
    "        self.embed_matrix = embedding_matrix\n",
    "        \"\"\"\n",
    "        temp_vocab = For all the unique words\n",
    "        self.vocab = Our last vocab which has only most used N words.\n",
    "    \n",
    "        \"\"\"\n",
    "        temp_vocab = list(set(all_words))\n",
    "        self.vocab = []\n",
    "        self.word_cnts = {}\n",
    "        \"\"\"\n",
    "        Now we'll create a hash map (dict) which includes words and their occurence\n",
    "        \"\"\"\n",
    "        for word in temp_vocab:\n",
    "            # 0 does not have a meaning, add the word to the list\n",
    "            count = len([0 for w in all_words if w == word])\n",
    "            self.word_cnts[word] = count\n",
    "            counts = list(self.word_cnts.values())\n",
    "            indexes = list(range(len(counts)))\n",
    "        \n",
    "        # Now we'll sort counts and while sorting them also will sort indexes.\n",
    "        # We'll use those indexes to find most used N word.\n",
    "        cnt = 0\n",
    "        while cnt + 1 != len(counts):\n",
    "            cnt = 0\n",
    "            for i in range(len(counts)-1):\n",
    "                if counts[i] < counts[i+1]:\n",
    "                    counts[i+1],counts[i] = counts[i],counts[i+1]\n",
    "                    indexes[i],indexes[i+1] = indexes[i+1],indexes[i]\n",
    "                else:\n",
    "                    cnt += 1\n",
    "        \n",
    "        for ind in indexes[:max_words]:\n",
    "            self.vocab.append(temp_vocab[ind])\n",
    "                    \n",
    "    def textToVector(self,text):\n",
    "        # First we need to split the text into its tokens and learn the length\n",
    "        # If length is shorter than the max len we'll add some spaces (100D vectors which has only zero values)\n",
    "        # If it's longer than the max len we'll trim from the end.\n",
    "        tokens = text.split()\n",
    "        len_v = len(tokens)-1 if len(tokens) < self.seq_len else self.seq_len-1\n",
    "        vec = []\n",
    "        for tok in tokens[:len_v]:\n",
    "            try:\n",
    "                vec.append(self.embed_matrix[tok])\n",
    "            except Exception as E:\n",
    "                pass\n",
    "        \n",
    "        last_pieces = self.seq_len - len(vec)\n",
    "        for i in range(last_pieces):\n",
    "            vec.append(np.zeros(100,))\n",
    "        \n",
    "        return np.asarray(vec).flatten()\n",
    "     "
   ]
  },
  {
   "cell_type": "code",
   "execution_count": 52,
   "id": "3135d6e6",
   "metadata": {},
   "outputs": [
    {
     "data": {
      "text/plain": [
       "5000"
      ]
     },
     "execution_count": 52,
     "metadata": {},
     "output_type": "execute_result"
    }
   ],
   "source": [
    "\n",
    "review_lines = list()\n",
    "\n",
    "lines = total_reviews.tolist()\n",
    "for line in lines:\n",
    "    tokens = word_tokenize(line)\n",
    "    lower_tokens  = [w.lower() for w in tokens]\n",
    "    table = str.maketrans('','',string.punctuation)\n",
    "    stripped = [w.translate(table) for w in lower_tokens]\n",
    "    normal_words = [w for w in stripped if w.isalpha()]\n",
    "    #stop_words = set(stopwords.words('english'))\n",
    "    #words = [w for w in lower_tokens if w not in stop_words ]\n",
    "    literals = \"~!@#$%^&*()_-+][]}{}.,<>?\"\n",
    "    words = [w for w in normal_words if w not in literals ]\n",
    "                 \n",
    "    review_lines.append(words)\n",
    "    \n",
    "len(review_lines)"
   ]
  },
  {
   "cell_type": "code",
   "execution_count": 53,
   "id": "44287658",
   "metadata": {},
   "outputs": [],
   "source": [
    "#### Save word vectors into a file\n",
    "\n",
    "import gensim\n",
    "from gensim.models import Word2Vec\n",
    "num_features = 10\n",
    "\n",
    "w2vec_model = gensim.models.Word2Vec(sentences=review_lines,vector_size=100,window=5,workers=4,min_count=1)\n",
    "words = w2vec_model.wv\n",
    "\n",
    "filename='word2vec_amazon_review.txt'\n",
    "w2vec_model.wv.save_word2vec_format(filename,binary=False)"
   ]
  },
  {
   "cell_type": "code",
   "execution_count": 54,
   "id": "154f9cd9",
   "metadata": {},
   "outputs": [],
   "source": [
    "sequencer = Sequencer(all_words = [token for seq in review_lines for token in seq],\n",
    "              max_words = 1200,\n",
    "              seq_len = 15,\n",
    "              embedding_matrix = w2vec_model.wv\n",
    "             )\n"
   ]
  },
  {
   "cell_type": "code",
   "execution_count": 55,
   "id": "be244fe7",
   "metadata": {},
   "outputs": [
    {
     "name": "stdout",
     "output_type": "stream",
     "text": [
      "(3147, 1500)\n",
      "(3147,)\n"
     ]
    }
   ],
   "source": [
    "\n",
    "X_train_vecs = np.asarray([sequencer.textToVector(\" \".join(seq)) for seq in X_train_clean])\n",
    "print(X_train_vecs.shape)\n",
    "print(y_train.shape)"
   ]
  },
  {
   "cell_type": "code",
   "execution_count": 56,
   "id": "9040a327",
   "metadata": {},
   "outputs": [
    {
     "name": "stdout",
     "output_type": "stream",
     "text": [
      "(1000, 1500)\n",
      "(1000,)\n"
     ]
    }
   ],
   "source": [
    "x_test_vecs = np.asarray([sequencer.textToVector(\" \".join(seq)) for seq in X_test])\n",
    "print(x_test_vecs.shape)\n",
    "print(y_test.shape)"
   ]
  },
  {
   "cell_type": "code",
   "execution_count": 57,
   "id": "59b88962",
   "metadata": {},
   "outputs": [
    {
     "name": "stdout",
     "output_type": "stream",
     "text": [
      "Sum of variance ratios:  0.9944394315122154\n"
     ]
    },
    {
     "data": {
      "text/plain": [
       "(3147, 50)"
      ]
     },
     "execution_count": 57,
     "metadata": {},
     "output_type": "execute_result"
    }
   ],
   "source": [
    "from sklearn.decomposition import PCA\n",
    "pca_model = PCA(n_components=50)\n",
    "pca_model.fit(X_train_vecs)\n",
    "print(\"Sum of variance ratios: \",sum(pca_model.explained_variance_ratio_))\n",
    "\n",
    "X_train_comps = pca_model.transform(X_train_vecs)\n",
    "X_test_comps = pca_model.transform(x_test_vecs)\n",
    "X_train_comps.shape"
   ]
  },
  {
   "cell_type": "code",
   "execution_count": null,
   "id": "ffca68e9",
   "metadata": {},
   "outputs": [],
   "source": []
  },
  {
   "cell_type": "code",
   "execution_count": 58,
   "id": "ddb39b26",
   "metadata": {},
   "outputs": [
    {
     "name": "stdout",
     "output_type": "stream",
     "text": [
      "--------- dt\n",
      "              precision    recall  f1-score   support\n",
      "\n",
      "    Negative       0.03      0.12      0.05        24\n",
      "     Neutral       0.04      0.13      0.06        39\n",
      "    Positive       0.94      0.77      0.84       937\n",
      "\n",
      "    accuracy                           0.73      1000\n",
      "   macro avg       0.34      0.34      0.32      1000\n",
      "weighted avg       0.88      0.73      0.80      1000\n",
      "\n",
      "--------- rf\n",
      "              precision    recall  f1-score   support\n",
      "\n",
      "    Negative       0.17      0.04      0.07        24\n",
      "     Neutral       0.00      0.00      0.00        39\n",
      "    Positive       0.94      0.98      0.96       937\n",
      "\n",
      "    accuracy                           0.92      1000\n",
      "   macro avg       0.37      0.34      0.34      1000\n",
      "weighted avg       0.88      0.92      0.90      1000\n",
      "\n",
      "--------- svm_linear\n",
      "              precision    recall  f1-score   support\n",
      "\n",
      "    Negative       0.03      0.38      0.06        24\n",
      "     Neutral       0.04      0.33      0.08        39\n",
      "    Positive       0.94      0.43      0.59       937\n",
      "\n",
      "    accuracy                           0.42      1000\n",
      "   macro avg       0.34      0.38      0.24      1000\n",
      "weighted avg       0.89      0.42      0.56      1000\n",
      "\n",
      "--------- ada\n",
      "              precision    recall  f1-score   support\n",
      "\n",
      "    Negative       0.04      0.21      0.07        24\n",
      "     Neutral       0.07      0.33      0.11        39\n",
      "    Positive       0.95      0.70      0.81       937\n",
      "\n",
      "    accuracy                           0.67      1000\n",
      "   macro avg       0.35      0.41      0.33      1000\n",
      "weighted avg       0.89      0.67      0.76      1000\n",
      "\n",
      "--------- knn\n",
      "              precision    recall  f1-score   support\n",
      "\n",
      "    Negative       0.01      0.04      0.02        24\n",
      "     Neutral       0.01      0.05      0.02        39\n",
      "    Positive       0.92      0.70      0.80       937\n",
      "\n",
      "    accuracy                           0.66      1000\n",
      "   macro avg       0.31      0.27      0.28      1000\n",
      "weighted avg       0.87      0.66      0.75      1000\n",
      "\n",
      "--------- xgb\n",
      "              precision    recall  f1-score   support\n",
      "\n",
      "    Negative       0.08      0.04      0.06        24\n",
      "     Neutral       0.00      0.00      0.00        39\n",
      "    Positive       0.94      0.97      0.95       937\n",
      "\n",
      "    accuracy                           0.91      1000\n",
      "   macro avg       0.34      0.34      0.34      1000\n",
      "weighted avg       0.88      0.91      0.90      1000\n",
      "\n"
     ]
    }
   ],
   "source": [
    "DT_w2vec = make_pipeline_imb(SMOTE(), DecisionTreeClassifier())\n",
    "RF_w2vec = make_pipeline_imb(SMOTE(), RandomForestClassifier())\n",
    "SVM_w2vec = make_pipeline_imb(SMOTE(), LinearSVC())\n",
    "ADA_w2vec = make_pipeline_imb(SMOTE(), AdaBoostClassifier())\n",
    "KNN_w2vec = make_pipeline_imb(SMOTE(), KNeighborsClassifier())\n",
    "XGB_w2vec = make_pipeline_imb(SMOTE(), XGBClassifier(eval_metric='mlogloss'))\n",
    "\n",
    "models = {'dt':DT_w2vec,'rf':RF_w2vec,'svm_linear':SVM_w2vec,'ada':ADA_w2vec,'knn':KNN_w2vec,'xgb':XGB_w2vec}\n",
    "\n",
    "f1_score_dict_w2vec = {}\n",
    "\n",
    "for i in models:\n",
    "    print('---------',i)\n",
    "    models[i].fit(X_train_comps,y_train)\n",
    "    y_pred = models[i].predict(X_test_comps)\n",
    "    \n",
    "    f1score = f1_score(y_test,y_pred,average='macro')\n",
    "    f1_score_dict_w2vec[i] = f1score\n",
    "    print(classification_report(y_test, y_pred))\n"
   ]
  },
  {
   "cell_type": "code",
   "execution_count": 59,
   "id": "4c440cec",
   "metadata": {},
   "outputs": [
    {
     "data": {
      "text/plain": [
       "<BarContainer object of 6 artists>"
      ]
     },
     "execution_count": 59,
     "metadata": {},
     "output_type": "execute_result"
    },
    {
     "data": {
      "image/png": "[encoded data removed]",
      "text/plain": [
       "<Figure size 432x288 with 1 Axes>"
      ]
     },
     "metadata": {
      "needs_background": "light"
     },
     "output_type": "display_data"
    }
   ],
   "source": [
    "plt.bar(f1_score_dict_w2vec.keys(), f1_score_dict_w2vec.values(), color='g')\n"
   ]
  },
  {
   "cell_type": "code",
   "execution_count": 60,
   "id": "2f230e6a",
   "metadata": {},
   "outputs": [],
   "source": [
    "#### Using Word2Vec embeding technquies not improving the perfomance of our data. \n",
    "# So we use SVM as a final model with tf-idf embedding technique."
   ]
  },
  {
   "cell_type": "code",
   "execution_count": 61,
   "id": "02c95e62",
   "metadata": {},
   "outputs": [],
   "source": [
    "# Will do some test on final model with new sample data\n",
    "\n",
    "postive_review = [\"I bought new Alexa for my son and he is very comfortably able to use it\"]\n",
    "postive_review2 = ['the device is very handy, love to buy this device for my nephew also']\n",
    "neutral_review = [\"Amazon firestick is an average device.\"]\n",
    "neutral_review2 = ['just an ordinary product']\n",
    "negative_review = [\"Most of the time Alexa not answering properly\"]\n",
    "negative_review2 = ['Order one Alexa, absolutely shocking things with this product. I asked for a refund but never received one. Absolutely horrible customer service from Amazon']\n",
    "negative_review3 = ['Not happy with the product, so i will not recommend anybody']\n",
    "negative_review4 = ['Absolutely useless product']\n",
    "negative_review5 = ['worst product']\n",
    "negative_review6 = ['totally waste of money']\n",
    "negative_review7 = ['Not liked so returned']\n",
    "negative_review8 = ['Not worth to buy Alexa']"
   ]
  },
  {
   "cell_type": "code",
   "execution_count": 62,
   "id": "e1dad809",
   "metadata": {},
   "outputs": [
    {
     "name": "stdout",
     "output_type": "stream",
     "text": [
      "--------- svm\n",
      "Positive Review ['Positive']\n",
      "Positive Review ['Positive']\n",
      "Neutral Review ['Positive']\n",
      "Neutral Review ['Positive']\n",
      "Negative Review ['Negative']\n",
      "Negative Review2 ['Negative']\n",
      "Negative Review3 ['Neutral']\n",
      "Negative Review4 ['Negative']\n",
      "Negative Review5 ['Positive']\n",
      "Negative Review6 ['Negative']\n",
      "Negative Review7 ['Negative']\n",
      "Negative Review8 ['Negative']\n"
     ]
    }
   ],
   "source": [
    "models = {'svm':SVM}\n",
    "for i in models:\n",
    "    print('---------',i)\n",
    "    predict_text = models[i].predict(postive_review)\n",
    "    print('Positive Review',predict_text)\n",
    "    predict_text = models[i].predict(postive_review2)\n",
    "    print('Positive Review',predict_text)\n",
    "    predict_text = models[i].predict(neutral_review)\n",
    "    print('Neutral Review',predict_text)\n",
    "    predict_text = models[i].predict(neutral_review2)\n",
    "    print('Neutral Review',predict_text)\n",
    "    \n",
    "    predict_text = models[i].predict(negative_review)\n",
    "    print('Negative Review',predict_text)\n",
    "    predict_text = models[i].predict(negative_review2)\n",
    "    print('Negative Review2',predict_text)\n",
    "    predict_text = models[i].predict(negative_review3)\n",
    "    print('Negative Review3',predict_text)\n",
    "    predict_text = models[i].predict(negative_review4)\n",
    "    print('Negative Review4',predict_text)\n",
    "    predict_text = models[i].predict(negative_review5)\n",
    "    print('Negative Review5',predict_text)\n",
    "    predict_text = models[i].predict(negative_review6)\n",
    "    print('Negative Review6',predict_text)\n",
    "    predict_text = models[i].predict(negative_review7)\n",
    "    print('Negative Review7',predict_text)\n",
    "    predict_text = models[i].predict(negative_review8)\n",
    "    print('Negative Review8',predict_text)\n",
    "\n",
    "        "
   ]
  },
  {
   "cell_type": "markdown",
   "id": "b09d3a4a",
   "metadata": {},
   "source": [
    "### Conclusion\n",
    "Following observations we found in EDA\n",
    "- 58 duplicate entries found so we removed them.\n",
    "- 5 yrs data is collected (2014-2018), most of the data collected is in 2017.  \n",
    "- Majority of reviews on Dec and Jan month. \n",
    "- Most of the reviews on Friday, so might be people purchase more on Friday.\n",
    "- Majority of he reviews is for Electronics category and Alexa device. \n",
    "\n",
    "Target label observation\n",
    "- sentiment is our target label, we found there is a lot of imbalance in target label.\n",
    "- Data is biased towards Positive sentiment.\n",
    "\n",
    "For balancing data we use smote technique.\n",
    "We have also tried tfidf and word2vec embedding technique. In our scenario tfidf gives better performance than word2vec.\n",
    "\n",
    "Model building\n",
    "- Sentiment is our target label, Sentiment data is discrete data and contains 3 values. multiclass classiication model we have used for ML model building.\n",
    " - During model validation we tried different ML models, Multinomial Naive bayes, Decision Tree,Random Forest,Support Vector Machine, KNN, Adaboost, XGBoost.\n",
    " \n",
    "Model Evaluation\n",
    " - Our sentiment data is highly imbalanced because of that we used f1 score for evaluation.\n",
    " - Because of extremly high percentage of positive review and very less percentage of Negative and Neutral review we used \n",
    "   f1-macro as a evaluation parameter.    \n",
    "\n",
    "Using hyper parameter tuning as well as deep learning technique we might need to improve the performance of model."
   ]
  },
  {
   "cell_type": "code",
   "execution_count": null,
   "id": "0f4c2447",
   "metadata": {},
   "outputs": [],
   "source": []
  }
 ],
 "metadata": {
  "kernelspec": {
   "display_name": "Python 3",
   "language": "python",
   "name": "python3"
  },
  "language_info": {
   "codemirror_mode": {
    "name": "ipython",
    "version": 3
   },
   "file_extension": ".py",
   "mimetype": "text/x-python",
   "name": "python",
   "nbconvert_exporter": "python",
   "pygments_lexer": "ipython3",
   "version": "3.8.8"
  }
 },
 "nbformat": 4,
 "nbformat_minor": 5
}
