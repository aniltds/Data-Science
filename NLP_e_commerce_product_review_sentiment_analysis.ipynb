{
 "cells": [
  {
   "cell_type": "markdown",
   "id": "2249dcc9",
   "metadata": {},
   "source": [
    "# Problem Statement\n",
    "\n",
    "- Amazon is an online shopping website that now caters to millions of people everywhere. Over 4,000 consumer reviews for Amazon brand products like Kindle, Fire TV Stick and more are provided. \n",
    "- The dataset has attributes like brand, categories, primary categories, reviews.title, reviews.text, and the sentiment. Sentiment is a categorical variable with three levels \"Positive\", \"Negative“, and \"Neutral\". For a given unseen data, the sentiment needs to be predicted.\n",
    "- You are required to predict Sentiment or Satisfaction of a purchase based on multiple features and review text."
   ]
  },
  {
   "cell_type": "code",
   "execution_count": 1,
   "id": "b33fd96b",
   "metadata": {},
   "outputs": [],
   "source": [
    "import pandas as pd\n",
    "\n",
    "import numpy as np \n",
    "import matplotlib.pyplot as plt\n",
    "import seaborn as sns\n",
    "from wordcloud import WordCloud, STOPWORDS\n",
    "from nltk.corpus import stopwords\n",
    "import nltk\n",
    "from nltk.tokenize import sent_tokenize, word_tokenize\n",
    "from nltk.stem import PorterStemmer\n",
    "from nltk import WordNetLemmatizer, pos_tag, word_tokenize\n",
    "import re,string\n",
    "from sklearn.metrics import classification_report\n",
    "\n",
    "import warnings\n",
    "warnings.filterwarnings('ignore')\n",
    "\n"
   ]
  },
  {
   "cell_type": "code",
   "execution_count": 2,
   "id": "3702b03a",
   "metadata": {},
   "outputs": [
    {
     "data": {
      "text/html": [
       "<div>\n",
       "<style scoped>\n",
       "    .dataframe tbody tr th:only-of-type {\n",
       "        vertical-align: middle;\n",
       "    }\n",
       "\n",
       "    .dataframe tbody tr th {\n",
       "        vertical-align: top;\n",
       "    }\n",
       "\n",
       "    .dataframe thead th {\n",
       "        text-align: right;\n",
       "    }\n",
       "</style>\n",
       "<table border=\"1\" class=\"dataframe\">\n",
       "  <thead>\n",
       "    <tr style=\"text-align: right;\">\n",
       "      <th></th>\n",
       "      <th>name</th>\n",
       "      <th>brand</th>\n",
       "      <th>categories</th>\n",
       "      <th>primaryCategories</th>\n",
       "      <th>reviews.date</th>\n",
       "      <th>reviews.text</th>\n",
       "      <th>reviews.title</th>\n",
       "      <th>sentiment</th>\n",
       "    </tr>\n",
       "  </thead>\n",
       "  <tbody>\n",
       "    <tr>\n",
       "      <th>0</th>\n",
       "      <td>All-New Fire HD 8 Tablet, 8\" HD Display, Wi-Fi...</td>\n",
       "      <td>Amazon</td>\n",
       "      <td>Electronics,iPad &amp; Tablets,All Tablets,Fire Ta...</td>\n",
       "      <td>Electronics</td>\n",
       "      <td>2016-12-26T00:00:00.000Z</td>\n",
       "      <td>Purchased on Black FridayPros - Great Price (e...</td>\n",
       "      <td>Powerful tablet</td>\n",
       "      <td>Positive</td>\n",
       "    </tr>\n",
       "    <tr>\n",
       "      <th>1</th>\n",
       "      <td>Amazon - Echo Plus w/ Built-In Hub - Silver</td>\n",
       "      <td>Amazon</td>\n",
       "      <td>Amazon Echo,Smart Home,Networking,Home &amp; Tools...</td>\n",
       "      <td>Electronics,Hardware</td>\n",
       "      <td>2018-01-17T00:00:00.000Z</td>\n",
       "      <td>I purchased two Amazon in Echo Plus and two do...</td>\n",
       "      <td>Amazon Echo Plus AWESOME</td>\n",
       "      <td>Positive</td>\n",
       "    </tr>\n",
       "    <tr>\n",
       "      <th>2</th>\n",
       "      <td>Amazon Echo Show Alexa-enabled Bluetooth Speak...</td>\n",
       "      <td>Amazon</td>\n",
       "      <td>Amazon Echo,Virtual Assistant Speakers,Electro...</td>\n",
       "      <td>Electronics,Hardware</td>\n",
       "      <td>2017-12-20T00:00:00.000Z</td>\n",
       "      <td>Just an average Alexa option. Does show a few ...</td>\n",
       "      <td>Average</td>\n",
       "      <td>Neutral</td>\n",
       "    </tr>\n",
       "    <tr>\n",
       "      <th>3</th>\n",
       "      <td>Fire HD 10 Tablet, 10.1 HD Display, Wi-Fi, 16 ...</td>\n",
       "      <td>Amazon</td>\n",
       "      <td>eBook Readers,Fire Tablets,Electronics Feature...</td>\n",
       "      <td>Office Supplies,Electronics</td>\n",
       "      <td>2017-08-04T00:00:00.000Z</td>\n",
       "      <td>very good product. Exactly what I wanted, and ...</td>\n",
       "      <td>Greattttttt</td>\n",
       "      <td>Positive</td>\n",
       "    </tr>\n",
       "    <tr>\n",
       "      <th>4</th>\n",
       "      <td>Brand New Amazon Kindle Fire 16gb 7\" Ips Displ...</td>\n",
       "      <td>Amazon</td>\n",
       "      <td>Computers/Tablets &amp; Networking,Tablets &amp; eBook...</td>\n",
       "      <td>Electronics</td>\n",
       "      <td>2017-01-23T00:00:00.000Z</td>\n",
       "      <td>This is the 3rd one I've purchased. I've bough...</td>\n",
       "      <td>Very durable!</td>\n",
       "      <td>Positive</td>\n",
       "    </tr>\n",
       "  </tbody>\n",
       "</table>\n",
       "</div>"
      ],
      "text/plain": [
       "                                                name   brand  \\\n",
       "0  All-New Fire HD 8 Tablet, 8\" HD Display, Wi-Fi...  Amazon   \n",
       "1        Amazon - Echo Plus w/ Built-In Hub - Silver  Amazon   \n",
       "2  Amazon Echo Show Alexa-enabled Bluetooth Speak...  Amazon   \n",
       "3  Fire HD 10 Tablet, 10.1 HD Display, Wi-Fi, 16 ...  Amazon   \n",
       "4  Brand New Amazon Kindle Fire 16gb 7\" Ips Displ...  Amazon   \n",
       "\n",
       "                                          categories  \\\n",
       "0  Electronics,iPad & Tablets,All Tablets,Fire Ta...   \n",
       "1  Amazon Echo,Smart Home,Networking,Home & Tools...   \n",
       "2  Amazon Echo,Virtual Assistant Speakers,Electro...   \n",
       "3  eBook Readers,Fire Tablets,Electronics Feature...   \n",
       "4  Computers/Tablets & Networking,Tablets & eBook...   \n",
       "\n",
       "             primaryCategories              reviews.date  \\\n",
       "0                  Electronics  2016-12-26T00:00:00.000Z   \n",
       "1         Electronics,Hardware  2018-01-17T00:00:00.000Z   \n",
       "2         Electronics,Hardware  2017-12-20T00:00:00.000Z   \n",
       "3  Office Supplies,Electronics  2017-08-04T00:00:00.000Z   \n",
       "4                  Electronics  2017-01-23T00:00:00.000Z   \n",
       "\n",
       "                                        reviews.text  \\\n",
       "0  Purchased on Black FridayPros - Great Price (e...   \n",
       "1  I purchased two Amazon in Echo Plus and two do...   \n",
       "2  Just an average Alexa option. Does show a few ...   \n",
       "3  very good product. Exactly what I wanted, and ...   \n",
       "4  This is the 3rd one I've purchased. I've bough...   \n",
       "\n",
       "              reviews.title sentiment  \n",
       "0           Powerful tablet  Positive  \n",
       "1  Amazon Echo Plus AWESOME  Positive  \n",
       "2                   Average   Neutral  \n",
       "3               Greattttttt  Positive  \n",
       "4             Very durable!  Positive  "
      ]
     },
     "execution_count": 2,
     "metadata": {},
     "output_type": "execute_result"
    }
   ],
   "source": [
    "#load train dataset and check first 5 records\n",
    "\n",
    "train_df = pd.read_csv('train_data.csv')\n",
    "test_df = pd.read_csv('test_data.csv')\n",
    "train_df.head()"
   ]
  },
  {
   "cell_type": "markdown",
   "id": "bee3fac9",
   "metadata": {},
   "source": [
    "#### Check info of the data"
   ]
  },
  {
   "cell_type": "code",
   "execution_count": 3,
   "id": "8f7306b9",
   "metadata": {},
   "outputs": [
    {
     "data": {
      "text/plain": [
       "((4000, 8), (1000, 8))"
      ]
     },
     "execution_count": 3,
     "metadata": {},
     "output_type": "execute_result"
    }
   ],
   "source": [
    "#shape \n",
    "train_df.shape,test_df.shape"
   ]
  },
  {
   "cell_type": "markdown",
   "id": "f3d8ef0d",
   "metadata": {},
   "source": [
    "#### training dataset contains 4k rows and 8 features"
   ]
  },
  {
   "cell_type": "code",
   "execution_count": 4,
   "id": "3b4aeb32",
   "metadata": {},
   "outputs": [
    {
     "name": "stdout",
     "output_type": "stream",
     "text": [
      "<class 'pandas.core.frame.DataFrame'>\n",
      "RangeIndex: 4000 entries, 0 to 3999\n",
      "Data columns (total 8 columns):\n",
      " #   Column             Non-Null Count  Dtype \n",
      "---  ------             --------------  ----- \n",
      " 0   name               4000 non-null   object\n",
      " 1   brand              4000 non-null   object\n",
      " 2   categories         4000 non-null   object\n",
      " 3   primaryCategories  4000 non-null   object\n",
      " 4   reviews.date       4000 non-null   object\n",
      " 5   reviews.text       4000 non-null   object\n",
      " 6   reviews.title      3990 non-null   object\n",
      " 7   sentiment          4000 non-null   object\n",
      "dtypes: object(8)\n",
      "memory usage: 250.1+ KB\n"
     ]
    }
   ],
   "source": [
    "# info\n",
    "train_df.info()\n"
   ]
  },
  {
   "cell_type": "code",
   "execution_count": 5,
   "id": "aa18dd19",
   "metadata": {},
   "outputs": [],
   "source": [
    "#### train dataset contains total 4k records with 8 features, all are ojects type"
   ]
  },
  {
   "cell_type": "code",
   "execution_count": 6,
   "id": "1650ded8",
   "metadata": {},
   "outputs": [
    {
     "data": {
      "text/html": [
       "<div>\n",
       "<style scoped>\n",
       "    .dataframe tbody tr th:only-of-type {\n",
       "        vertical-align: middle;\n",
       "    }\n",
       "\n",
       "    .dataframe tbody tr th {\n",
       "        vertical-align: top;\n",
       "    }\n",
       "\n",
       "    .dataframe thead th {\n",
       "        text-align: right;\n",
       "    }\n",
       "</style>\n",
       "<table border=\"1\" class=\"dataframe\">\n",
       "  <thead>\n",
       "    <tr style=\"text-align: right;\">\n",
       "      <th></th>\n",
       "      <th>count</th>\n",
       "      <th>unique</th>\n",
       "      <th>top</th>\n",
       "      <th>freq</th>\n",
       "    </tr>\n",
       "  </thead>\n",
       "  <tbody>\n",
       "    <tr>\n",
       "      <th>name</th>\n",
       "      <td>4000</td>\n",
       "      <td>23</td>\n",
       "      <td>Amazon Echo Show Alexa-enabled Bluetooth Speak...</td>\n",
       "      <td>676</td>\n",
       "    </tr>\n",
       "    <tr>\n",
       "      <th>brand</th>\n",
       "      <td>4000</td>\n",
       "      <td>1</td>\n",
       "      <td>Amazon</td>\n",
       "      <td>4000</td>\n",
       "    </tr>\n",
       "    <tr>\n",
       "      <th>categories</th>\n",
       "      <td>4000</td>\n",
       "      <td>23</td>\n",
       "      <td>Electronics,iPad &amp; Tablets,All Tablets,Fire Ta...</td>\n",
       "      <td>628</td>\n",
       "    </tr>\n",
       "    <tr>\n",
       "      <th>primaryCategories</th>\n",
       "      <td>4000</td>\n",
       "      <td>4</td>\n",
       "      <td>Electronics</td>\n",
       "      <td>2600</td>\n",
       "    </tr>\n",
       "    <tr>\n",
       "      <th>reviews.date</th>\n",
       "      <td>4000</td>\n",
       "      <td>638</td>\n",
       "      <td>2017-01-23T00:00:00.000Z</td>\n",
       "      <td>99</td>\n",
       "    </tr>\n",
       "    <tr>\n",
       "      <th>reviews.text</th>\n",
       "      <td>4000</td>\n",
       "      <td>3598</td>\n",
       "      <td>Got this for my Daughter-in-Law and she loves ...</td>\n",
       "      <td>4</td>\n",
       "    </tr>\n",
       "    <tr>\n",
       "      <th>reviews.title</th>\n",
       "      <td>3990</td>\n",
       "      <td>2606</td>\n",
       "      <td>Great tablet</td>\n",
       "      <td>100</td>\n",
       "    </tr>\n",
       "    <tr>\n",
       "      <th>sentiment</th>\n",
       "      <td>4000</td>\n",
       "      <td>3</td>\n",
       "      <td>Positive</td>\n",
       "      <td>3749</td>\n",
       "    </tr>\n",
       "  </tbody>\n",
       "</table>\n",
       "</div>"
      ],
      "text/plain": [
       "                  count unique  \\\n",
       "name               4000     23   \n",
       "brand              4000      1   \n",
       "categories         4000     23   \n",
       "primaryCategories  4000      4   \n",
       "reviews.date       4000    638   \n",
       "reviews.text       4000   3598   \n",
       "reviews.title      3990   2606   \n",
       "sentiment          4000      3   \n",
       "\n",
       "                                                                 top  freq  \n",
       "name               Amazon Echo Show Alexa-enabled Bluetooth Speak...   676  \n",
       "brand                                                         Amazon  4000  \n",
       "categories         Electronics,iPad & Tablets,All Tablets,Fire Ta...   628  \n",
       "primaryCategories                                        Electronics  2600  \n",
       "reviews.date                                2017-01-23T00:00:00.000Z    99  \n",
       "reviews.text       Got this for my Daughter-in-Law and she loves ...     4  \n",
       "reviews.title                                           Great tablet   100  \n",
       "sentiment                                                   Positive  3749  "
      ]
     },
     "execution_count": 6,
     "metadata": {},
     "output_type": "execute_result"
    }
   ],
   "source": [
    "#describe\n",
    "train_df.describe().transpose()"
   ]
  },
  {
   "cell_type": "markdown",
   "id": "23bccf06",
   "metadata": {},
   "source": [
    "#### Observations from the above train data \n",
    "- Dataset contains total 4 primary categories.\n",
    "- Electronics category is the most used one with 2600 records\n",
    "- Total subcategories are 23, brand is only one i.e. Amazon. \n",
    "- Total 3 types of sentiments are there Positive,Neagtive and Neutral, most of the sentiments looks Positive i.e. 3749 positive records are there."
   ]
  },
  {
   "cell_type": "code",
   "execution_count": 7,
   "id": "e5c66ecf",
   "metadata": {},
   "outputs": [],
   "source": [
    "#### Analyzing more with data i.e categories,review dates "
   ]
  },
  {
   "cell_type": "code",
   "execution_count": 8,
   "id": "234ddfe7",
   "metadata": {},
   "outputs": [
    {
     "data": {
      "text/html": [
       "<div>\n",
       "<style scoped>\n",
       "    .dataframe tbody tr th:only-of-type {\n",
       "        vertical-align: middle;\n",
       "    }\n",
       "\n",
       "    .dataframe tbody tr th {\n",
       "        vertical-align: top;\n",
       "    }\n",
       "\n",
       "    .dataframe thead th {\n",
       "        text-align: right;\n",
       "    }\n",
       "</style>\n",
       "<table border=\"1\" class=\"dataframe\">\n",
       "  <thead>\n",
       "    <tr style=\"text-align: right;\">\n",
       "      <th></th>\n",
       "      <th>name</th>\n",
       "      <th>brand</th>\n",
       "      <th>categories</th>\n",
       "      <th>reviews.date</th>\n",
       "      <th>reviews.text</th>\n",
       "      <th>reviews.title</th>\n",
       "      <th>sentiment</th>\n",
       "    </tr>\n",
       "    <tr>\n",
       "      <th>primaryCategories</th>\n",
       "      <th></th>\n",
       "      <th></th>\n",
       "      <th></th>\n",
       "      <th></th>\n",
       "      <th></th>\n",
       "      <th></th>\n",
       "      <th></th>\n",
       "    </tr>\n",
       "  </thead>\n",
       "  <tbody>\n",
       "    <tr>\n",
       "      <th>Electronics</th>\n",
       "      <td>18</td>\n",
       "      <td>1</td>\n",
       "      <td>17</td>\n",
       "      <td>458</td>\n",
       "      <td>2310</td>\n",
       "      <td>1706</td>\n",
       "      <td>3</td>\n",
       "    </tr>\n",
       "    <tr>\n",
       "      <th>Electronics,Hardware</th>\n",
       "      <td>2</td>\n",
       "      <td>1</td>\n",
       "      <td>3</td>\n",
       "      <td>203</td>\n",
       "      <td>1095</td>\n",
       "      <td>827</td>\n",
       "      <td>3</td>\n",
       "    </tr>\n",
       "    <tr>\n",
       "      <th>Electronics,Media</th>\n",
       "      <td>1</td>\n",
       "      <td>1</td>\n",
       "      <td>1</td>\n",
       "      <td>16</td>\n",
       "      <td>17</td>\n",
       "      <td>17</td>\n",
       "      <td>1</td>\n",
       "    </tr>\n",
       "    <tr>\n",
       "      <th>Office Supplies,Electronics</th>\n",
       "      <td>2</td>\n",
       "      <td>1</td>\n",
       "      <td>2</td>\n",
       "      <td>140</td>\n",
       "      <td>204</td>\n",
       "      <td>181</td>\n",
       "      <td>3</td>\n",
       "    </tr>\n",
       "  </tbody>\n",
       "</table>\n",
       "</div>"
      ],
      "text/plain": [
       "                             name  brand  categories  reviews.date  \\\n",
       "primaryCategories                                                    \n",
       "Electronics                    18      1          17           458   \n",
       "Electronics,Hardware            2      1           3           203   \n",
       "Electronics,Media               1      1           1            16   \n",
       "Office Supplies,Electronics     2      1           2           140   \n",
       "\n",
       "                             reviews.text  reviews.title  sentiment  \n",
       "primaryCategories                                                    \n",
       "Electronics                          2310           1706          3  \n",
       "Electronics,Hardware                 1095            827          3  \n",
       "Electronics,Media                      17             17          1  \n",
       "Office Supplies,Electronics           204            181          3  "
      ]
     },
     "execution_count": 8,
     "metadata": {},
     "output_type": "execute_result"
    }
   ],
   "source": [
    "train_df.groupby('primaryCategories').nunique()"
   ]
  },
  {
   "cell_type": "code",
   "execution_count": 9,
   "id": "9596c9fd",
   "metadata": {},
   "outputs": [
    {
     "data": {
      "text/plain": [
       "reviews.date\n",
       "2017-01-23T00:00:00.000Z    99\n",
       "2017-01-18T00:00:00.000Z    88\n",
       "2017-01-06T00:00:00.000Z    87\n",
       "2017-12-01T00:00:00.000Z    73\n",
       "2017-01-16T00:00:00.000Z    69\n",
       "                            ..\n",
       "2016-10-25T00:00:00.000Z     1\n",
       "2017-11-19T07:47:58.000Z     1\n",
       "2016-10-18T00:00:00.000Z     1\n",
       "2016-10-10T00:00:00.000Z     1\n",
       "2018-09-15T15:58:24.000Z     1\n",
       "Name: reviews.date, Length: 638, dtype: int64"
      ]
     },
     "execution_count": 9,
     "metadata": {},
     "output_type": "execute_result"
    }
   ],
   "source": [
    "train_df.groupby('reviews.date')['reviews.date'].count().sort_values(ascending=False)"
   ]
  },
  {
   "cell_type": "code",
   "execution_count": 10,
   "id": "cccb11cd",
   "metadata": {},
   "outputs": [],
   "source": [
    "train_df['reviews.date'] = pd.to_datetime(train_df['reviews.date'])"
   ]
  },
  {
   "cell_type": "code",
   "execution_count": 11,
   "id": "0204f31e",
   "metadata": {},
   "outputs": [],
   "source": [
    "#### Lets check the reviews duration, first date of review and lastdate of reviews"
   ]
  },
  {
   "cell_type": "code",
   "execution_count": 12,
   "id": "f54b5c39",
   "metadata": {},
   "outputs": [
    {
     "data": {
      "text/html": [
       "<div>\n",
       "<style scoped>\n",
       "    .dataframe tbody tr th:only-of-type {\n",
       "        vertical-align: middle;\n",
       "    }\n",
       "\n",
       "    .dataframe tbody tr th {\n",
       "        vertical-align: top;\n",
       "    }\n",
       "\n",
       "    .dataframe thead th {\n",
       "        text-align: right;\n",
       "    }\n",
       "</style>\n",
       "<table border=\"1\" class=\"dataframe\">\n",
       "  <thead>\n",
       "    <tr style=\"text-align: right;\">\n",
       "      <th></th>\n",
       "      <th>reviews.date</th>\n",
       "    </tr>\n",
       "  </thead>\n",
       "  <tbody>\n",
       "    <tr>\n",
       "      <th>Review_Start_Date</th>\n",
       "      <td>2014-10-24 00:00:00+00:00</td>\n",
       "    </tr>\n",
       "    <tr>\n",
       "      <th>Review_End_Date</th>\n",
       "      <td>2018-09-15 15:58:24+00:00</td>\n",
       "    </tr>\n",
       "  </tbody>\n",
       "</table>\n",
       "</div>"
      ],
      "text/plain": [
       "                               reviews.date\n",
       "Review_Start_Date 2014-10-24 00:00:00+00:00\n",
       "Review_End_Date   2018-09-15 15:58:24+00:00"
      ]
     },
     "execution_count": 12,
     "metadata": {},
     "output_type": "execute_result"
    }
   ],
   "source": [
    "df2 = train_df.agg(Review_Start_Date=('reviews.date', np.min), Review_End_Date=('reviews.date', np.max))\n",
    "df2"
   ]
  },
  {
   "cell_type": "code",
   "execution_count": 13,
   "id": "88c9aa1c",
   "metadata": {},
   "outputs": [],
   "source": [
    "#### Finding the review data available for how many days"
   ]
  },
  {
   "cell_type": "code",
   "execution_count": 14,
   "id": "25da9b20",
   "metadata": {},
   "outputs": [
    {
     "data": {
      "text/plain": [
       "Review_Start_Date       0\n",
       "Review_End_Date      1422\n",
       "Name: reviews.date, dtype: int32"
      ]
     },
     "execution_count": 14,
     "metadata": {},
     "output_type": "execute_result"
    }
   ],
   "source": [
    "df2[\"reviews.date\"].diff().apply(lambda x: x/np.timedelta64(1, 'D')).fillna(0).astype(int)"
   ]
  },
  {
   "cell_type": "markdown",
   "id": "42acfb23",
   "metadata": {},
   "source": [
    "#### 1422 days data is available for analysis"
   ]
  },
  {
   "cell_type": "code",
   "execution_count": 15,
   "id": "1d453467",
   "metadata": {},
   "outputs": [
    {
     "data": {
      "text/plain": [
       "(8351, 45)"
      ]
     },
     "execution_count": 15,
     "metadata": {},
     "output_type": "execute_result"
    }
   ],
   "source": [
    "#### Check for minimum and maximum length for review text\n",
    "\n",
    "long_review_length = train_df[\"reviews.text\"].map(len).max()\n",
    "short_review_length = train_df[\"reviews.text\"].map(len).min()\n",
    "\n",
    "long_review_length,short_review_length"
   ]
  },
  {
   "cell_type": "markdown",
   "id": "f4e72201",
   "metadata": {},
   "source": [
    "#### Longest review is 8351 characters and shortest review length is 45 characters long "
   ]
  },
  {
   "cell_type": "code",
   "execution_count": 16,
   "id": "06114c99",
   "metadata": {},
   "outputs": [
    {
     "name": "stdout",
     "output_type": "stream",
     "text": [
      "largest comment = \n",
      "I've had lots of tablets in the past, mostly from the Samsung line, but this is my first Amazon Fire, so I want to write this review for others who have never tried one of these. At the time that this was written, Alexa had not been added to the tablet.First, while this device runs an Android type of operating system, Amazon puts its own spin on the operating system. I don't feel like I'm using Android. This feels different to me. It doesn't have the same level of customization that Android users have come to appreciate. That being said, if you are an Amazon Prime member, this device has been tailored to be your content entertainment machine. It's simply a fun way to consume your magazines, books, etc.There are 3 on-screen buttons on the bottom of the device. The middle button immediately takes you to your home screen. The button to the left acts as a sort of \"back\" button. It also lets me get rid of my keyboard when I don't need it on screen, but it's open. The button to the right is super important. It took me a couple of days to realize what it does. That square shaped button is what you press you see what apps you have open. It lets you switch between apps, but it also lets you see which apps you have open and close them out. You can close them by pressing the \"X\" button in the corner of the window that appears or by touching the app window and swiping to the right. If you leave all of those apps open and you never close them, you'll drain your battery. Make sure you use that little square button to clear your apps.The device has several menus that you swipe left to view. First, you start with your home screen. You literally can stay on this screen and do anything you need to do on the tablet. All of your apps are housed here. You swipe up to view all of them. The tablet comes with several apps pre-installed such as Slik, Amazon's own internet browser, Audible, Good Reads, the Amazon app store, a weather app, etc. You can go to the Amazon app store to download other apps such as Twitter, Facebook, etc. You can combine the apps on this page into folders. You just drag one app to another app and a folder appears. This made my home screen much more manageable. You can change the size of the font on the home screen from normal to large or small in the device settings. This feature doesn't necessarily increase the size of the font within your apps, however. I believe it only changes the font on your main screens.If you have a magazine or newspaper subscription that is connected to your device, when you have a new issues, it will show up at the top of your home page screen under the heading of \"new items.\" The device comes with a free 6 month subscription to the Washington Post. You'll see that under \"new items\" when you initially activate your tablet.You can change the wallpaper on the screen to use one of your own photos. You can do this through the settings menu on the device. If you want to use one of your own photos, however, you need to either take it on the device or move it into Amazon's Photos app, which is a cloud-based app.So far, I haven't found a way to effectively use a different photo management app that will let me change my wallpaper. I'm not crazy about the Amazon Photo app. I found it annoying to move my photos from my phone into Amazon's cloud just so I could view them on my tablet. That being said, I'm not planning to take photos on this device. I just wanted a few pet photos on there and the ability to change my wallpaper.Beyond the home screen, you can swipe to the right to view your other screen. They are pre-arranged to be: books, videos, games, shop, apps, music, audiobooks, and newstand. All of those screens are connected to your Amazon account. For example, if you have Kindle books you've already purchased, they automatically will appear under the Books menu. Your magazines and newspaper subscriptions will appear under the newstand menu. There doesn't seem to be a way to change the order of the menu pages. That bugs me, but it's not the end of the world. There's also one menu to the left of the \"home\" menu. It's the \"recent\" page. It shows you what you've received looked at on the tablet. I never use it, but it might be handy for some people.One of my favorite features of this tablet is Amazon's \"On Deck\" capability. If you're an Amazon Prime member, Amazon will periodically download a video to your device that it thinks you might like. The items don't count against your pre-installed memory and they automatically deleted off if your memory starts getting full. You can turn off the \"on deck\" feature if you don't like it. I've been content with the video playback capability. This isn't my major use of the device, but the images look fine and the audio is OK. I'll talk more about the speakers later. My other favorite feature of this tablet is viewing magazine content through the Newstand. I've tried 3 magazines on here and they all look gorgeous. Now, I can always have my magazines with me so if I'm stuck at the airport or at the doctor's office, I always have them. One of my regular magazines includes a free digital version of the magazine for free. I just had to connect my account to the device. This allows me to download the back issues of the magazine for as long as I've had an account. My other magazine didn't include a digital edition so I canceled the print edition of it and switched to the digital version. (It was an inexpensive magazine, anyway.) There are several magazines that you can try free for 30 days on the device. I did this with a third magazine and decided to keep it for a year. Viewing magazines on this gadget is a pleasure.The Kindle Fire doesn't come with the Google Play store installed. You can side load it to the device without rooting it (and breaking your warranty.) You can Google to find the instructions to do this. It's not difficult to do if you're fairly comfortable with technology. It probably took me 10 minutes. Most of the apps I wanted were in the Amazon store, but there were a handful that I had paid for through Google Play. The only way I could have them was to go back to access that store. They have worked fine so far. I despise the keyboard that Amazon pre-installed on this device. There are no lines between the letters on the keyboard. I suppose it designed to be better for swyping through keys, but I hate it. I fixed that problem by going to Google Play and downloading a new keyboard. It was a pretty easy problem to solve so I can't complain.Apps that are connecting to the Internet can be a little slow to load on this device compared to my other gadgets, but that generally doesn't bother me. If you were using this tablet to replace your personal laptop, however, that might drive you crazy. The screen on this device isn't bad. If I compare it to my fancy phone, it's not as shape, but when you think about the price of this device compared to my smartphone, the screen is outstanding.The speakers are OK. There are two of them located on the bottom of the screen. I won't say that they are fantastic. They aren't. In my opinion, they are fine for watching YouTube or a television show. They are not OK for listening to music if you are an audiophile. You can make it a little better by downloading a different music app instead of relying on the pre-install app, but still your music will sound tinny. That being said, you can always connect your tablet to a bluetooth speaker, use a pair of headphones, etc.This device wasn't made for taking pictures. It has a front and back camera, but they aren't designed to be spectacular. I'm not using them.I find this device a little difficult to hold in my hands. I think that's partly because of the size and partly because it feels very slick. Also, I do have some hand problems (similar to someone who has Carpal Tunnel syndrome). I think it will be easier to handle once my case arrives. I'm still waiting for it. I'm greatly enjoying this device. It's simply fun to use the tablet. There are weaknesses that come with that lower price tag, but you legitimately get a lot of bang for your buck, particularly if you regularly use Amazon services. If you don't typically use Amazon and you are just looking for a tablet for viewing the Internet and you're looking for a low price tag, this device may be OK for you.\n",
      "\n",
      " shortest comment = \n",
      "Its an awesome item. Me and the kids love it.\n"
     ]
    }
   ],
   "source": [
    "# Check the maximum and minimum review text \n",
    "\n",
    "review_length = train_df['reviews.text'].astype(str).map(len)\n",
    "print('largest comment = \\n'+train_df.loc[review_length.argmax(), 'reviews.text'])\n",
    "print ('\\n shortest comment = \\n'+train_df.loc[review_length.argmin(), 'reviews.text'])"
   ]
  },
  {
   "cell_type": "code",
   "execution_count": 17,
   "id": "25294260",
   "metadata": {},
   "outputs": [
    {
     "data": {
      "text/plain": [
       "1013    I've had lots of tablets in the past, mostly f...\n",
       "306     Even when I‚Äôm outside in bright sunlight, th...\n",
       "2088    Even when I‚Äôm outside in bright sunlight, th...\n",
       "3767    When I first read about Amazon Echo Show, I th...\n",
       "3295    When they first announced the Kindle Oasis, I ...\n",
       "Name: reviews.text, dtype: object"
      ]
     },
     "execution_count": 17,
     "metadata": {},
     "output_type": "execute_result"
    }
   ],
   "source": [
    "# First 5 largest reviews\n",
    "large_texts = train_df['reviews.text'].map(len).nlargest(n=5)\n",
    "train_df.loc[large_texts.index,'reviews.text']\n"
   ]
  },
  {
   "cell_type": "code",
   "execution_count": 18,
   "id": "f6eed383",
   "metadata": {},
   "outputs": [
    {
     "data": {
      "text/html": [
       "<div>\n",
       "<style scoped>\n",
       "    .dataframe tbody tr th:only-of-type {\n",
       "        vertical-align: middle;\n",
       "    }\n",
       "\n",
       "    .dataframe tbody tr th {\n",
       "        vertical-align: top;\n",
       "    }\n",
       "\n",
       "    .dataframe thead th {\n",
       "        text-align: right;\n",
       "    }\n",
       "</style>\n",
       "<table border=\"1\" class=\"dataframe\">\n",
       "  <thead>\n",
       "    <tr style=\"text-align: right;\">\n",
       "      <th></th>\n",
       "      <th>name</th>\n",
       "      <th>brand</th>\n",
       "      <th>categories</th>\n",
       "      <th>primaryCategories</th>\n",
       "      <th>reviews.date</th>\n",
       "      <th>reviews.text</th>\n",
       "      <th>reviews.title</th>\n",
       "      <th>sentiment</th>\n",
       "    </tr>\n",
       "  </thead>\n",
       "  <tbody>\n",
       "    <tr>\n",
       "      <th>0</th>\n",
       "      <td>All-New Fire HD 8 Tablet, 8\" HD Display, Wi-Fi...</td>\n",
       "      <td>Amazon</td>\n",
       "      <td>Electronics,iPad &amp; Tablets,All Tablets,Fire Ta...</td>\n",
       "      <td>Electronics</td>\n",
       "      <td>2016-12-26 00:00:00+00:00</td>\n",
       "      <td>Purchased on Black FridayPros - Great Price (e...</td>\n",
       "      <td>Powerful tablet</td>\n",
       "      <td>Positive</td>\n",
       "    </tr>\n",
       "    <tr>\n",
       "      <th>1</th>\n",
       "      <td>Amazon - Echo Plus w/ Built-In Hub - Silver</td>\n",
       "      <td>Amazon</td>\n",
       "      <td>Amazon Echo,Smart Home,Networking,Home &amp; Tools...</td>\n",
       "      <td>Electronics,Hardware</td>\n",
       "      <td>2018-01-17 00:00:00+00:00</td>\n",
       "      <td>I purchased two Amazon in Echo Plus and two do...</td>\n",
       "      <td>Amazon Echo Plus AWESOME</td>\n",
       "      <td>Positive</td>\n",
       "    </tr>\n",
       "    <tr>\n",
       "      <th>2</th>\n",
       "      <td>Amazon Echo Show Alexa-enabled Bluetooth Speak...</td>\n",
       "      <td>Amazon</td>\n",
       "      <td>Amazon Echo,Virtual Assistant Speakers,Electro...</td>\n",
       "      <td>Electronics,Hardware</td>\n",
       "      <td>2017-12-20 00:00:00+00:00</td>\n",
       "      <td>Just an average Alexa option. Does show a few ...</td>\n",
       "      <td>Average</td>\n",
       "      <td>Neutral</td>\n",
       "    </tr>\n",
       "    <tr>\n",
       "      <th>3</th>\n",
       "      <td>Fire HD 10 Tablet, 10.1 HD Display, Wi-Fi, 16 ...</td>\n",
       "      <td>Amazon</td>\n",
       "      <td>eBook Readers,Fire Tablets,Electronics Feature...</td>\n",
       "      <td>Office Supplies,Electronics</td>\n",
       "      <td>2017-08-04 00:00:00+00:00</td>\n",
       "      <td>very good product. Exactly what I wanted, and ...</td>\n",
       "      <td>Greattttttt</td>\n",
       "      <td>Positive</td>\n",
       "    </tr>\n",
       "    <tr>\n",
       "      <th>4</th>\n",
       "      <td>Brand New Amazon Kindle Fire 16gb 7\" Ips Displ...</td>\n",
       "      <td>Amazon</td>\n",
       "      <td>Computers/Tablets &amp; Networking,Tablets &amp; eBook...</td>\n",
       "      <td>Electronics</td>\n",
       "      <td>2017-01-23 00:00:00+00:00</td>\n",
       "      <td>This is the 3rd one I've purchased. I've bough...</td>\n",
       "      <td>Very durable!</td>\n",
       "      <td>Positive</td>\n",
       "    </tr>\n",
       "  </tbody>\n",
       "</table>\n",
       "</div>"
      ],
      "text/plain": [
       "                                                name   brand  \\\n",
       "0  All-New Fire HD 8 Tablet, 8\" HD Display, Wi-Fi...  Amazon   \n",
       "1        Amazon - Echo Plus w/ Built-In Hub - Silver  Amazon   \n",
       "2  Amazon Echo Show Alexa-enabled Bluetooth Speak...  Amazon   \n",
       "3  Fire HD 10 Tablet, 10.1 HD Display, Wi-Fi, 16 ...  Amazon   \n",
       "4  Brand New Amazon Kindle Fire 16gb 7\" Ips Displ...  Amazon   \n",
       "\n",
       "                                          categories  \\\n",
       "0  Electronics,iPad & Tablets,All Tablets,Fire Ta...   \n",
       "1  Amazon Echo,Smart Home,Networking,Home & Tools...   \n",
       "2  Amazon Echo,Virtual Assistant Speakers,Electro...   \n",
       "3  eBook Readers,Fire Tablets,Electronics Feature...   \n",
       "4  Computers/Tablets & Networking,Tablets & eBook...   \n",
       "\n",
       "             primaryCategories              reviews.date  \\\n",
       "0                  Electronics 2016-12-26 00:00:00+00:00   \n",
       "1         Electronics,Hardware 2018-01-17 00:00:00+00:00   \n",
       "2         Electronics,Hardware 2017-12-20 00:00:00+00:00   \n",
       "3  Office Supplies,Electronics 2017-08-04 00:00:00+00:00   \n",
       "4                  Electronics 2017-01-23 00:00:00+00:00   \n",
       "\n",
       "                                        reviews.text  \\\n",
       "0  Purchased on Black FridayPros - Great Price (e...   \n",
       "1  I purchased two Amazon in Echo Plus and two do...   \n",
       "2  Just an average Alexa option. Does show a few ...   \n",
       "3  very good product. Exactly what I wanted, and ...   \n",
       "4  This is the 3rd one I've purchased. I've bough...   \n",
       "\n",
       "              reviews.title sentiment  \n",
       "0           Powerful tablet  Positive  \n",
       "1  Amazon Echo Plus AWESOME  Positive  \n",
       "2                   Average   Neutral  \n",
       "3               Greattttttt  Positive  \n",
       "4             Very durable!  Positive  "
      ]
     },
     "execution_count": 18,
     "metadata": {},
     "output_type": "execute_result"
    }
   ],
   "source": [
    "train_df.head()"
   ]
  },
  {
   "cell_type": "code",
   "execution_count": 19,
   "id": "368441d9",
   "metadata": {},
   "outputs": [],
   "source": [
    "#### Largest review data contain a lot of comments which may not be much helpful for prediction, \n",
    "# so we will use reviews of maximum length up to 500 characters."
   ]
  },
  {
   "cell_type": "code",
   "execution_count": 20,
   "id": "4bebd0dd",
   "metadata": {},
   "outputs": [
    {
     "data": {
      "text/html": [
       "<div>\n",
       "<style scoped>\n",
       "    .dataframe tbody tr th:only-of-type {\n",
       "        vertical-align: middle;\n",
       "    }\n",
       "\n",
       "    .dataframe tbody tr th {\n",
       "        vertical-align: top;\n",
       "    }\n",
       "\n",
       "    .dataframe thead th {\n",
       "        text-align: right;\n",
       "    }\n",
       "</style>\n",
       "<table border=\"1\" class=\"dataframe\">\n",
       "  <thead>\n",
       "    <tr style=\"text-align: right;\">\n",
       "      <th></th>\n",
       "      <th>name</th>\n",
       "      <th>brand</th>\n",
       "      <th>categories</th>\n",
       "      <th>primaryCategories</th>\n",
       "      <th>reviews.date</th>\n",
       "      <th>reviews.text</th>\n",
       "      <th>reviews.title</th>\n",
       "      <th>sentiment</th>\n",
       "    </tr>\n",
       "  </thead>\n",
       "  <tbody>\n",
       "    <tr>\n",
       "      <th>0</th>\n",
       "      <td>All-New Fire HD 8 Tablet, 8\" HD Display, Wi-Fi...</td>\n",
       "      <td>Amazon</td>\n",
       "      <td>Electronics,iPad &amp; Tablets,All Tablets,Fire Ta...</td>\n",
       "      <td>Electronics</td>\n",
       "      <td>2016-12-26 00:00:00+00:00</td>\n",
       "      <td>Purchased on Black FridayPros - Great Price (e...</td>\n",
       "      <td>Powerful tablet</td>\n",
       "      <td>Positive</td>\n",
       "    </tr>\n",
       "    <tr>\n",
       "      <th>2</th>\n",
       "      <td>Amazon Echo Show Alexa-enabled Bluetooth Speak...</td>\n",
       "      <td>Amazon</td>\n",
       "      <td>Amazon Echo,Virtual Assistant Speakers,Electro...</td>\n",
       "      <td>Electronics,Hardware</td>\n",
       "      <td>2017-12-20 00:00:00+00:00</td>\n",
       "      <td>Just an average Alexa option. Does show a few ...</td>\n",
       "      <td>Average</td>\n",
       "      <td>Neutral</td>\n",
       "    </tr>\n",
       "    <tr>\n",
       "      <th>3</th>\n",
       "      <td>Fire HD 10 Tablet, 10.1 HD Display, Wi-Fi, 16 ...</td>\n",
       "      <td>Amazon</td>\n",
       "      <td>eBook Readers,Fire Tablets,Electronics Feature...</td>\n",
       "      <td>Office Supplies,Electronics</td>\n",
       "      <td>2017-08-04 00:00:00+00:00</td>\n",
       "      <td>very good product. Exactly what I wanted, and ...</td>\n",
       "      <td>Greattttttt</td>\n",
       "      <td>Positive</td>\n",
       "    </tr>\n",
       "    <tr>\n",
       "      <th>4</th>\n",
       "      <td>Brand New Amazon Kindle Fire 16gb 7\" Ips Displ...</td>\n",
       "      <td>Amazon</td>\n",
       "      <td>Computers/Tablets &amp; Networking,Tablets &amp; eBook...</td>\n",
       "      <td>Electronics</td>\n",
       "      <td>2017-01-23 00:00:00+00:00</td>\n",
       "      <td>This is the 3rd one I've purchased. I've bough...</td>\n",
       "      <td>Very durable!</td>\n",
       "      <td>Positive</td>\n",
       "    </tr>\n",
       "    <tr>\n",
       "      <th>5</th>\n",
       "      <td>Kindle E-reader - White, 6 Glare-Free Touchscr...</td>\n",
       "      <td>Amazon</td>\n",
       "      <td>Office,eBook Readers,Electronics Features,Walm...</td>\n",
       "      <td>Office Supplies,Electronics</td>\n",
       "      <td>2016-12-23 00:00:00+00:00</td>\n",
       "      <td>This is a great product. Light weight. I wish ...</td>\n",
       "      <td>You will love it</td>\n",
       "      <td>Positive</td>\n",
       "    </tr>\n",
       "    <tr>\n",
       "      <th>...</th>\n",
       "      <td>...</td>\n",
       "      <td>...</td>\n",
       "      <td>...</td>\n",
       "      <td>...</td>\n",
       "      <td>...</td>\n",
       "      <td>...</td>\n",
       "      <td>...</td>\n",
       "      <td>...</td>\n",
       "    </tr>\n",
       "    <tr>\n",
       "      <th>3994</th>\n",
       "      <td>All-New Fire HD 8 Tablet, 8\" HD Display, Wi-Fi...</td>\n",
       "      <td>Amazon</td>\n",
       "      <td>Electronics,iPad &amp; Tablets,All Tablets,Fire Ta...</td>\n",
       "      <td>Electronics</td>\n",
       "      <td>2016-12-27 00:00:00+00:00</td>\n",
       "      <td>It is great , I like it very much. I can find ...</td>\n",
       "      <td>great responding</td>\n",
       "      <td>Positive</td>\n",
       "    </tr>\n",
       "    <tr>\n",
       "      <th>3995</th>\n",
       "      <td>Amazon - Echo Plus w/ Built-In Hub - Silver</td>\n",
       "      <td>Amazon</td>\n",
       "      <td>Amazon Echo,Smart Home,Networking,Home &amp; Tools...</td>\n",
       "      <td>Electronics,Hardware</td>\n",
       "      <td>2017-12-08 00:00:00+00:00</td>\n",
       "      <td>It‚Äôs fun for the family to play with, but it...</td>\n",
       "      <td>Fun toy</td>\n",
       "      <td>Positive</td>\n",
       "    </tr>\n",
       "    <tr>\n",
       "      <th>3996</th>\n",
       "      <td>Amazon Kindle E-Reader 6\" Wifi (8th Generation...</td>\n",
       "      <td>Amazon</td>\n",
       "      <td>Computers,Electronics Features,Tablets,Electro...</td>\n",
       "      <td>Electronics</td>\n",
       "      <td>2017-03-31 00:00:00+00:00</td>\n",
       "      <td>I love the Kindle, it is a great product. It r...</td>\n",
       "      <td>Great Product</td>\n",
       "      <td>Positive</td>\n",
       "    </tr>\n",
       "    <tr>\n",
       "      <th>3998</th>\n",
       "      <td>Brand New Amazon Kindle Fire 16gb 7\" Ips Displ...</td>\n",
       "      <td>Amazon</td>\n",
       "      <td>Computers/Tablets &amp; Networking,Tablets &amp; eBook...</td>\n",
       "      <td>Electronics</td>\n",
       "      <td>2016-05-27 00:00:00+00:00</td>\n",
       "      <td>This is the second Amazon Fire 7 tablet I have...</td>\n",
       "      <td>A great 7 inch tablet at a great price</td>\n",
       "      <td>Positive</td>\n",
       "    </tr>\n",
       "    <tr>\n",
       "      <th>3999</th>\n",
       "      <td>All-New Fire HD 8 Tablet, 8\" HD Display, Wi-Fi...</td>\n",
       "      <td>Amazon</td>\n",
       "      <td>Electronics,iPad &amp; Tablets,All Tablets,Fire Ta...</td>\n",
       "      <td>Electronics</td>\n",
       "      <td>2016-12-30 00:00:00+00:00</td>\n",
       "      <td>very satisfied with tablet, very fast and effi...</td>\n",
       "      <td>Gets the job done</td>\n",
       "      <td>Positive</td>\n",
       "    </tr>\n",
       "  </tbody>\n",
       "</table>\n",
       "<p>3875 rows × 8 columns</p>\n",
       "</div>"
      ],
      "text/plain": [
       "                                                   name   brand  \\\n",
       "0     All-New Fire HD 8 Tablet, 8\" HD Display, Wi-Fi...  Amazon   \n",
       "2     Amazon Echo Show Alexa-enabled Bluetooth Speak...  Amazon   \n",
       "3     Fire HD 10 Tablet, 10.1 HD Display, Wi-Fi, 16 ...  Amazon   \n",
       "4     Brand New Amazon Kindle Fire 16gb 7\" Ips Displ...  Amazon   \n",
       "5     Kindle E-reader - White, 6 Glare-Free Touchscr...  Amazon   \n",
       "...                                                 ...     ...   \n",
       "3994  All-New Fire HD 8 Tablet, 8\" HD Display, Wi-Fi...  Amazon   \n",
       "3995        Amazon - Echo Plus w/ Built-In Hub - Silver  Amazon   \n",
       "3996  Amazon Kindle E-Reader 6\" Wifi (8th Generation...  Amazon   \n",
       "3998  Brand New Amazon Kindle Fire 16gb 7\" Ips Displ...  Amazon   \n",
       "3999  All-New Fire HD 8 Tablet, 8\" HD Display, Wi-Fi...  Amazon   \n",
       "\n",
       "                                             categories  \\\n",
       "0     Electronics,iPad & Tablets,All Tablets,Fire Ta...   \n",
       "2     Amazon Echo,Virtual Assistant Speakers,Electro...   \n",
       "3     eBook Readers,Fire Tablets,Electronics Feature...   \n",
       "4     Computers/Tablets & Networking,Tablets & eBook...   \n",
       "5     Office,eBook Readers,Electronics Features,Walm...   \n",
       "...                                                 ...   \n",
       "3994  Electronics,iPad & Tablets,All Tablets,Fire Ta...   \n",
       "3995  Amazon Echo,Smart Home,Networking,Home & Tools...   \n",
       "3996  Computers,Electronics Features,Tablets,Electro...   \n",
       "3998  Computers/Tablets & Networking,Tablets & eBook...   \n",
       "3999  Electronics,iPad & Tablets,All Tablets,Fire Ta...   \n",
       "\n",
       "                primaryCategories              reviews.date  \\\n",
       "0                     Electronics 2016-12-26 00:00:00+00:00   \n",
       "2            Electronics,Hardware 2017-12-20 00:00:00+00:00   \n",
       "3     Office Supplies,Electronics 2017-08-04 00:00:00+00:00   \n",
       "4                     Electronics 2017-01-23 00:00:00+00:00   \n",
       "5     Office Supplies,Electronics 2016-12-23 00:00:00+00:00   \n",
       "...                           ...                       ...   \n",
       "3994                  Electronics 2016-12-27 00:00:00+00:00   \n",
       "3995         Electronics,Hardware 2017-12-08 00:00:00+00:00   \n",
       "3996                  Electronics 2017-03-31 00:00:00+00:00   \n",
       "3998                  Electronics 2016-05-27 00:00:00+00:00   \n",
       "3999                  Electronics 2016-12-30 00:00:00+00:00   \n",
       "\n",
       "                                           reviews.text  \\\n",
       "0     Purchased on Black FridayPros - Great Price (e...   \n",
       "2     Just an average Alexa option. Does show a few ...   \n",
       "3     very good product. Exactly what I wanted, and ...   \n",
       "4     This is the 3rd one I've purchased. I've bough...   \n",
       "5     This is a great product. Light weight. I wish ...   \n",
       "...                                                 ...   \n",
       "3994  It is great , I like it very much. I can find ...   \n",
       "3995  It‚Äôs fun for the family to play with, but it...   \n",
       "3996  I love the Kindle, it is a great product. It r...   \n",
       "3998  This is the second Amazon Fire 7 tablet I have...   \n",
       "3999  very satisfied with tablet, very fast and effi...   \n",
       "\n",
       "                               reviews.title sentiment  \n",
       "0                            Powerful tablet  Positive  \n",
       "2                                    Average   Neutral  \n",
       "3                                Greattttttt  Positive  \n",
       "4                              Very durable!  Positive  \n",
       "5                           You will love it  Positive  \n",
       "...                                      ...       ...  \n",
       "3994                        great responding  Positive  \n",
       "3995                                 Fun toy  Positive  \n",
       "3996                           Great Product  Positive  \n",
       "3998  A great 7 inch tablet at a great price  Positive  \n",
       "3999                       Gets the job done  Positive  \n",
       "\n",
       "[3875 rows x 8 columns]"
      ]
     },
     "execution_count": 20,
     "metadata": {},
     "output_type": "execute_result"
    }
   ],
   "source": [
    "train_df = train_df[train_df['reviews.text'].map(len)<500]\n",
    "train_df"
   ]
  },
  {
   "cell_type": "markdown",
   "id": "9f672ce2",
   "metadata": {},
   "source": [
    "#### Check for missing values\n"
   ]
  },
  {
   "cell_type": "code",
   "execution_count": 21,
   "id": "09de7663",
   "metadata": {},
   "outputs": [
    {
     "data": {
      "text/plain": [
       "name                 0\n",
       "brand                0\n",
       "categories           0\n",
       "primaryCategories    0\n",
       "reviews.date         0\n",
       "reviews.text         0\n",
       "reviews.title        8\n",
       "sentiment            0\n",
       "dtype: int64"
      ]
     },
     "execution_count": 21,
     "metadata": {},
     "output_type": "execute_result"
    }
   ],
   "source": [
    "train_df.isnull().sum()"
   ]
  },
  {
   "cell_type": "markdown",
   "id": "9eec0f4b",
   "metadata": {},
   "source": [
    "#### reviews.title contains 8 missing values, but we can ignore it for now, as our main focus is on review text."
   ]
  },
  {
   "cell_type": "markdown",
   "id": "38a08ba8",
   "metadata": {},
   "source": [
    "#### Check for duplicate values"
   ]
  },
  {
   "cell_type": "code",
   "execution_count": 22,
   "id": "ed5dce76",
   "metadata": {},
   "outputs": [
    {
     "data": {
      "text/plain": [
       "58"
      ]
     },
     "execution_count": 22,
     "metadata": {},
     "output_type": "execute_result"
    }
   ],
   "source": [
    "train_df.duplicated().sum()"
   ]
  },
  {
   "cell_type": "markdown",
   "id": "bc3a1e76",
   "metadata": {},
   "source": [
    "#### total 58 records are duplicated. we need to analyze more for duplicate data"
   ]
  },
  {
   "cell_type": "code",
   "execution_count": 23,
   "id": "215be8b4",
   "metadata": {},
   "outputs": [
    {
     "data": {
      "text/html": [
       "<div>\n",
       "<style scoped>\n",
       "    .dataframe tbody tr th:only-of-type {\n",
       "        vertical-align: middle;\n",
       "    }\n",
       "\n",
       "    .dataframe tbody tr th {\n",
       "        vertical-align: top;\n",
       "    }\n",
       "\n",
       "    .dataframe thead th {\n",
       "        text-align: right;\n",
       "    }\n",
       "</style>\n",
       "<table border=\"1\" class=\"dataframe\">\n",
       "  <thead>\n",
       "    <tr style=\"text-align: right;\">\n",
       "      <th></th>\n",
       "      <th>name</th>\n",
       "      <th>brand</th>\n",
       "      <th>categories</th>\n",
       "      <th>primaryCategories</th>\n",
       "      <th>reviews.date</th>\n",
       "      <th>reviews.text</th>\n",
       "      <th>reviews.title</th>\n",
       "      <th>sentiment</th>\n",
       "    </tr>\n",
       "  </thead>\n",
       "  <tbody>\n",
       "    <tr>\n",
       "      <th>709</th>\n",
       "      <td>Brand New Amazon Kindle Fire 16gb 7\" Ips Displ...</td>\n",
       "      <td>Amazon</td>\n",
       "      <td>Computers/Tablets &amp; Networking,Tablets &amp; eBook...</td>\n",
       "      <td>Electronics</td>\n",
       "      <td>2017-01-23 00:00:00+00:00</td>\n",
       "      <td>This is the 3rd one I've purchased. I've bough...</td>\n",
       "      <td>Very durable!</td>\n",
       "      <td>Positive</td>\n",
       "    </tr>\n",
       "    <tr>\n",
       "      <th>866</th>\n",
       "      <td>Kindle E-reader - White, 6 Glare-Free Touchscr...</td>\n",
       "      <td>Amazon</td>\n",
       "      <td>Office,eBook Readers,Electronics Features,Walm...</td>\n",
       "      <td>Office Supplies,Electronics</td>\n",
       "      <td>2017-09-01 00:00:00+00:00</td>\n",
       "      <td>This is really good if you read a lot, doesn't...</td>\n",
       "      <td>Great buy if you read a lot</td>\n",
       "      <td>Positive</td>\n",
       "    </tr>\n",
       "    <tr>\n",
       "      <th>1085</th>\n",
       "      <td>Brand New Amazon Kindle Fire 16gb 7\" Ips Displ...</td>\n",
       "      <td>Amazon</td>\n",
       "      <td>Computers/Tablets &amp; Networking,Tablets &amp; eBook...</td>\n",
       "      <td>Electronics</td>\n",
       "      <td>2017-02-15 00:00:00+00:00</td>\n",
       "      <td>Great for kids. Simple and inexpensive. 16G mu...</td>\n",
       "      <td>Simple tablet</td>\n",
       "      <td>Positive</td>\n",
       "    </tr>\n",
       "    <tr>\n",
       "      <th>1116</th>\n",
       "      <td>Kindle E-reader - White, 6 Glare-Free Touchscr...</td>\n",
       "      <td>Amazon</td>\n",
       "      <td>Office,eBook Readers,Electronics Features,Walm...</td>\n",
       "      <td>Office Supplies,Electronics</td>\n",
       "      <td>2016-12-24 00:00:00+00:00</td>\n",
       "      <td>Item work well and was easy to read from in da...</td>\n",
       "      <td>Work</td>\n",
       "      <td>Positive</td>\n",
       "    </tr>\n",
       "    <tr>\n",
       "      <th>1131</th>\n",
       "      <td>Brand New Amazon Kindle Fire 16gb 7\" Ips Displ...</td>\n",
       "      <td>Amazon</td>\n",
       "      <td>Computers/Tablets &amp; Networking,Tablets &amp; eBook...</td>\n",
       "      <td>Electronics</td>\n",
       "      <td>2016-05-27 00:00:00+00:00</td>\n",
       "      <td>Good tablet for my daughter! She loves it ,but...</td>\n",
       "      <td>Great!</td>\n",
       "      <td>Positive</td>\n",
       "    </tr>\n",
       "    <tr>\n",
       "      <th>1181</th>\n",
       "      <td>Brand New Amazon Kindle Fire 16gb 7\" Ips Displ...</td>\n",
       "      <td>Amazon</td>\n",
       "      <td>Computers/Tablets &amp; Networking,Tablets &amp; eBook...</td>\n",
       "      <td>Electronics</td>\n",
       "      <td>2016-10-28 00:00:00+00:00</td>\n",
       "      <td>Gave as a gift to niece in hospital she loved ...</td>\n",
       "      <td>Great Tablet</td>\n",
       "      <td>Positive</td>\n",
       "    </tr>\n",
       "    <tr>\n",
       "      <th>1216</th>\n",
       "      <td>Brand New Amazon Kindle Fire 16gb 7\" Ips Displ...</td>\n",
       "      <td>Amazon</td>\n",
       "      <td>Computers/Tablets &amp; Networking,Tablets &amp; eBook...</td>\n",
       "      <td>Electronics</td>\n",
       "      <td>2016-12-07 00:00:00+00:00</td>\n",
       "      <td>Tablets are best used for personal reading. Cl...</td>\n",
       "      <td>Its a gift</td>\n",
       "      <td>Positive</td>\n",
       "    </tr>\n",
       "    <tr>\n",
       "      <th>1328</th>\n",
       "      <td>Kindle E-reader - White, 6 Glare-Free Touchscr...</td>\n",
       "      <td>Amazon</td>\n",
       "      <td>Office,eBook Readers,Electronics Features,Walm...</td>\n",
       "      <td>Office Supplies,Electronics</td>\n",
       "      <td>2017-12-08 00:00:00+00:00</td>\n",
       "      <td>I purchased this Kindle for my daughter and sh...</td>\n",
       "      <td>Nice Kindle!</td>\n",
       "      <td>Positive</td>\n",
       "    </tr>\n",
       "    <tr>\n",
       "      <th>1365</th>\n",
       "      <td>Kindle E-reader - White, 6 Glare-Free Touchscr...</td>\n",
       "      <td>Amazon</td>\n",
       "      <td>Office,eBook Readers,Electronics Features,Walm...</td>\n",
       "      <td>Office Supplies,Electronics</td>\n",
       "      <td>2017-01-06 00:00:00+00:00</td>\n",
       "      <td>I love my kindle it makes it so much easier to...</td>\n",
       "      <td>Love the product</td>\n",
       "      <td>Positive</td>\n",
       "    </tr>\n",
       "    <tr>\n",
       "      <th>1611</th>\n",
       "      <td>Brand New Amazon Kindle Fire 16gb 7\" Ips Displ...</td>\n",
       "      <td>Amazon</td>\n",
       "      <td>Computers/Tablets &amp; Networking,Tablets &amp; eBook...</td>\n",
       "      <td>Electronics</td>\n",
       "      <td>2016-09-09 00:00:00+00:00</td>\n",
       "      <td>Quite an upgrade from the original Fire. The d...</td>\n",
       "      <td>Love this Fire!</td>\n",
       "      <td>Positive</td>\n",
       "    </tr>\n",
       "    <tr>\n",
       "      <th>1621</th>\n",
       "      <td>Kindle E-reader - White, 6 Glare-Free Touchscr...</td>\n",
       "      <td>Amazon</td>\n",
       "      <td>Office,eBook Readers,Electronics Features,Walm...</td>\n",
       "      <td>Office Supplies,Electronics</td>\n",
       "      <td>2016-09-25 00:00:00+00:00</td>\n",
       "      <td>Easy to navigate. Daughter loves it. It's ligh...</td>\n",
       "      <td>Great product</td>\n",
       "      <td>Positive</td>\n",
       "    </tr>\n",
       "    <tr>\n",
       "      <th>1634</th>\n",
       "      <td>Brand New Amazon Kindle Fire 16gb 7\" Ips Displ...</td>\n",
       "      <td>Amazon</td>\n",
       "      <td>Computers/Tablets &amp; Networking,Tablets &amp; eBook...</td>\n",
       "      <td>Electronics</td>\n",
       "      <td>2016-09-07 00:00:00+00:00</td>\n",
       "      <td>My first tablet was a Kindle. I was curious ab...</td>\n",
       "      <td>Crashed after update</td>\n",
       "      <td>Negative</td>\n",
       "    </tr>\n",
       "    <tr>\n",
       "      <th>1930</th>\n",
       "      <td>Fire HD 10 Tablet, 10.1 HD Display, Wi-Fi, 16 ...</td>\n",
       "      <td>Amazon</td>\n",
       "      <td>eBook Readers,Fire Tablets,Electronics Feature...</td>\n",
       "      <td>Office Supplies,Electronics</td>\n",
       "      <td>2016-09-02 00:00:00+00:00</td>\n",
       "      <td>As I age, it's difficult for me to see the sma...</td>\n",
       "      <td>Wow!! What a great size for me!!!</td>\n",
       "      <td>Positive</td>\n",
       "    </tr>\n",
       "    <tr>\n",
       "      <th>1982</th>\n",
       "      <td>Brand New Amazon Kindle Fire 16gb 7\" Ips Displ...</td>\n",
       "      <td>Amazon</td>\n",
       "      <td>Computers/Tablets &amp; Networking,Tablets &amp; eBook...</td>\n",
       "      <td>Electronics</td>\n",
       "      <td>2017-02-18 00:00:00+00:00</td>\n",
       "      <td>I bought this for my daughter who uses it in h...</td>\n",
       "      <td>Great purchase!</td>\n",
       "      <td>Positive</td>\n",
       "    </tr>\n",
       "    <tr>\n",
       "      <th>2004</th>\n",
       "      <td>Fire HD 10 Tablet, 10.1 HD Display, Wi-Fi, 16 ...</td>\n",
       "      <td>Amazon</td>\n",
       "      <td>eBook Readers,Fire Tablets,Electronics Feature...</td>\n",
       "      <td>Office Supplies,Electronics</td>\n",
       "      <td>2017-01-18 00:00:00+00:00</td>\n",
       "      <td>I got the amazon Fire HD 10 for reading and ot...</td>\n",
       "      <td>Fun and Easy to Use</td>\n",
       "      <td>Positive</td>\n",
       "    </tr>\n",
       "    <tr>\n",
       "      <th>2115</th>\n",
       "      <td>Kindle E-reader - White, 6 Glare-Free Touchscr...</td>\n",
       "      <td>Amazon</td>\n",
       "      <td>Office,eBook Readers,Electronics Features,Walm...</td>\n",
       "      <td>Office Supplies,Electronics</td>\n",
       "      <td>2018-03-02 00:00:00+00:00</td>\n",
       "      <td>I'm enjoying the ease of having several readin...</td>\n",
       "      <td>Perfect. Just what I needed</td>\n",
       "      <td>Positive</td>\n",
       "    </tr>\n",
       "    <tr>\n",
       "      <th>2210</th>\n",
       "      <td>Brand New Amazon Kindle Fire 16gb 7\" Ips Displ...</td>\n",
       "      <td>Amazon</td>\n",
       "      <td>Computers/Tablets &amp; Networking,Tablets &amp; eBook...</td>\n",
       "      <td>Electronics</td>\n",
       "      <td>2016-06-22 00:00:00+00:00</td>\n",
       "      <td>The kinde was really good and my dauther like ...</td>\n",
       "      <td>Love it</td>\n",
       "      <td>Positive</td>\n",
       "    </tr>\n",
       "    <tr>\n",
       "      <th>2346</th>\n",
       "      <td>All-New Fire HD 8 Tablet, 8 HD Display, Wi-Fi,...</td>\n",
       "      <td>Amazon</td>\n",
       "      <td>Fire Tablets,Tablets,All Tablets,Amazon Tablets</td>\n",
       "      <td>Electronics</td>\n",
       "      <td>2017-04-03 00:00:00+00:00</td>\n",
       "      <td>This tablet is great for my son. Would be nice...</td>\n",
       "      <td>Solid tablet!</td>\n",
       "      <td>Positive</td>\n",
       "    </tr>\n",
       "    <tr>\n",
       "      <th>2368</th>\n",
       "      <td>Brand New Amazon Kindle Fire 16gb 7\" Ips Displ...</td>\n",
       "      <td>Amazon</td>\n",
       "      <td>Computers/Tablets &amp; Networking,Tablets &amp; eBook...</td>\n",
       "      <td>Electronics</td>\n",
       "      <td>2016-07-20 00:00:00+00:00</td>\n",
       "      <td>if you use it for certain things it's great. C...</td>\n",
       "      <td>great for the things I have put on it and use it</td>\n",
       "      <td>Positive</td>\n",
       "    </tr>\n",
       "    <tr>\n",
       "      <th>2487</th>\n",
       "      <td>All-New Fire HD 8 Tablet, 8 HD Display, Wi-Fi,...</td>\n",
       "      <td>Amazon</td>\n",
       "      <td>Fire Tablets,Tablets,All Tablets,Amazon Tablet...</td>\n",
       "      <td>Electronics</td>\n",
       "      <td>2017-01-17 00:00:00+00:00</td>\n",
       "      <td>Very happy with product. It's a miniature lap ...</td>\n",
       "      <td>Very happy</td>\n",
       "      <td>Positive</td>\n",
       "    </tr>\n",
       "    <tr>\n",
       "      <th>2540</th>\n",
       "      <td>Fire HD 10 Tablet, 10.1 HD Display, Wi-Fi, 16 ...</td>\n",
       "      <td>Amazon</td>\n",
       "      <td>eBook Readers,Fire Tablets,Electronics Feature...</td>\n",
       "      <td>Office Supplies,Electronics</td>\n",
       "      <td>2017-01-25 00:00:00+00:00</td>\n",
       "      <td>I bought this Tablet for my Wife. She uses it ...</td>\n",
       "      <td>Excellent Tablet</td>\n",
       "      <td>Positive</td>\n",
       "    </tr>\n",
       "    <tr>\n",
       "      <th>2574</th>\n",
       "      <td>Brand New Amazon Kindle Fire 16gb 7\" Ips Displ...</td>\n",
       "      <td>Amazon</td>\n",
       "      <td>Computers/Tablets &amp; Networking,Tablets &amp; eBook...</td>\n",
       "      <td>Electronics</td>\n",
       "      <td>2016-06-24 00:00:00+00:00</td>\n",
       "      <td>Loved my husbands 4th generation disappointed ...</td>\n",
       "      <td>Disappointed</td>\n",
       "      <td>Negative</td>\n",
       "    </tr>\n",
       "    <tr>\n",
       "      <th>2599</th>\n",
       "      <td>Kindle E-reader - White, 6 Glare-Free Touchscr...</td>\n",
       "      <td>Amazon</td>\n",
       "      <td>Office,eBook Readers,Electronics Features,Walm...</td>\n",
       "      <td>Office Supplies,Electronics</td>\n",
       "      <td>2017-01-27 00:00:00+00:00</td>\n",
       "      <td>Not the paperwhite, but for the price I paid w...</td>\n",
       "      <td>It is what it is</td>\n",
       "      <td>Positive</td>\n",
       "    </tr>\n",
       "    <tr>\n",
       "      <th>2617</th>\n",
       "      <td>Brand New Amazon Kindle Fire 16gb 7\" Ips Displ...</td>\n",
       "      <td>Amazon</td>\n",
       "      <td>Computers/Tablets &amp; Networking,Tablets &amp; eBook...</td>\n",
       "      <td>Electronics</td>\n",
       "      <td>2017-06-30 00:00:00+00:00</td>\n",
       "      <td>Blue is beautiful &amp; allows grand-daughter to b...</td>\n",
       "      <td>Great for playing piano program</td>\n",
       "      <td>Positive</td>\n",
       "    </tr>\n",
       "    <tr>\n",
       "      <th>2657</th>\n",
       "      <td>Brand New Amazon Kindle Fire 16gb 7\" Ips Displ...</td>\n",
       "      <td>Amazon</td>\n",
       "      <td>Computers/Tablets &amp; Networking,Tablets &amp; eBook...</td>\n",
       "      <td>Electronics</td>\n",
       "      <td>2016-07-08 00:00:00+00:00</td>\n",
       "      <td>It's perfect for me when I'm doing homework or...</td>\n",
       "      <td>Always in the go</td>\n",
       "      <td>Positive</td>\n",
       "    </tr>\n",
       "    <tr>\n",
       "      <th>2737</th>\n",
       "      <td>Brand New Amazon Kindle Fire 16gb 7\" Ips Displ...</td>\n",
       "      <td>Amazon</td>\n",
       "      <td>Computers/Tablets &amp; Networking,Tablets &amp; eBook...</td>\n",
       "      <td>Electronics</td>\n",
       "      <td>2017-02-14 00:00:00+00:00</td>\n",
       "      <td>The only problem I have is have to recharge ba...</td>\n",
       "      <td>short battery life</td>\n",
       "      <td>Positive</td>\n",
       "    </tr>\n",
       "    <tr>\n",
       "      <th>2754</th>\n",
       "      <td>All-New Fire HD 8 Tablet, 8 HD Display, Wi-Fi,...</td>\n",
       "      <td>Amazon</td>\n",
       "      <td>Fire Tablets,Tablets,All Tablets,Amazon Tablets</td>\n",
       "      <td>Electronics</td>\n",
       "      <td>2017-03-04 00:00:00+00:00</td>\n",
       "      <td>The Fire HD8 strikes an excellent balance betw...</td>\n",
       "      <td>Excellent budget tablet</td>\n",
       "      <td>Positive</td>\n",
       "    </tr>\n",
       "    <tr>\n",
       "      <th>2871</th>\n",
       "      <td>Kindle E-reader - White, 6 Glare-Free Touchscr...</td>\n",
       "      <td>Amazon</td>\n",
       "      <td>Office,eBook Readers,Electronics Features,Walm...</td>\n",
       "      <td>Office Supplies,Electronics</td>\n",
       "      <td>2017-02-13 00:00:00+00:00</td>\n",
       "      <td>Easy to use and navigate, purchasing books is ...</td>\n",
       "      <td>Great e-reader for beginners</td>\n",
       "      <td>Positive</td>\n",
       "    </tr>\n",
       "    <tr>\n",
       "      <th>2950</th>\n",
       "      <td>Brand New Amazon Kindle Fire 16gb 7\" Ips Displ...</td>\n",
       "      <td>Amazon</td>\n",
       "      <td>Computers/Tablets &amp; Networking,Tablets &amp; eBook...</td>\n",
       "      <td>Electronics</td>\n",
       "      <td>2017-01-18 00:00:00+00:00</td>\n",
       "      <td>I love this tablet. One of the best out there ...</td>\n",
       "      <td>Great tablet</td>\n",
       "      <td>Positive</td>\n",
       "    </tr>\n",
       "    <tr>\n",
       "      <th>3018</th>\n",
       "      <td>Brand New Amazon Kindle Fire 16gb 7\" Ips Displ...</td>\n",
       "      <td>Amazon</td>\n",
       "      <td>Computers/Tablets &amp; Networking,Tablets &amp; eBook...</td>\n",
       "      <td>Electronics</td>\n",
       "      <td>2016-07-11 00:00:00+00:00</td>\n",
       "      <td>I use this all the time for playing games and ...</td>\n",
       "      <td>great</td>\n",
       "      <td>Positive</td>\n",
       "    </tr>\n",
       "    <tr>\n",
       "      <th>3078</th>\n",
       "      <td>Kindle E-reader - White, 6 Glare-Free Touchscr...</td>\n",
       "      <td>Amazon</td>\n",
       "      <td>Office,eBook Readers,Electronics Features,Walm...</td>\n",
       "      <td>Office Supplies,Electronics</td>\n",
       "      <td>2016-10-15 00:00:00+00:00</td>\n",
       "      <td>I prefer the Kindle to a book. I like the chan...</td>\n",
       "      <td>I've had one before, so I knew I'd be happy</td>\n",
       "      <td>Positive</td>\n",
       "    </tr>\n",
       "    <tr>\n",
       "      <th>3117</th>\n",
       "      <td>Fire HD 10 Tablet, 10.1 HD Display, Wi-Fi, 16 ...</td>\n",
       "      <td>Amazon</td>\n",
       "      <td>eBook Readers,Fire Tablets,Electronics Feature...</td>\n",
       "      <td>Office Supplies,Electronics</td>\n",
       "      <td>2017-06-19 00:00:00+00:00</td>\n",
       "      <td>Just writing this review to get my points...Th...</td>\n",
       "      <td>Was a gift to replace a broken kindle</td>\n",
       "      <td>Positive</td>\n",
       "    </tr>\n",
       "    <tr>\n",
       "      <th>3183</th>\n",
       "      <td>Brand New Amazon Kindle Fire 16gb 7\" Ips Displ...</td>\n",
       "      <td>Amazon</td>\n",
       "      <td>Computers/Tablets &amp; Networking,Tablets &amp; eBook...</td>\n",
       "      <td>Electronics</td>\n",
       "      <td>2017-02-20 00:00:00+00:00</td>\n",
       "      <td>My daughter loves her tablet because she can c...</td>\n",
       "      <td>great for my daughter to view videos</td>\n",
       "      <td>Positive</td>\n",
       "    </tr>\n",
       "    <tr>\n",
       "      <th>3227</th>\n",
       "      <td>Kindle Oasis E-reader with Leather Charging Co...</td>\n",
       "      <td>Amazon</td>\n",
       "      <td>Kindle E-readers,Electronics Features,Computer...</td>\n",
       "      <td>Electronics</td>\n",
       "      <td>2016-09-16 00:00:00+00:00</td>\n",
       "      <td>New to eBooks and researched available eReader...</td>\n",
       "      <td>Great eBooks reader</td>\n",
       "      <td>Positive</td>\n",
       "    </tr>\n",
       "    <tr>\n",
       "      <th>3246</th>\n",
       "      <td>Brand New Amazon Kindle Fire 16gb 7\" Ips Displ...</td>\n",
       "      <td>Amazon</td>\n",
       "      <td>Computers/Tablets &amp; Networking,Tablets &amp; eBook...</td>\n",
       "      <td>Electronics</td>\n",
       "      <td>2017-01-10 00:00:00+00:00</td>\n",
       "      <td>Great product. Exactly what I've come to expec...</td>\n",
       "      <td>It's a Kindle!</td>\n",
       "      <td>Positive</td>\n",
       "    </tr>\n",
       "    <tr>\n",
       "      <th>3267</th>\n",
       "      <td>Brand New Amazon Kindle Fire 16gb 7\" Ips Displ...</td>\n",
       "      <td>Amazon</td>\n",
       "      <td>Computers/Tablets &amp; Networking,Tablets &amp; eBook...</td>\n",
       "      <td>Electronics</td>\n",
       "      <td>2016-09-13 00:00:00+00:00</td>\n",
       "      <td>For those that have Prime this is almost a mus...</td>\n",
       "      <td>Great tablet for Amazon</td>\n",
       "      <td>Positive</td>\n",
       "    </tr>\n",
       "    <tr>\n",
       "      <th>3378</th>\n",
       "      <td>Brand New Amazon Kindle Fire 16gb 7\" Ips Displ...</td>\n",
       "      <td>Amazon</td>\n",
       "      <td>Computers/Tablets &amp; Networking,Tablets &amp; eBook...</td>\n",
       "      <td>Electronics</td>\n",
       "      <td>2017-02-27 00:00:00+00:00</td>\n",
       "      <td>I like this Kindle the only this is it does no...</td>\n",
       "      <td>Great</td>\n",
       "      <td>Positive</td>\n",
       "    </tr>\n",
       "    <tr>\n",
       "      <th>3413</th>\n",
       "      <td>Brand New Amazon Kindle Fire 16gb 7\" Ips Displ...</td>\n",
       "      <td>Amazon</td>\n",
       "      <td>Computers/Tablets &amp; Networking,Tablets &amp; eBook...</td>\n",
       "      <td>Electronics</td>\n",
       "      <td>2016-08-01 00:00:00+00:00</td>\n",
       "      <td>bought this kindle for my grandson, he loves i...</td>\n",
       "      <td>great product</td>\n",
       "      <td>Positive</td>\n",
       "    </tr>\n",
       "    <tr>\n",
       "      <th>3481</th>\n",
       "      <td>Fire HD 10 Tablet, 10.1 HD Display, Wi-Fi, 16 ...</td>\n",
       "      <td>Amazon</td>\n",
       "      <td>eBook Readers,Fire Tablets,Electronics Feature...</td>\n",
       "      <td>Office Supplies,Electronics</td>\n",
       "      <td>2017-05-05 00:00:00+00:00</td>\n",
       "      <td>I love this product it is so easy to use It ha...</td>\n",
       "      <td>Kindle fire</td>\n",
       "      <td>Positive</td>\n",
       "    </tr>\n",
       "    <tr>\n",
       "      <th>3486</th>\n",
       "      <td>Kindle E-reader - White, 6 Glare-Free Touchscr...</td>\n",
       "      <td>Amazon</td>\n",
       "      <td>Office,eBook Readers,Electronics Features,Walm...</td>\n",
       "      <td>Office Supplies,Electronics</td>\n",
       "      <td>2017-08-28 00:00:00+00:00</td>\n",
       "      <td>Excellent product very good piece strongly rec...</td>\n",
       "      <td>Great kindle</td>\n",
       "      <td>Positive</td>\n",
       "    </tr>\n",
       "    <tr>\n",
       "      <th>3495</th>\n",
       "      <td>Brand New Amazon Kindle Fire 16gb 7\" Ips Displ...</td>\n",
       "      <td>Amazon</td>\n",
       "      <td>Computers/Tablets &amp; Networking,Tablets &amp; eBook...</td>\n",
       "      <td>Electronics</td>\n",
       "      <td>2017-03-11 00:00:00+00:00</td>\n",
       "      <td>Just love this tablet.does everything teenage ...</td>\n",
       "      <td>Great tablet for my grandson</td>\n",
       "      <td>Positive</td>\n",
       "    </tr>\n",
       "    <tr>\n",
       "      <th>3497</th>\n",
       "      <td>Kindle E-reader - White, 6 Glare-Free Touchscr...</td>\n",
       "      <td>Amazon</td>\n",
       "      <td>Office,eBook Readers,Electronics Features,Walm...</td>\n",
       "      <td>Office Supplies,Electronics</td>\n",
       "      <td>2017-12-09 00:00:00+00:00</td>\n",
       "      <td>I had the 4th generation. I am quite happy wit...</td>\n",
       "      <td>A good upgrade</td>\n",
       "      <td>Positive</td>\n",
       "    </tr>\n",
       "    <tr>\n",
       "      <th>3589</th>\n",
       "      <td>Brand New Amazon Kindle Fire 16gb 7\" Ips Displ...</td>\n",
       "      <td>Amazon</td>\n",
       "      <td>Computers/Tablets &amp; Networking,Tablets &amp; eBook...</td>\n",
       "      <td>Electronics</td>\n",
       "      <td>2016-09-09 00:00:00+00:00</td>\n",
       "      <td>Looking for a reader with some basic tablet fu...</td>\n",
       "      <td>Basic tablet/reader</td>\n",
       "      <td>Positive</td>\n",
       "    </tr>\n",
       "    <tr>\n",
       "      <th>3607</th>\n",
       "      <td>Kindle E-reader - White, 6 Glare-Free Touchscr...</td>\n",
       "      <td>Amazon</td>\n",
       "      <td>Office,eBook Readers,Electronics Features,Walm...</td>\n",
       "      <td>Office Supplies,Electronics</td>\n",
       "      <td>2017-10-06 00:00:00+00:00</td>\n",
       "      <td>very good product and service will refer a fri...</td>\n",
       "      <td>very good product and service.</td>\n",
       "      <td>Positive</td>\n",
       "    </tr>\n",
       "    <tr>\n",
       "      <th>3662</th>\n",
       "      <td>Kindle E-reader - White, 6 Glare-Free Touchscr...</td>\n",
       "      <td>Amazon</td>\n",
       "      <td>Office,eBook Readers,Electronics Features,Walm...</td>\n",
       "      <td>Office Supplies,Electronics</td>\n",
       "      <td>2016-12-14 00:00:00+00:00</td>\n",
       "      <td>This make an excellent ebook reader. Don't exp...</td>\n",
       "      <td>Good ebook</td>\n",
       "      <td>Positive</td>\n",
       "    </tr>\n",
       "    <tr>\n",
       "      <th>3692</th>\n",
       "      <td>Fire HD 10 Tablet, 10.1 HD Display, Wi-Fi, 16 ...</td>\n",
       "      <td>Amazon</td>\n",
       "      <td>eBook Readers,Fire Tablets,Electronics Feature...</td>\n",
       "      <td>Office Supplies,Electronics</td>\n",
       "      <td>2017-06-26 00:00:00+00:00</td>\n",
       "      <td>I go this tablet after problems with 2 Samsung...</td>\n",
       "      <td>Reliable tablet</td>\n",
       "      <td>Positive</td>\n",
       "    </tr>\n",
       "    <tr>\n",
       "      <th>3735</th>\n",
       "      <td>Brand New Amazon Kindle Fire 16gb 7\" Ips Displ...</td>\n",
       "      <td>Amazon</td>\n",
       "      <td>Computers/Tablets &amp; Networking,Tablets &amp; eBook...</td>\n",
       "      <td>Electronics</td>\n",
       "      <td>2016-06-03 00:00:00+00:00</td>\n",
       "      <td>My daughter is totally enjoying her tablet.Rec...</td>\n",
       "      <td>My daughter loves her new Fire tablet.</td>\n",
       "      <td>Positive</td>\n",
       "    </tr>\n",
       "    <tr>\n",
       "      <th>3741</th>\n",
       "      <td>Brand New Amazon Kindle Fire 16gb 7\" Ips Displ...</td>\n",
       "      <td>Amazon</td>\n",
       "      <td>Computers/Tablets &amp; Networking,Tablets &amp; eBook...</td>\n",
       "      <td>Electronics</td>\n",
       "      <td>2016-07-22 00:00:00+00:00</td>\n",
       "      <td>Very happy with my purchase. The tablet works ...</td>\n",
       "      <td>Great for beginners</td>\n",
       "      <td>Positive</td>\n",
       "    </tr>\n",
       "    <tr>\n",
       "      <th>3754</th>\n",
       "      <td>Brand New Amazon Kindle Fire 16gb 7\" Ips Displ...</td>\n",
       "      <td>Amazon</td>\n",
       "      <td>Computers/Tablets &amp; Networking,Tablets &amp; eBook...</td>\n",
       "      <td>Electronics</td>\n",
       "      <td>2016-11-22 00:00:00+00:00</td>\n",
       "      <td>Decent camera, clarity on the screen, fast dow...</td>\n",
       "      <td>great tablet</td>\n",
       "      <td>Positive</td>\n",
       "    </tr>\n",
       "    <tr>\n",
       "      <th>3786</th>\n",
       "      <td>Brand New Amazon Kindle Fire 16gb 7\" Ips Displ...</td>\n",
       "      <td>Amazon</td>\n",
       "      <td>Computers/Tablets &amp; Networking,Tablets &amp; eBook...</td>\n",
       "      <td>Electronics</td>\n",
       "      <td>2016-06-04 00:00:00+00:00</td>\n",
       "      <td>The table is great just to experience what is ...</td>\n",
       "      <td>Great Tablet at minimal expense</td>\n",
       "      <td>Positive</td>\n",
       "    </tr>\n",
       "    <tr>\n",
       "      <th>3843</th>\n",
       "      <td>Brand New Amazon Kindle Fire 16gb 7\" Ips Displ...</td>\n",
       "      <td>Amazon</td>\n",
       "      <td>Computers/Tablets &amp; Networking,Tablets &amp; eBook...</td>\n",
       "      <td>Electronics</td>\n",
       "      <td>2017-04-14 00:00:00+00:00</td>\n",
       "      <td>Too proprietary, the apps my daughter liked I ...</td>\n",
       "      <td>Kindle is overrated</td>\n",
       "      <td>Negative</td>\n",
       "    </tr>\n",
       "    <tr>\n",
       "      <th>3858</th>\n",
       "      <td>Brand New Amazon Kindle Fire 16gb 7\" Ips Displ...</td>\n",
       "      <td>Amazon</td>\n",
       "      <td>Computers/Tablets &amp; Networking,Tablets &amp; eBook...</td>\n",
       "      <td>Electronics</td>\n",
       "      <td>2016-10-17 00:00:00+00:00</td>\n",
       "      <td>This is my first tablet. So far, I am pleased ...</td>\n",
       "      <td>My first tablet</td>\n",
       "      <td>Positive</td>\n",
       "    </tr>\n",
       "    <tr>\n",
       "      <th>3867</th>\n",
       "      <td>Brand New Amazon Kindle Fire 16gb 7\" Ips Displ...</td>\n",
       "      <td>Amazon</td>\n",
       "      <td>Computers/Tablets &amp; Networking,Tablets &amp; eBook...</td>\n",
       "      <td>Electronics</td>\n",
       "      <td>2016-06-03 00:00:00+00:00</td>\n",
       "      <td>I bought a kindle fire 2 years ago and enjoyed...</td>\n",
       "      <td>Keeps getting better</td>\n",
       "      <td>Positive</td>\n",
       "    </tr>\n",
       "    <tr>\n",
       "      <th>3888</th>\n",
       "      <td>Kindle Oasis E-reader with Leather Charging Co...</td>\n",
       "      <td>Amazon</td>\n",
       "      <td>Kindle E-readers,Electronics Features,Computer...</td>\n",
       "      <td>Electronics</td>\n",
       "      <td>2017-06-30 00:00:00+00:00</td>\n",
       "      <td>Very lightweight and portable with excellent b...</td>\n",
       "      <td>Works Great</td>\n",
       "      <td>Positive</td>\n",
       "    </tr>\n",
       "    <tr>\n",
       "      <th>3894</th>\n",
       "      <td>Brand New Amazon Kindle Fire 16gb 7\" Ips Displ...</td>\n",
       "      <td>Amazon</td>\n",
       "      <td>Computers/Tablets &amp; Networking,Tablets &amp; eBook...</td>\n",
       "      <td>Electronics</td>\n",
       "      <td>2016-12-26 00:00:00+00:00</td>\n",
       "      <td>Gave it to my grandkids(ages 3, 4 &amp; 9) for Chr...</td>\n",
       "      <td>Great for kids</td>\n",
       "      <td>Positive</td>\n",
       "    </tr>\n",
       "    <tr>\n",
       "      <th>3910</th>\n",
       "      <td>Fire HD 10 Tablet, 10.1 HD Display, Wi-Fi, 16 ...</td>\n",
       "      <td>Amazon</td>\n",
       "      <td>eBook Readers,Fire Tablets,Electronics Feature...</td>\n",
       "      <td>Office Supplies,Electronics</td>\n",
       "      <td>2017-02-27 00:00:00+00:00</td>\n",
       "      <td>The store representative took his time with me...</td>\n",
       "      <td>I love the large Kindle</td>\n",
       "      <td>Positive</td>\n",
       "    </tr>\n",
       "    <tr>\n",
       "      <th>3926</th>\n",
       "      <td>Kindle Oasis E-reader with Leather Charging Co...</td>\n",
       "      <td>Amazon</td>\n",
       "      <td>Kindle E-readers,Electronics Features,Computer...</td>\n",
       "      <td>Electronics</td>\n",
       "      <td>2017-07-19 00:00:00+00:00</td>\n",
       "      <td>Was a gift to replace older one and she really...</td>\n",
       "      <td>Upgrade gift for wife</td>\n",
       "      <td>Positive</td>\n",
       "    </tr>\n",
       "    <tr>\n",
       "      <th>3961</th>\n",
       "      <td>Brand New Amazon Kindle Fire 16gb 7\" Ips Displ...</td>\n",
       "      <td>Amazon</td>\n",
       "      <td>Computers/Tablets &amp; Networking,Tablets &amp; eBook...</td>\n",
       "      <td>Electronics</td>\n",
       "      <td>2016-10-21 00:00:00+00:00</td>\n",
       "      <td>I bought this low-priced Kindle to test as a t...</td>\n",
       "      <td>Who needs a laptop?</td>\n",
       "      <td>Positive</td>\n",
       "    </tr>\n",
       "  </tbody>\n",
       "</table>\n",
       "</div>"
      ],
      "text/plain": [
       "                                                   name   brand  \\\n",
       "709   Brand New Amazon Kindle Fire 16gb 7\" Ips Displ...  Amazon   \n",
       "866   Kindle E-reader - White, 6 Glare-Free Touchscr...  Amazon   \n",
       "1085  Brand New Amazon Kindle Fire 16gb 7\" Ips Displ...  Amazon   \n",
       "1116  Kindle E-reader - White, 6 Glare-Free Touchscr...  Amazon   \n",
       "1131  Brand New Amazon Kindle Fire 16gb 7\" Ips Displ...  Amazon   \n",
       "1181  Brand New Amazon Kindle Fire 16gb 7\" Ips Displ...  Amazon   \n",
       "1216  Brand New Amazon Kindle Fire 16gb 7\" Ips Displ...  Amazon   \n",
       "1328  Kindle E-reader - White, 6 Glare-Free Touchscr...  Amazon   \n",
       "1365  Kindle E-reader - White, 6 Glare-Free Touchscr...  Amazon   \n",
       "1611  Brand New Amazon Kindle Fire 16gb 7\" Ips Displ...  Amazon   \n",
       "1621  Kindle E-reader - White, 6 Glare-Free Touchscr...  Amazon   \n",
       "1634  Brand New Amazon Kindle Fire 16gb 7\" Ips Displ...  Amazon   \n",
       "1930  Fire HD 10 Tablet, 10.1 HD Display, Wi-Fi, 16 ...  Amazon   \n",
       "1982  Brand New Amazon Kindle Fire 16gb 7\" Ips Displ...  Amazon   \n",
       "2004  Fire HD 10 Tablet, 10.1 HD Display, Wi-Fi, 16 ...  Amazon   \n",
       "2115  Kindle E-reader - White, 6 Glare-Free Touchscr...  Amazon   \n",
       "2210  Brand New Amazon Kindle Fire 16gb 7\" Ips Displ...  Amazon   \n",
       "2346  All-New Fire HD 8 Tablet, 8 HD Display, Wi-Fi,...  Amazon   \n",
       "2368  Brand New Amazon Kindle Fire 16gb 7\" Ips Displ...  Amazon   \n",
       "2487  All-New Fire HD 8 Tablet, 8 HD Display, Wi-Fi,...  Amazon   \n",
       "2540  Fire HD 10 Tablet, 10.1 HD Display, Wi-Fi, 16 ...  Amazon   \n",
       "2574  Brand New Amazon Kindle Fire 16gb 7\" Ips Displ...  Amazon   \n",
       "2599  Kindle E-reader - White, 6 Glare-Free Touchscr...  Amazon   \n",
       "2617  Brand New Amazon Kindle Fire 16gb 7\" Ips Displ...  Amazon   \n",
       "2657  Brand New Amazon Kindle Fire 16gb 7\" Ips Displ...  Amazon   \n",
       "2737  Brand New Amazon Kindle Fire 16gb 7\" Ips Displ...  Amazon   \n",
       "2754  All-New Fire HD 8 Tablet, 8 HD Display, Wi-Fi,...  Amazon   \n",
       "2871  Kindle E-reader - White, 6 Glare-Free Touchscr...  Amazon   \n",
       "2950  Brand New Amazon Kindle Fire 16gb 7\" Ips Displ...  Amazon   \n",
       "3018  Brand New Amazon Kindle Fire 16gb 7\" Ips Displ...  Amazon   \n",
       "3078  Kindle E-reader - White, 6 Glare-Free Touchscr...  Amazon   \n",
       "3117  Fire HD 10 Tablet, 10.1 HD Display, Wi-Fi, 16 ...  Amazon   \n",
       "3183  Brand New Amazon Kindle Fire 16gb 7\" Ips Displ...  Amazon   \n",
       "3227  Kindle Oasis E-reader with Leather Charging Co...  Amazon   \n",
       "3246  Brand New Amazon Kindle Fire 16gb 7\" Ips Displ...  Amazon   \n",
       "3267  Brand New Amazon Kindle Fire 16gb 7\" Ips Displ...  Amazon   \n",
       "3378  Brand New Amazon Kindle Fire 16gb 7\" Ips Displ...  Amazon   \n",
       "3413  Brand New Amazon Kindle Fire 16gb 7\" Ips Displ...  Amazon   \n",
       "3481  Fire HD 10 Tablet, 10.1 HD Display, Wi-Fi, 16 ...  Amazon   \n",
       "3486  Kindle E-reader - White, 6 Glare-Free Touchscr...  Amazon   \n",
       "3495  Brand New Amazon Kindle Fire 16gb 7\" Ips Displ...  Amazon   \n",
       "3497  Kindle E-reader - White, 6 Glare-Free Touchscr...  Amazon   \n",
       "3589  Brand New Amazon Kindle Fire 16gb 7\" Ips Displ...  Amazon   \n",
       "3607  Kindle E-reader - White, 6 Glare-Free Touchscr...  Amazon   \n",
       "3662  Kindle E-reader - White, 6 Glare-Free Touchscr...  Amazon   \n",
       "3692  Fire HD 10 Tablet, 10.1 HD Display, Wi-Fi, 16 ...  Amazon   \n",
       "3735  Brand New Amazon Kindle Fire 16gb 7\" Ips Displ...  Amazon   \n",
       "3741  Brand New Amazon Kindle Fire 16gb 7\" Ips Displ...  Amazon   \n",
       "3754  Brand New Amazon Kindle Fire 16gb 7\" Ips Displ...  Amazon   \n",
       "3786  Brand New Amazon Kindle Fire 16gb 7\" Ips Displ...  Amazon   \n",
       "3843  Brand New Amazon Kindle Fire 16gb 7\" Ips Displ...  Amazon   \n",
       "3858  Brand New Amazon Kindle Fire 16gb 7\" Ips Displ...  Amazon   \n",
       "3867  Brand New Amazon Kindle Fire 16gb 7\" Ips Displ...  Amazon   \n",
       "3888  Kindle Oasis E-reader with Leather Charging Co...  Amazon   \n",
       "3894  Brand New Amazon Kindle Fire 16gb 7\" Ips Displ...  Amazon   \n",
       "3910  Fire HD 10 Tablet, 10.1 HD Display, Wi-Fi, 16 ...  Amazon   \n",
       "3926  Kindle Oasis E-reader with Leather Charging Co...  Amazon   \n",
       "3961  Brand New Amazon Kindle Fire 16gb 7\" Ips Displ...  Amazon   \n",
       "\n",
       "                                             categories  \\\n",
       "709   Computers/Tablets & Networking,Tablets & eBook...   \n",
       "866   Office,eBook Readers,Electronics Features,Walm...   \n",
       "1085  Computers/Tablets & Networking,Tablets & eBook...   \n",
       "1116  Office,eBook Readers,Electronics Features,Walm...   \n",
       "1131  Computers/Tablets & Networking,Tablets & eBook...   \n",
       "1181  Computers/Tablets & Networking,Tablets & eBook...   \n",
       "1216  Computers/Tablets & Networking,Tablets & eBook...   \n",
       "1328  Office,eBook Readers,Electronics Features,Walm...   \n",
       "1365  Office,eBook Readers,Electronics Features,Walm...   \n",
       "1611  Computers/Tablets & Networking,Tablets & eBook...   \n",
       "1621  Office,eBook Readers,Electronics Features,Walm...   \n",
       "1634  Computers/Tablets & Networking,Tablets & eBook...   \n",
       "1930  eBook Readers,Fire Tablets,Electronics Feature...   \n",
       "1982  Computers/Tablets & Networking,Tablets & eBook...   \n",
       "2004  eBook Readers,Fire Tablets,Electronics Feature...   \n",
       "2115  Office,eBook Readers,Electronics Features,Walm...   \n",
       "2210  Computers/Tablets & Networking,Tablets & eBook...   \n",
       "2346    Fire Tablets,Tablets,All Tablets,Amazon Tablets   \n",
       "2368  Computers/Tablets & Networking,Tablets & eBook...   \n",
       "2487  Fire Tablets,Tablets,All Tablets,Amazon Tablet...   \n",
       "2540  eBook Readers,Fire Tablets,Electronics Feature...   \n",
       "2574  Computers/Tablets & Networking,Tablets & eBook...   \n",
       "2599  Office,eBook Readers,Electronics Features,Walm...   \n",
       "2617  Computers/Tablets & Networking,Tablets & eBook...   \n",
       "2657  Computers/Tablets & Networking,Tablets & eBook...   \n",
       "2737  Computers/Tablets & Networking,Tablets & eBook...   \n",
       "2754    Fire Tablets,Tablets,All Tablets,Amazon Tablets   \n",
       "2871  Office,eBook Readers,Electronics Features,Walm...   \n",
       "2950  Computers/Tablets & Networking,Tablets & eBook...   \n",
       "3018  Computers/Tablets & Networking,Tablets & eBook...   \n",
       "3078  Office,eBook Readers,Electronics Features,Walm...   \n",
       "3117  eBook Readers,Fire Tablets,Electronics Feature...   \n",
       "3183  Computers/Tablets & Networking,Tablets & eBook...   \n",
       "3227  Kindle E-readers,Electronics Features,Computer...   \n",
       "3246  Computers/Tablets & Networking,Tablets & eBook...   \n",
       "3267  Computers/Tablets & Networking,Tablets & eBook...   \n",
       "3378  Computers/Tablets & Networking,Tablets & eBook...   \n",
       "3413  Computers/Tablets & Networking,Tablets & eBook...   \n",
       "3481  eBook Readers,Fire Tablets,Electronics Feature...   \n",
       "3486  Office,eBook Readers,Electronics Features,Walm...   \n",
       "3495  Computers/Tablets & Networking,Tablets & eBook...   \n",
       "3497  Office,eBook Readers,Electronics Features,Walm...   \n",
       "3589  Computers/Tablets & Networking,Tablets & eBook...   \n",
       "3607  Office,eBook Readers,Electronics Features,Walm...   \n",
       "3662  Office,eBook Readers,Electronics Features,Walm...   \n",
       "3692  eBook Readers,Fire Tablets,Electronics Feature...   \n",
       "3735  Computers/Tablets & Networking,Tablets & eBook...   \n",
       "3741  Computers/Tablets & Networking,Tablets & eBook...   \n",
       "3754  Computers/Tablets & Networking,Tablets & eBook...   \n",
       "3786  Computers/Tablets & Networking,Tablets & eBook...   \n",
       "3843  Computers/Tablets & Networking,Tablets & eBook...   \n",
       "3858  Computers/Tablets & Networking,Tablets & eBook...   \n",
       "3867  Computers/Tablets & Networking,Tablets & eBook...   \n",
       "3888  Kindle E-readers,Electronics Features,Computer...   \n",
       "3894  Computers/Tablets & Networking,Tablets & eBook...   \n",
       "3910  eBook Readers,Fire Tablets,Electronics Feature...   \n",
       "3926  Kindle E-readers,Electronics Features,Computer...   \n",
       "3961  Computers/Tablets & Networking,Tablets & eBook...   \n",
       "\n",
       "                primaryCategories              reviews.date  \\\n",
       "709                   Electronics 2017-01-23 00:00:00+00:00   \n",
       "866   Office Supplies,Electronics 2017-09-01 00:00:00+00:00   \n",
       "1085                  Electronics 2017-02-15 00:00:00+00:00   \n",
       "1116  Office Supplies,Electronics 2016-12-24 00:00:00+00:00   \n",
       "1131                  Electronics 2016-05-27 00:00:00+00:00   \n",
       "1181                  Electronics 2016-10-28 00:00:00+00:00   \n",
       "1216                  Electronics 2016-12-07 00:00:00+00:00   \n",
       "1328  Office Supplies,Electronics 2017-12-08 00:00:00+00:00   \n",
       "1365  Office Supplies,Electronics 2017-01-06 00:00:00+00:00   \n",
       "1611                  Electronics 2016-09-09 00:00:00+00:00   \n",
       "1621  Office Supplies,Electronics 2016-09-25 00:00:00+00:00   \n",
       "1634                  Electronics 2016-09-07 00:00:00+00:00   \n",
       "1930  Office Supplies,Electronics 2016-09-02 00:00:00+00:00   \n",
       "1982                  Electronics 2017-02-18 00:00:00+00:00   \n",
       "2004  Office Supplies,Electronics 2017-01-18 00:00:00+00:00   \n",
       "2115  Office Supplies,Electronics 2018-03-02 00:00:00+00:00   \n",
       "2210                  Electronics 2016-06-22 00:00:00+00:00   \n",
       "2346                  Electronics 2017-04-03 00:00:00+00:00   \n",
       "2368                  Electronics 2016-07-20 00:00:00+00:00   \n",
       "2487                  Electronics 2017-01-17 00:00:00+00:00   \n",
       "2540  Office Supplies,Electronics 2017-01-25 00:00:00+00:00   \n",
       "2574                  Electronics 2016-06-24 00:00:00+00:00   \n",
       "2599  Office Supplies,Electronics 2017-01-27 00:00:00+00:00   \n",
       "2617                  Electronics 2017-06-30 00:00:00+00:00   \n",
       "2657                  Electronics 2016-07-08 00:00:00+00:00   \n",
       "2737                  Electronics 2017-02-14 00:00:00+00:00   \n",
       "2754                  Electronics 2017-03-04 00:00:00+00:00   \n",
       "2871  Office Supplies,Electronics 2017-02-13 00:00:00+00:00   \n",
       "2950                  Electronics 2017-01-18 00:00:00+00:00   \n",
       "3018                  Electronics 2016-07-11 00:00:00+00:00   \n",
       "3078  Office Supplies,Electronics 2016-10-15 00:00:00+00:00   \n",
       "3117  Office Supplies,Electronics 2017-06-19 00:00:00+00:00   \n",
       "3183                  Electronics 2017-02-20 00:00:00+00:00   \n",
       "3227                  Electronics 2016-09-16 00:00:00+00:00   \n",
       "3246                  Electronics 2017-01-10 00:00:00+00:00   \n",
       "3267                  Electronics 2016-09-13 00:00:00+00:00   \n",
       "3378                  Electronics 2017-02-27 00:00:00+00:00   \n",
       "3413                  Electronics 2016-08-01 00:00:00+00:00   \n",
       "3481  Office Supplies,Electronics 2017-05-05 00:00:00+00:00   \n",
       "3486  Office Supplies,Electronics 2017-08-28 00:00:00+00:00   \n",
       "3495                  Electronics 2017-03-11 00:00:00+00:00   \n",
       "3497  Office Supplies,Electronics 2017-12-09 00:00:00+00:00   \n",
       "3589                  Electronics 2016-09-09 00:00:00+00:00   \n",
       "3607  Office Supplies,Electronics 2017-10-06 00:00:00+00:00   \n",
       "3662  Office Supplies,Electronics 2016-12-14 00:00:00+00:00   \n",
       "3692  Office Supplies,Electronics 2017-06-26 00:00:00+00:00   \n",
       "3735                  Electronics 2016-06-03 00:00:00+00:00   \n",
       "3741                  Electronics 2016-07-22 00:00:00+00:00   \n",
       "3754                  Electronics 2016-11-22 00:00:00+00:00   \n",
       "3786                  Electronics 2016-06-04 00:00:00+00:00   \n",
       "3843                  Electronics 2017-04-14 00:00:00+00:00   \n",
       "3858                  Electronics 2016-10-17 00:00:00+00:00   \n",
       "3867                  Electronics 2016-06-03 00:00:00+00:00   \n",
       "3888                  Electronics 2017-06-30 00:00:00+00:00   \n",
       "3894                  Electronics 2016-12-26 00:00:00+00:00   \n",
       "3910  Office Supplies,Electronics 2017-02-27 00:00:00+00:00   \n",
       "3926                  Electronics 2017-07-19 00:00:00+00:00   \n",
       "3961                  Electronics 2016-10-21 00:00:00+00:00   \n",
       "\n",
       "                                           reviews.text  \\\n",
       "709   This is the 3rd one I've purchased. I've bough...   \n",
       "866   This is really good if you read a lot, doesn't...   \n",
       "1085  Great for kids. Simple and inexpensive. 16G mu...   \n",
       "1116  Item work well and was easy to read from in da...   \n",
       "1131  Good tablet for my daughter! She loves it ,but...   \n",
       "1181  Gave as a gift to niece in hospital she loved ...   \n",
       "1216  Tablets are best used for personal reading. Cl...   \n",
       "1328  I purchased this Kindle for my daughter and sh...   \n",
       "1365  I love my kindle it makes it so much easier to...   \n",
       "1611  Quite an upgrade from the original Fire. The d...   \n",
       "1621  Easy to navigate. Daughter loves it. It's ligh...   \n",
       "1634  My first tablet was a Kindle. I was curious ab...   \n",
       "1930  As I age, it's difficult for me to see the sma...   \n",
       "1982  I bought this for my daughter who uses it in h...   \n",
       "2004  I got the amazon Fire HD 10 for reading and ot...   \n",
       "2115  I'm enjoying the ease of having several readin...   \n",
       "2210  The kinde was really good and my dauther like ...   \n",
       "2346  This tablet is great for my son. Would be nice...   \n",
       "2368  if you use it for certain things it's great. C...   \n",
       "2487  Very happy with product. It's a miniature lap ...   \n",
       "2540  I bought this Tablet for my Wife. She uses it ...   \n",
       "2574  Loved my husbands 4th generation disappointed ...   \n",
       "2599  Not the paperwhite, but for the price I paid w...   \n",
       "2617  Blue is beautiful & allows grand-daughter to b...   \n",
       "2657  It's perfect for me when I'm doing homework or...   \n",
       "2737  The only problem I have is have to recharge ba...   \n",
       "2754  The Fire HD8 strikes an excellent balance betw...   \n",
       "2871  Easy to use and navigate, purchasing books is ...   \n",
       "2950  I love this tablet. One of the best out there ...   \n",
       "3018  I use this all the time for playing games and ...   \n",
       "3078  I prefer the Kindle to a book. I like the chan...   \n",
       "3117  Just writing this review to get my points...Th...   \n",
       "3183  My daughter loves her tablet because she can c...   \n",
       "3227  New to eBooks and researched available eReader...   \n",
       "3246  Great product. Exactly what I've come to expec...   \n",
       "3267  For those that have Prime this is almost a mus...   \n",
       "3378  I like this Kindle the only this is it does no...   \n",
       "3413  bought this kindle for my grandson, he loves i...   \n",
       "3481  I love this product it is so easy to use It ha...   \n",
       "3486  Excellent product very good piece strongly rec...   \n",
       "3495  Just love this tablet.does everything teenage ...   \n",
       "3497  I had the 4th generation. I am quite happy wit...   \n",
       "3589  Looking for a reader with some basic tablet fu...   \n",
       "3607  very good product and service will refer a fri...   \n",
       "3662  This make an excellent ebook reader. Don't exp...   \n",
       "3692  I go this tablet after problems with 2 Samsung...   \n",
       "3735  My daughter is totally enjoying her tablet.Rec...   \n",
       "3741  Very happy with my purchase. The tablet works ...   \n",
       "3754  Decent camera, clarity on the screen, fast dow...   \n",
       "3786  The table is great just to experience what is ...   \n",
       "3843  Too proprietary, the apps my daughter liked I ...   \n",
       "3858  This is my first tablet. So far, I am pleased ...   \n",
       "3867  I bought a kindle fire 2 years ago and enjoyed...   \n",
       "3888  Very lightweight and portable with excellent b...   \n",
       "3894  Gave it to my grandkids(ages 3, 4 & 9) for Chr...   \n",
       "3910  The store representative took his time with me...   \n",
       "3926  Was a gift to replace older one and she really...   \n",
       "3961  I bought this low-priced Kindle to test as a t...   \n",
       "\n",
       "                                         reviews.title sentiment  \n",
       "709                                      Very durable!  Positive  \n",
       "866                        Great buy if you read a lot  Positive  \n",
       "1085                                     Simple tablet  Positive  \n",
       "1116                                              Work  Positive  \n",
       "1131                                            Great!  Positive  \n",
       "1181                                      Great Tablet  Positive  \n",
       "1216                                        Its a gift  Positive  \n",
       "1328                                      Nice Kindle!  Positive  \n",
       "1365                                  Love the product  Positive  \n",
       "1611                                   Love this Fire!  Positive  \n",
       "1621                                     Great product  Positive  \n",
       "1634                              Crashed after update  Negative  \n",
       "1930                 Wow!! What a great size for me!!!  Positive  \n",
       "1982                                   Great purchase!  Positive  \n",
       "2004                               Fun and Easy to Use  Positive  \n",
       "2115                       Perfect. Just what I needed  Positive  \n",
       "2210                                           Love it  Positive  \n",
       "2346                                     Solid tablet!  Positive  \n",
       "2368  great for the things I have put on it and use it  Positive  \n",
       "2487                                        Very happy  Positive  \n",
       "2540                                  Excellent Tablet  Positive  \n",
       "2574                                      Disappointed  Negative  \n",
       "2599                                  It is what it is  Positive  \n",
       "2617                   Great for playing piano program  Positive  \n",
       "2657                                  Always in the go  Positive  \n",
       "2737                                short battery life  Positive  \n",
       "2754                           Excellent budget tablet  Positive  \n",
       "2871                      Great e-reader for beginners  Positive  \n",
       "2950                                      Great tablet  Positive  \n",
       "3018                                             great  Positive  \n",
       "3078       I've had one before, so I knew I'd be happy  Positive  \n",
       "3117             Was a gift to replace a broken kindle  Positive  \n",
       "3183              great for my daughter to view videos  Positive  \n",
       "3227                               Great eBooks reader  Positive  \n",
       "3246                                    It's a Kindle!  Positive  \n",
       "3267                           Great tablet for Amazon  Positive  \n",
       "3378                                             Great  Positive  \n",
       "3413                                     great product  Positive  \n",
       "3481                                       Kindle fire  Positive  \n",
       "3486                                      Great kindle  Positive  \n",
       "3495                      Great tablet for my grandson  Positive  \n",
       "3497                                    A good upgrade  Positive  \n",
       "3589                               Basic tablet/reader  Positive  \n",
       "3607                    very good product and service.  Positive  \n",
       "3662                                        Good ebook  Positive  \n",
       "3692                                   Reliable tablet  Positive  \n",
       "3735            My daughter loves her new Fire tablet.  Positive  \n",
       "3741                               Great for beginners  Positive  \n",
       "3754                                      great tablet  Positive  \n",
       "3786                   Great Tablet at minimal expense  Positive  \n",
       "3843                               Kindle is overrated  Negative  \n",
       "3858                                   My first tablet  Positive  \n",
       "3867                              Keeps getting better  Positive  \n",
       "3888                                       Works Great  Positive  \n",
       "3894                                    Great for kids  Positive  \n",
       "3910                           I love the large Kindle  Positive  \n",
       "3926                             Upgrade gift for wife  Positive  \n",
       "3961                               Who needs a laptop?  Positive  "
      ]
     },
     "execution_count": 23,
     "metadata": {},
     "output_type": "execute_result"
    }
   ],
   "source": [
    "train_df[train_df.duplicated()]"
   ]
  },
  {
   "cell_type": "code",
   "execution_count": 24,
   "id": "043ef9d6",
   "metadata": {},
   "outputs": [
    {
     "data": {
      "text/html": [
       "<div>\n",
       "<style scoped>\n",
       "    .dataframe tbody tr th:only-of-type {\n",
       "        vertical-align: middle;\n",
       "    }\n",
       "\n",
       "    .dataframe tbody tr th {\n",
       "        vertical-align: top;\n",
       "    }\n",
       "\n",
       "    .dataframe thead th {\n",
       "        text-align: right;\n",
       "    }\n",
       "</style>\n",
       "<table border=\"1\" class=\"dataframe\">\n",
       "  <thead>\n",
       "    <tr style=\"text-align: right;\">\n",
       "      <th></th>\n",
       "      <th>name</th>\n",
       "      <th>brand</th>\n",
       "      <th>categories</th>\n",
       "      <th>primaryCategories</th>\n",
       "      <th>reviews.date</th>\n",
       "      <th>reviews.text</th>\n",
       "      <th>reviews.title</th>\n",
       "      <th>sentiment</th>\n",
       "    </tr>\n",
       "  </thead>\n",
       "  <tbody>\n",
       "    <tr>\n",
       "      <th>509</th>\n",
       "      <td>Kindle E-reader - White, 6 Glare-Free Touchscr...</td>\n",
       "      <td>Amazon</td>\n",
       "      <td>Office,eBook Readers,Electronics Features,Walm...</td>\n",
       "      <td>Office Supplies,Electronics</td>\n",
       "      <td>2017-12-09 00:00:00+00:00</td>\n",
       "      <td>I had the 4th generation. I am quite happy wit...</td>\n",
       "      <td>A good upgrade</td>\n",
       "      <td>Positive</td>\n",
       "    </tr>\n",
       "    <tr>\n",
       "      <th>3497</th>\n",
       "      <td>Kindle E-reader - White, 6 Glare-Free Touchscr...</td>\n",
       "      <td>Amazon</td>\n",
       "      <td>Office,eBook Readers,Electronics Features,Walm...</td>\n",
       "      <td>Office Supplies,Electronics</td>\n",
       "      <td>2017-12-09 00:00:00+00:00</td>\n",
       "      <td>I had the 4th generation. I am quite happy wit...</td>\n",
       "      <td>A good upgrade</td>\n",
       "      <td>Positive</td>\n",
       "    </tr>\n",
       "  </tbody>\n",
       "</table>\n",
       "</div>"
      ],
      "text/plain": [
       "                                                   name   brand  \\\n",
       "509   Kindle E-reader - White, 6 Glare-Free Touchscr...  Amazon   \n",
       "3497  Kindle E-reader - White, 6 Glare-Free Touchscr...  Amazon   \n",
       "\n",
       "                                             categories  \\\n",
       "509   Office,eBook Readers,Electronics Features,Walm...   \n",
       "3497  Office,eBook Readers,Electronics Features,Walm...   \n",
       "\n",
       "                primaryCategories              reviews.date  \\\n",
       "509   Office Supplies,Electronics 2017-12-09 00:00:00+00:00   \n",
       "3497  Office Supplies,Electronics 2017-12-09 00:00:00+00:00   \n",
       "\n",
       "                                           reviews.text   reviews.title  \\\n",
       "509   I had the 4th generation. I am quite happy wit...  A good upgrade   \n",
       "3497  I had the 4th generation. I am quite happy wit...  A good upgrade   \n",
       "\n",
       "     sentiment  \n",
       "509   Positive  \n",
       "3497  Positive  "
      ]
     },
     "execution_count": 24,
     "metadata": {},
     "output_type": "execute_result"
    }
   ],
   "source": [
    "#Check one duplicate entry\n",
    "\n",
    "train_df[train_df['reviews.title']=='A good upgrade']"
   ]
  },
  {
   "cell_type": "markdown",
   "id": "ca385381",
   "metadata": {},
   "source": [
    "#### We can remove duplicate entries as we need to use unique records for better analysis"
   ]
  },
  {
   "cell_type": "code",
   "execution_count": 25,
   "id": "acb1985d",
   "metadata": {},
   "outputs": [
    {
     "data": {
      "text/plain": [
       "(3817, 8)"
      ]
     },
     "execution_count": 25,
     "metadata": {},
     "output_type": "execute_result"
    }
   ],
   "source": [
    "duplicated_data = train_df.duplicated(keep='first')\n",
    "df_new = train_df[~duplicated_data] \n",
    "df_new.shape"
   ]
  },
  {
   "cell_type": "markdown",
   "id": "a9387628",
   "metadata": {},
   "source": [
    "#### 58 records are removed"
   ]
  },
  {
   "cell_type": "code",
   "execution_count": 26,
   "id": "e000f19e",
   "metadata": {},
   "outputs": [
    {
     "data": {
      "text/plain": [
       "0"
      ]
     },
     "execution_count": 26,
     "metadata": {},
     "output_type": "execute_result"
    }
   ],
   "source": [
    "# check if duplicate records are removed.\n",
    "df_new.duplicated().sum()"
   ]
  },
  {
   "cell_type": "markdown",
   "id": "d7ed2a81",
   "metadata": {},
   "source": [
    "#### Check the distribution of sentiment data"
   ]
  },
  {
   "cell_type": "code",
   "execution_count": 27,
   "id": "9a241d80",
   "metadata": {},
   "outputs": [
    {
     "data": {
      "text/plain": [
       "Positive    3594\n",
       "Neutral      149\n",
       "Negative      74\n",
       "Name: sentiment, dtype: int64"
      ]
     },
     "execution_count": 27,
     "metadata": {},
     "output_type": "execute_result"
    }
   ],
   "source": [
    "df_new.sentiment.value_counts()"
   ]
  },
  {
   "cell_type": "code",
   "execution_count": 28,
   "id": "fe424c43",
   "metadata": {},
   "outputs": [
    {
     "data": {
      "image/png": "[encoded data removed]",
      "text/plain": [
       "<Figure size 432x288 with 1 Axes>"
      ]
     },
     "metadata": {
      "needs_background": "light"
     },
     "output_type": "display_data"
    }
   ],
   "source": [
    "sns.countplot(df_new['sentiment'])\n",
    "plt.show()"
   ]
  },
  {
   "cell_type": "code",
   "execution_count": 29,
   "id": "c874e179",
   "metadata": {},
   "outputs": [
    {
     "data": {
      "image/png": "[encoded data removed]",
      "text/plain": [
       "<Figure size 432x288 with 1 Axes>"
      ]
     },
     "metadata": {},
     "output_type": "display_data"
    }
   ],
   "source": [
    "# Check the percentage of each sentiment type\n",
    "\n",
    "df_new.sentiment.value_counts().plot(kind='pie',autopct='%.2f',textprops={'fontsize': 12},label='')\n",
    "plt.tight_layout()\n",
    "plt.show()"
   ]
  },
  {
   "cell_type": "markdown",
   "id": "fe258e31",
   "metadata": {},
   "source": [
    "#### More than 94 percent data is for positive sentiment. 3.93 percent is Neutral and 1.91 percent Negative sentiments. The data is higly imbalanced. Will review later on imbalance data "
   ]
  },
  {
   "cell_type": "markdown",
   "id": "ede8c0af",
   "metadata": {},
   "source": [
    "#### Review cateogrywise sentiments  "
   ]
  },
  {
   "cell_type": "code",
   "execution_count": 30,
   "id": "469f3954",
   "metadata": {},
   "outputs": [
    {
     "data": {
      "text/plain": [
       "primaryCategories            sentiment\n",
       "Electronics                  Negative       56\n",
       "                             Neutral       110\n",
       "                             Positive     2319\n",
       "Electronics,Hardware         Negative       16\n",
       "                             Neutral        28\n",
       "                             Positive     1079\n",
       "Electronics,Media            Positive       13\n",
       "Office Supplies,Electronics  Negative        2\n",
       "                             Neutral        11\n",
       "                             Positive      183\n",
       "Name: brand, dtype: int64"
      ]
     },
     "execution_count": 30,
     "metadata": {},
     "output_type": "execute_result"
    }
   ],
   "source": [
    "df_cat_sentiment = df_new.groupby(['primaryCategories','sentiment'])['brand'].count()\n",
    "df_cat_sentiment"
   ]
  },
  {
   "cell_type": "code",
   "execution_count": 31,
   "id": "c743025f",
   "metadata": {},
   "outputs": [
    {
     "data": {
      "text/html": [
       "<div>\n",
       "<style scoped>\n",
       "    .dataframe tbody tr th:only-of-type {\n",
       "        vertical-align: middle;\n",
       "    }\n",
       "\n",
       "    .dataframe tbody tr th {\n",
       "        vertical-align: top;\n",
       "    }\n",
       "\n",
       "    .dataframe thead th {\n",
       "        text-align: right;\n",
       "    }\n",
       "</style>\n",
       "<table border=\"1\" class=\"dataframe\">\n",
       "  <thead>\n",
       "    <tr style=\"text-align: right;\">\n",
       "      <th></th>\n",
       "      <th>primaryCategories</th>\n",
       "      <th>sentiment</th>\n",
       "      <th>brand</th>\n",
       "      <th>Percentage</th>\n",
       "    </tr>\n",
       "  </thead>\n",
       "  <tbody>\n",
       "    <tr>\n",
       "      <th>0</th>\n",
       "      <td>Electronics</td>\n",
       "      <td>Negative</td>\n",
       "      <td>56</td>\n",
       "      <td>1.467121</td>\n",
       "    </tr>\n",
       "    <tr>\n",
       "      <th>1</th>\n",
       "      <td>Electronics</td>\n",
       "      <td>Neutral</td>\n",
       "      <td>110</td>\n",
       "      <td>2.881844</td>\n",
       "    </tr>\n",
       "    <tr>\n",
       "      <th>2</th>\n",
       "      <td>Electronics</td>\n",
       "      <td>Positive</td>\n",
       "      <td>2319</td>\n",
       "      <td>60.754519</td>\n",
       "    </tr>\n",
       "    <tr>\n",
       "      <th>3</th>\n",
       "      <td>Electronics,Hardware</td>\n",
       "      <td>Negative</td>\n",
       "      <td>16</td>\n",
       "      <td>0.419177</td>\n",
       "    </tr>\n",
       "    <tr>\n",
       "      <th>4</th>\n",
       "      <td>Electronics,Hardware</td>\n",
       "      <td>Neutral</td>\n",
       "      <td>28</td>\n",
       "      <td>0.733560</td>\n",
       "    </tr>\n",
       "    <tr>\n",
       "      <th>5</th>\n",
       "      <td>Electronics,Hardware</td>\n",
       "      <td>Positive</td>\n",
       "      <td>1079</td>\n",
       "      <td>28.268274</td>\n",
       "    </tr>\n",
       "    <tr>\n",
       "      <th>6</th>\n",
       "      <td>Electronics,Media</td>\n",
       "      <td>Positive</td>\n",
       "      <td>13</td>\n",
       "      <td>0.340582</td>\n",
       "    </tr>\n",
       "    <tr>\n",
       "      <th>7</th>\n",
       "      <td>Office Supplies,Electronics</td>\n",
       "      <td>Negative</td>\n",
       "      <td>2</td>\n",
       "      <td>0.052397</td>\n",
       "    </tr>\n",
       "    <tr>\n",
       "      <th>8</th>\n",
       "      <td>Office Supplies,Electronics</td>\n",
       "      <td>Neutral</td>\n",
       "      <td>11</td>\n",
       "      <td>0.288184</td>\n",
       "    </tr>\n",
       "    <tr>\n",
       "      <th>9</th>\n",
       "      <td>Office Supplies,Electronics</td>\n",
       "      <td>Positive</td>\n",
       "      <td>183</td>\n",
       "      <td>4.794341</td>\n",
       "    </tr>\n",
       "  </tbody>\n",
       "</table>\n",
       "</div>"
      ],
      "text/plain": [
       "             primaryCategories sentiment  brand  Percentage\n",
       "0                  Electronics  Negative     56    1.467121\n",
       "1                  Electronics   Neutral    110    2.881844\n",
       "2                  Electronics  Positive   2319   60.754519\n",
       "3         Electronics,Hardware  Negative     16    0.419177\n",
       "4         Electronics,Hardware   Neutral     28    0.733560\n",
       "5         Electronics,Hardware  Positive   1079   28.268274\n",
       "6            Electronics,Media  Positive     13    0.340582\n",
       "7  Office Supplies,Electronics  Negative      2    0.052397\n",
       "8  Office Supplies,Electronics   Neutral     11    0.288184\n",
       "9  Office Supplies,Electronics  Positive    183    4.794341"
      ]
     },
     "execution_count": 31,
     "metadata": {},
     "output_type": "execute_result"
    }
   ],
   "source": [
    "category_senti_count = df_new.groupby(['primaryCategories','sentiment'])['brand'].count().reset_index()\n",
    "category_senti_count['Percentage'] = 100 * category_senti_count['brand']  / category_senti_count['brand'].sum()\n",
    "category_senti_count"
   ]
  },
  {
   "cell_type": "markdown",
   "id": "ef878b01",
   "metadata": {},
   "source": [
    "\n",
    "a1a#### df_cat_sentiment.unstack().plot(kind='barh',stacked=True)"
   ]
  },
  {
   "cell_type": "markdown",
   "id": "5307a65b",
   "metadata": {},
   "source": [
    "#### Doing the product wise review analysis"
   ]
  },
  {
   "cell_type": "code",
   "execution_count": 32,
   "id": "ad991fcb",
   "metadata": {
    "scrolled": true
   },
   "outputs": [
    {
     "data": {
      "text/plain": [
       "name\n",
       "Amazon Echo Show Alexa-enabled Bluetooth Speaker with 7\" Screen                                                                     649\n",
       "All-New Fire HD 8 Tablet, 8\" HD Display, Wi-Fi, 16 GB - Includes Special Offers, Magenta                                            619\n",
       "Amazon - Echo Plus w/ Built-In Hub - Silver                                                                                         474\n",
       "Fire Kids Edition Tablet, 7 Display, Wi-Fi, 16 GB, Blue Kid-Proof Case                                                              436\n",
       "Brand New Amazon Kindle Fire 16gb 7\" Ips Display Tablet Wifi 16 Gb Blue                                                             335\n",
       "Fire Tablet, 7 Display, Wi-Fi, 16 GB - Includes Special Offers, Black                                                               287\n",
       "Fire Kids Edition Tablet, 7 Display, Wi-Fi, 16 GB, Green Kid-Proof Case                                                             170\n",
       "Amazon Tap - Alexa-Enabled Portable Bluetooth Speaker                                                                               170\n",
       "Kindle E-reader - White, 6 Glare-Free Touchscreen Display, Wi-Fi - Includes Special Offers                                          118\n",
       "Fire Tablet with Alexa, 7\" Display, 16 GB, Magenta - with Special Offers                                                             80\n",
       "Fire HD 10 Tablet, 10.1 HD Display, Wi-Fi, 16 GB - Includes Special Offers, Silver Aluminum                                          78\n",
       "Amazon Kindle E-Reader 6\" Wifi (8th Generation, 2016)                                                                                71\n",
       "Amazon - Kindle Voyage - 6\" - 4GB - Black                                                                                            59\n",
       "All-New Fire HD 8 Tablet, 8 HD Display, Wi-Fi, 32 GB - Includes Special Offers, Blue                                                 51\n",
       "All-New Fire HD 8 Tablet, 8\" HD Display, Wi-Fi, 32 GB - Includes Special Offers, Black                                               42\n",
       "Fire HD 8 Tablet with Alexa, 8\" HD Display, 32 GB, Tangerine - with Special Offers                                                   39\n",
       "All-New Fire HD 8 Tablet, 8 HD Display, Wi-Fi, 16 GB - Includes Special Offers, Blue                                                 35\n",
       "All-New Fire HD 8 Tablet, 8\" HD Display, Wi-Fi, 32 GB - Includes Special Offers, Magenta                                             31\n",
       "Kindle Oasis E-reader with Leather Charging Cover - Black, 6\" High-Resolution Display (300 ppi), Wi-Fi - Includes Special Offers     21\n",
       "Amazon 9W PowerFast Official OEM USB Charger and Power Adapter for Fire Tablets and Kindle eReaders                                  20\n",
       "Amazon - Kindle Voyage - 4GB - Wi-Fi + 3G - Black                                                                                    17\n",
       "Kindle Oasis E-reader with Leather Charging Cover - Merlot, 6 High-Resolution Display (300 ppi), Wi-Fi - Includes Special Offers     13\n",
       "Amazon Fire TV with 4K Ultra HD and Alexa Voice Remote (Pendant Design) | Streaming Media Player                                      2\n",
       "Name: brand, dtype: int64"
      ]
     },
     "execution_count": 32,
     "metadata": {},
     "output_type": "execute_result"
    }
   ],
   "source": [
    "df_new.groupby(['name'])['brand'].count().sort_values(ascending=False)"
   ]
  },
  {
   "cell_type": "markdown",
   "id": "3b28f054",
   "metadata": {},
   "source": [
    "- highest review recevied for  Aleax enabled 7\" screen bluetooth speaker \n",
    "- lowest reviewed received for Fire TV with 4k Ultra HD"
   ]
  },
  {
   "cell_type": "code",
   "execution_count": 33,
   "id": "539565e6",
   "metadata": {},
   "outputs": [],
   "source": [
    "# Brand is only one so we can remove it. date is not useful for review analysis so we can dropped that also.\n",
    "# title is also not helpful as same type of data is available in text feature."
   ]
  },
  {
   "cell_type": "code",
   "execution_count": 34,
   "id": "d3706078",
   "metadata": {},
   "outputs": [],
   "source": [
    "df_new = df_new.drop(['brand','reviews.date','reviews.title'],axis=1)"
   ]
  },
  {
   "cell_type": "code",
   "execution_count": 35,
   "id": "d046d206",
   "metadata": {},
   "outputs": [
    {
     "data": {
      "text/html": [
       "<div>\n",
       "<style scoped>\n",
       "    .dataframe tbody tr th:only-of-type {\n",
       "        vertical-align: middle;\n",
       "    }\n",
       "\n",
       "    .dataframe tbody tr th {\n",
       "        vertical-align: top;\n",
       "    }\n",
       "\n",
       "    .dataframe thead th {\n",
       "        text-align: right;\n",
       "    }\n",
       "</style>\n",
       "<table border=\"1\" class=\"dataframe\">\n",
       "  <thead>\n",
       "    <tr style=\"text-align: right;\">\n",
       "      <th></th>\n",
       "      <th>name</th>\n",
       "      <th>categories</th>\n",
       "      <th>primaryCategories</th>\n",
       "      <th>reviews.text</th>\n",
       "      <th>sentiment</th>\n",
       "    </tr>\n",
       "  </thead>\n",
       "  <tbody>\n",
       "    <tr>\n",
       "      <th>0</th>\n",
       "      <td>All-New Fire HD 8 Tablet, 8\" HD Display, Wi-Fi...</td>\n",
       "      <td>Electronics,iPad &amp; Tablets,All Tablets,Fire Ta...</td>\n",
       "      <td>Electronics</td>\n",
       "      <td>Purchased on Black FridayPros - Great Price (e...</td>\n",
       "      <td>Positive</td>\n",
       "    </tr>\n",
       "    <tr>\n",
       "      <th>2</th>\n",
       "      <td>Amazon Echo Show Alexa-enabled Bluetooth Speak...</td>\n",
       "      <td>Amazon Echo,Virtual Assistant Speakers,Electro...</td>\n",
       "      <td>Electronics,Hardware</td>\n",
       "      <td>Just an average Alexa option. Does show a few ...</td>\n",
       "      <td>Neutral</td>\n",
       "    </tr>\n",
       "    <tr>\n",
       "      <th>3</th>\n",
       "      <td>Fire HD 10 Tablet, 10.1 HD Display, Wi-Fi, 16 ...</td>\n",
       "      <td>eBook Readers,Fire Tablets,Electronics Feature...</td>\n",
       "      <td>Office Supplies,Electronics</td>\n",
       "      <td>very good product. Exactly what I wanted, and ...</td>\n",
       "      <td>Positive</td>\n",
       "    </tr>\n",
       "    <tr>\n",
       "      <th>4</th>\n",
       "      <td>Brand New Amazon Kindle Fire 16gb 7\" Ips Displ...</td>\n",
       "      <td>Computers/Tablets &amp; Networking,Tablets &amp; eBook...</td>\n",
       "      <td>Electronics</td>\n",
       "      <td>This is the 3rd one I've purchased. I've bough...</td>\n",
       "      <td>Positive</td>\n",
       "    </tr>\n",
       "    <tr>\n",
       "      <th>5</th>\n",
       "      <td>Kindle E-reader - White, 6 Glare-Free Touchscr...</td>\n",
       "      <td>Office,eBook Readers,Electronics Features,Walm...</td>\n",
       "      <td>Office Supplies,Electronics</td>\n",
       "      <td>This is a great product. Light weight. I wish ...</td>\n",
       "      <td>Positive</td>\n",
       "    </tr>\n",
       "    <tr>\n",
       "      <th>...</th>\n",
       "      <td>...</td>\n",
       "      <td>...</td>\n",
       "      <td>...</td>\n",
       "      <td>...</td>\n",
       "      <td>...</td>\n",
       "    </tr>\n",
       "    <tr>\n",
       "      <th>3994</th>\n",
       "      <td>All-New Fire HD 8 Tablet, 8\" HD Display, Wi-Fi...</td>\n",
       "      <td>Electronics,iPad &amp; Tablets,All Tablets,Fire Ta...</td>\n",
       "      <td>Electronics</td>\n",
       "      <td>It is great , I like it very much. I can find ...</td>\n",
       "      <td>Positive</td>\n",
       "    </tr>\n",
       "    <tr>\n",
       "      <th>3995</th>\n",
       "      <td>Amazon - Echo Plus w/ Built-In Hub - Silver</td>\n",
       "      <td>Amazon Echo,Smart Home,Networking,Home &amp; Tools...</td>\n",
       "      <td>Electronics,Hardware</td>\n",
       "      <td>It‚Äôs fun for the family to play with, but it...</td>\n",
       "      <td>Positive</td>\n",
       "    </tr>\n",
       "    <tr>\n",
       "      <th>3996</th>\n",
       "      <td>Amazon Kindle E-Reader 6\" Wifi (8th Generation...</td>\n",
       "      <td>Computers,Electronics Features,Tablets,Electro...</td>\n",
       "      <td>Electronics</td>\n",
       "      <td>I love the Kindle, it is a great product. It r...</td>\n",
       "      <td>Positive</td>\n",
       "    </tr>\n",
       "    <tr>\n",
       "      <th>3998</th>\n",
       "      <td>Brand New Amazon Kindle Fire 16gb 7\" Ips Displ...</td>\n",
       "      <td>Computers/Tablets &amp; Networking,Tablets &amp; eBook...</td>\n",
       "      <td>Electronics</td>\n",
       "      <td>This is the second Amazon Fire 7 tablet I have...</td>\n",
       "      <td>Positive</td>\n",
       "    </tr>\n",
       "    <tr>\n",
       "      <th>3999</th>\n",
       "      <td>All-New Fire HD 8 Tablet, 8\" HD Display, Wi-Fi...</td>\n",
       "      <td>Electronics,iPad &amp; Tablets,All Tablets,Fire Ta...</td>\n",
       "      <td>Electronics</td>\n",
       "      <td>very satisfied with tablet, very fast and effi...</td>\n",
       "      <td>Positive</td>\n",
       "    </tr>\n",
       "  </tbody>\n",
       "</table>\n",
       "<p>3817 rows × 5 columns</p>\n",
       "</div>"
      ],
      "text/plain": [
       "                                                   name  \\\n",
       "0     All-New Fire HD 8 Tablet, 8\" HD Display, Wi-Fi...   \n",
       "2     Amazon Echo Show Alexa-enabled Bluetooth Speak...   \n",
       "3     Fire HD 10 Tablet, 10.1 HD Display, Wi-Fi, 16 ...   \n",
       "4     Brand New Amazon Kindle Fire 16gb 7\" Ips Displ...   \n",
       "5     Kindle E-reader - White, 6 Glare-Free Touchscr...   \n",
       "...                                                 ...   \n",
       "3994  All-New Fire HD 8 Tablet, 8\" HD Display, Wi-Fi...   \n",
       "3995        Amazon - Echo Plus w/ Built-In Hub - Silver   \n",
       "3996  Amazon Kindle E-Reader 6\" Wifi (8th Generation...   \n",
       "3998  Brand New Amazon Kindle Fire 16gb 7\" Ips Displ...   \n",
       "3999  All-New Fire HD 8 Tablet, 8\" HD Display, Wi-Fi...   \n",
       "\n",
       "                                             categories  \\\n",
       "0     Electronics,iPad & Tablets,All Tablets,Fire Ta...   \n",
       "2     Amazon Echo,Virtual Assistant Speakers,Electro...   \n",
       "3     eBook Readers,Fire Tablets,Electronics Feature...   \n",
       "4     Computers/Tablets & Networking,Tablets & eBook...   \n",
       "5     Office,eBook Readers,Electronics Features,Walm...   \n",
       "...                                                 ...   \n",
       "3994  Electronics,iPad & Tablets,All Tablets,Fire Ta...   \n",
       "3995  Amazon Echo,Smart Home,Networking,Home & Tools...   \n",
       "3996  Computers,Electronics Features,Tablets,Electro...   \n",
       "3998  Computers/Tablets & Networking,Tablets & eBook...   \n",
       "3999  Electronics,iPad & Tablets,All Tablets,Fire Ta...   \n",
       "\n",
       "                primaryCategories  \\\n",
       "0                     Electronics   \n",
       "2            Electronics,Hardware   \n",
       "3     Office Supplies,Electronics   \n",
       "4                     Electronics   \n",
       "5     Office Supplies,Electronics   \n",
       "...                           ...   \n",
       "3994                  Electronics   \n",
       "3995         Electronics,Hardware   \n",
       "3996                  Electronics   \n",
       "3998                  Electronics   \n",
       "3999                  Electronics   \n",
       "\n",
       "                                           reviews.text sentiment  \n",
       "0     Purchased on Black FridayPros - Great Price (e...  Positive  \n",
       "2     Just an average Alexa option. Does show a few ...   Neutral  \n",
       "3     very good product. Exactly what I wanted, and ...  Positive  \n",
       "4     This is the 3rd one I've purchased. I've bough...  Positive  \n",
       "5     This is a great product. Light weight. I wish ...  Positive  \n",
       "...                                                 ...       ...  \n",
       "3994  It is great , I like it very much. I can find ...  Positive  \n",
       "3995  It‚Äôs fun for the family to play with, but it...  Positive  \n",
       "3996  I love the Kindle, it is a great product. It r...  Positive  \n",
       "3998  This is the second Amazon Fire 7 tablet I have...  Positive  \n",
       "3999  very satisfied with tablet, very fast and effi...  Positive  \n",
       "\n",
       "[3817 rows x 5 columns]"
      ]
     },
     "execution_count": 35,
     "metadata": {},
     "output_type": "execute_result"
    }
   ],
   "source": [
    "df_new"
   ]
  },
  {
   "cell_type": "code",
   "execution_count": 36,
   "id": "6aad29ec",
   "metadata": {},
   "outputs": [],
   "source": [
    "#df_new.rename(columns = {'newsentiment':'sentiment'}, inplace = True)"
   ]
  },
  {
   "cell_type": "code",
   "execution_count": 37,
   "id": "ee52a307",
   "metadata": {},
   "outputs": [],
   "source": [
    "y = df_new['sentiment']\n",
    "X = df_new['reviews.text']\n"
   ]
  },
  {
   "cell_type": "code",
   "execution_count": 38,
   "id": "cf708d66",
   "metadata": {},
   "outputs": [
    {
     "data": {
      "text/plain": [
       "((3053,), (764,))"
      ]
     },
     "execution_count": 38,
     "metadata": {},
     "output_type": "execute_result"
    }
   ],
   "source": [
    "from sklearn.model_selection import train_test_split\n",
    "X_train,X_val,y_train,y_val = train_test_split(X,y,test_size=0.20,random_state=42)\n",
    "X_train.shape,X_val.shape"
   ]
  },
  {
   "cell_type": "code",
   "execution_count": 39,
   "id": "a30c17a5",
   "metadata": {},
   "outputs": [],
   "source": [
    "def preprocess_text(text,tokenizer=None):\n",
    "    \n",
    "    stemmer = PorterStemmer()\n",
    "    lemmatizer = WordNetLemmatizer()\n",
    "    \n",
    "    text = text.lower()\n",
    "    text = text.replace(\".\",\", \").replace(\". \", \", \")\n",
    "    text = re.sub(r'[()]', \" \", text)\n",
    "    text = re.sub(r\"\\d+\",\" \",text)\n",
    "    text = text.translate(str.maketrans('','',string.punctuation))\n",
    "\n",
    "   # new_stopwords = [\"when\", \"that\", \"while\", \"from\", \"which\", \"also\", \"without\", \"will\", \"just\", \"after\",\n",
    "   #                  \"amazon\",\"one\",\"two\",\"high\",\"got\",\"purchased\",\"pros\",\"cons\",\"ive\"]\n",
    "\n",
    "    #stop_words = nltk.corpus.stopwords.words('english')\n",
    "    #stop_words.extend(new_stopwords)\n",
    "\n",
    "    tokens = word_tokenize(text)  # Get tokens from text\n",
    "    #tokens = [lemmatizer.lemmatize(t) for t in tokens if not t in stop_words]  # Remove stopwords\n",
    "\n",
    "    tokens = [t for t in tokens if len(t) > 2]  # Remove short tokens\n",
    "    \n",
    "    if tokenizer is not None:\n",
    "        return tokens\n",
    "    else:\n",
    "        clean_tokens = []\n",
    "        for tok in tokens:\n",
    "            tok = tok.strip() # remove space\n",
    "            clean_tokens.append(tok)\n",
    "        return \" \".join(clean_tokens)\n"
   ]
  },
  {
   "cell_type": "code",
   "execution_count": 40,
   "id": "7a273a34",
   "metadata": {},
   "outputs": [
    {
     "data": {
      "text/plain": [
       "727        great product for quickly charging your kindle\n",
       "2129    echo plus seems work they say have running two...\n",
       "667     son loves easy use and download books requeste...\n",
       "3361    has great camera and really enjoy games and fa...\n",
       "3545    this actually pretty good little tablet not th...\n",
       "Name: reviews.text, dtype: object"
      ]
     },
     "execution_count": 40,
     "metadata": {},
     "output_type": "execute_result"
    }
   ],
   "source": [
    "X_train = X_train.apply(lambda x: preprocess_text(x,))\n",
    "X_train_clean = X_train\n",
    "\n",
    "y_train_clean = y_train\n",
    "X_train.head()"
   ]
  },
  {
   "cell_type": "code",
   "execution_count": 41,
   "id": "6f90cf94",
   "metadata": {},
   "outputs": [],
   "source": [
    "#### for another approach\n",
    "'''\n",
    "X_train1 = df_new['reviews.text']\n",
    "X_train1 = X_train1.apply(lambda x: preprocess_text(x,))\n",
    "X_train_clean1 = X_train1\n",
    "\n",
    "y_train1 = df_new['sentiment']\n",
    "y_train_clean1 = y_train1\n",
    "'''\n",
    "\n",
    "X_test = test_df['reviews.text']\n",
    "y_test = test_df['sentiment']\n"
   ]
  },
  {
   "cell_type": "code",
   "execution_count": 42,
   "id": "215491c9",
   "metadata": {},
   "outputs": [
    {
     "data": {
      "text/plain": [
       "0    Amazon kindle fire has a lot of free app and c...\n",
       "Name: reviews.text, dtype: object"
      ]
     },
     "execution_count": 42,
     "metadata": {},
     "output_type": "execute_result"
    }
   ],
   "source": [
    "X_test[:1]"
   ]
  },
  {
   "cell_type": "code",
   "execution_count": 43,
   "id": "857ce820",
   "metadata": {},
   "outputs": [],
   "source": [
    "from sklearn.metrics import confusion_matrix\n",
    "from sklearn.metrics import recall_score\n",
    "from sklearn.metrics import precision_score\n",
    "from sklearn.metrics import accuracy_score\n",
    "\n",
    "from sklearn.metrics import f1_score\n",
    "from sklearn.pipeline import Pipeline\n",
    "from sklearn.naive_bayes import MultinomialNB\n",
    "from sklearn.feature_extraction.text import TfidfVectorizer\n",
    "from sklearn.feature_extraction.text import TfidfTransformer\n",
    "from sklearn.feature_extraction.text import CountVectorizer "
   ]
  },
  {
   "cell_type": "code",
   "execution_count": 44,
   "id": "e595db28",
   "metadata": {},
   "outputs": [],
   "source": [
    "MNB_model = Pipeline([(\"vect\", CountVectorizer(stop_words= \"english\")), \n",
    "                            (\"tfidf\", TfidfTransformer()), \n",
    "                            (\"clf_multinomialnb\", MultinomialNB())])\n"
   ]
  },
  {
   "cell_type": "code",
   "execution_count": 45,
   "id": "3d681bab",
   "metadata": {},
   "outputs": [],
   "source": [
    "MNB_model.fit(X_train,y_train)\n",
    "predictedMultiNB = MNB_model.predict(X_val)"
   ]
  },
  {
   "cell_type": "code",
   "execution_count": 46,
   "id": "054852aa",
   "metadata": {},
   "outputs": [
    {
     "data": {
      "text/plain": [
       "array([[  0,   0,   0],\n",
       "       [  0,   0,   0],\n",
       "       [ 16,  30, 718]], dtype=int64)"
      ]
     },
     "execution_count": 46,
     "metadata": {},
     "output_type": "execute_result"
    }
   ],
   "source": [
    "confusion_matrix(predictedMultiNB,y_val)"
   ]
  },
  {
   "cell_type": "code",
   "execution_count": 47,
   "id": "c94a8af5",
   "metadata": {},
   "outputs": [
    {
     "name": "stdout",
     "output_type": "stream",
     "text": [
      "              precision    recall  f1-score   support\n",
      "\n",
      "    Negative       0.00      0.00      0.00        16\n",
      "     Neutral       0.00      0.00      0.00        30\n",
      "    Positive       0.94      1.00      0.97       718\n",
      "\n",
      "    accuracy                           0.94       764\n",
      "   macro avg       0.31      0.33      0.32       764\n",
      "weighted avg       0.88      0.94      0.91       764\n",
      "\n"
     ]
    }
   ],
   "source": [
    "print(classification_report(y_val, predictedMultiNB))\n"
   ]
  },
  {
   "cell_type": "code",
   "execution_count": 48,
   "id": "71957426",
   "metadata": {
    "scrolled": false
   },
   "outputs": [
    {
     "data": {
      "image/png": "[encoded data removed]",
      "text/plain": [
       "<Figure size 432x288 with 2 Axes>"
      ]
     },
     "metadata": {
      "needs_background": "light"
     },
     "output_type": "display_data"
    }
   ],
   "source": [
    "from sklearn.metrics import plot_confusion_matrix\n",
    "\n",
    "plot_confusion_matrix(MNB_model,X_val,y_val)\n",
    "plt.show()"
   ]
  },
  {
   "cell_type": "markdown",
   "id": "32ac1067",
   "metadata": {},
   "source": [
    "#### validate if every review is 'Positive'"
   ]
  },
  {
   "cell_type": "code",
   "execution_count": 49,
   "id": "e30311a8",
   "metadata": {},
   "outputs": [
    {
     "data": {
      "text/plain": [
       "'Positive'"
      ]
     },
     "execution_count": 49,
     "metadata": {},
     "output_type": "execute_result"
    }
   ],
   "source": [
    "newtext = ['bad product']\n",
    "predict_text = MNB_model.predict(newtext)\n",
    "predict_text[0]"
   ]
  },
  {
   "cell_type": "code",
   "execution_count": 50,
   "id": "24c68e6e",
   "metadata": {},
   "outputs": [
    {
     "data": {
      "text/plain": [
       "Positive    2876\n",
       "Neutral      119\n",
       "Negative      58\n",
       "Name: sentiment, dtype: int64"
      ]
     },
     "execution_count": 50,
     "metadata": {},
     "output_type": "execute_result"
    }
   ],
   "source": [
    "y_train.value_counts()"
   ]
  },
  {
   "cell_type": "markdown",
   "id": "bc0d2995",
   "metadata": {},
   "source": [
    "#### We can check most frequent  words using Wordcount"
   ]
  },
  {
   "cell_type": "code",
   "execution_count": 51,
   "id": "f551f5b0",
   "metadata": {},
   "outputs": [
    {
     "data": {
      "image/png": "[encoded data removed]",
      "text/plain": [
       "<Figure size 432x288 with 1 Axes>"
      ]
     },
     "metadata": {
      "needs_background": "light"
     },
     "output_type": "display_data"
    }
   ],
   "source": [
    "Positive_data = df_new.loc[df_new['sentiment']=='Positive', 'reviews.text']\n",
    "words = \" \".join(Data.split()[0] for Data in Positive_data)\n",
    "word_cloud = WordCloud(collocations = False, background_color = 'white').generate(words)\n",
    "plt.imshow(word_cloud, interpolation='bilinear')\n",
    "plt.axis(\"off\")\n",
    "plt.show()"
   ]
  },
  {
   "cell_type": "code",
   "execution_count": 52,
   "id": "fca482ca",
   "metadata": {},
   "outputs": [
    {
     "data": {
      "image/png": "[encoded data removed]",
      "text/plain": [
       "<Figure size 432x288 with 1 Axes>"
      ]
     },
     "metadata": {
      "needs_background": "light"
     },
     "output_type": "display_data"
    }
   ],
   "source": [
    "Negative_data = df_new.loc[df_new['sentiment']=='Negative', 'reviews.text']\n",
    "words = \" \".join(Data.split()[0] for Data in Negative_data)\n",
    "word_cloud = WordCloud(collocations = False, background_color = 'white').generate(words)\n",
    "plt.imshow(word_cloud, interpolation='bilinear')\n",
    "plt.axis(\"off\")\n",
    "plt.show()"
   ]
  },
  {
   "cell_type": "markdown",
   "id": "f397f770",
   "metadata": {},
   "source": [
    "#### Dataset is imbalanced because of that every predicted review is 'Positive'. \n",
    "#### We need to balanced data to get the correct predicted result"
   ]
  },
  {
   "cell_type": "markdown",
   "id": "6b077c50",
   "metadata": {},
   "source": [
    "#### review data is text data, so first we need to convert text data to vector data "
   ]
  },
  {
   "cell_type": "code",
   "execution_count": 53,
   "id": "5a5f5142",
   "metadata": {},
   "outputs": [],
   "source": [
    "#Resampling minority class using SMOTE"
   ]
  },
  {
   "cell_type": "code",
   "execution_count": 54,
   "id": "263e9026",
   "metadata": {},
   "outputs": [],
   "source": [
    "from imblearn.over_sampling import SMOTE"
   ]
  },
  {
   "cell_type": "code",
   "execution_count": 55,
   "id": "1c7a0720",
   "metadata": {},
   "outputs": [],
   "source": [
    "# Now again we can test with MultinomialNB"
   ]
  },
  {
   "cell_type": "code",
   "execution_count": 56,
   "id": "8d677572",
   "metadata": {},
   "outputs": [],
   "source": [
    "\n",
    "def get_reports(models,xtrain,ytrain,xtest,ytest):\n",
    "    for model in models:\n",
    "        model.fit(xtrain,ytrain)\n",
    "        y_pred = model.predict(xtest)\n",
    "        print(classification_report(ytest, y_pred))\n",
    "        "
   ]
  },
  {
   "cell_type": "code",
   "execution_count": 57,
   "id": "65e6ecca",
   "metadata": {},
   "outputs": [
    {
     "data": {
      "text/plain": [
       "727        great product for quickly charging your kindle\n",
       "2129    echo plus seems work they say have running two...\n",
       "667     son loves easy use and download books requeste...\n",
       "3361    has great camera and really enjoy games and fa...\n",
       "3545    this actually pretty good little tablet not th...\n",
       "Name: reviews.text, dtype: object"
      ]
     },
     "execution_count": 57,
     "metadata": {},
     "output_type": "execute_result"
    }
   ],
   "source": [
    "X_train.head()"
   ]
  },
  {
   "cell_type": "code",
   "execution_count": null,
   "id": "aff68084",
   "metadata": {},
   "outputs": [],
   "source": []
  },
  {
   "cell_type": "code",
   "execution_count": 58,
   "id": "a0d95e39",
   "metadata": {},
   "outputs": [
    {
     "name": "stdout",
     "output_type": "stream",
     "text": [
      "--------- mnb\n",
      "              precision    recall  f1-score   support\n",
      "\n",
      "    Negative       0.31      0.31      0.31        16\n",
      "     Neutral       0.25      0.50      0.34        30\n",
      "    Positive       0.97      0.93      0.95       718\n",
      "\n",
      "    accuracy                           0.90       764\n",
      "   macro avg       0.51      0.58      0.53       764\n",
      "weighted avg       0.93      0.90      0.91       764\n",
      "\n",
      "f1_score: 0.5339865346887819\n",
      "-------------------------------------------\n",
      "--------- rf\n",
      "              precision    recall  f1-score   support\n",
      "\n",
      "    Negative       1.00      0.25      0.40        16\n",
      "     Neutral       1.00      0.17      0.29        30\n",
      "    Positive       0.95      1.00      0.97       718\n",
      "\n",
      "    accuracy                           0.95       764\n",
      "   macro avg       0.98      0.47      0.55       764\n",
      "weighted avg       0.95      0.95      0.94       764\n",
      "\n",
      "f1_score: 0.5535318268515824\n",
      "-------------------------------------------\n",
      "--------- xgb\n",
      "[23:57:35] WARNING: C:/Users/Administrator/workspace/xgboost-win64_release_1.5.1/src/learner.cc:1115: Starting in XGBoost 1.3.0, the default evaluation metric used with the objective 'multi:softprob' was changed from 'merror' to 'mlogloss'. Explicitly set eval_metric if you'd like to restore the old behavior.\n",
      "              precision    recall  f1-score   support\n",
      "\n",
      "    Negative       0.83      0.31      0.45        16\n",
      "     Neutral       0.31      0.13      0.19        30\n",
      "    Positive       0.95      0.99      0.97       718\n",
      "\n",
      "    accuracy                           0.94       764\n",
      "   macro avg       0.70      0.48      0.54       764\n",
      "weighted avg       0.92      0.94      0.93       764\n",
      "\n",
      "f1_score: 0.5366110837347068\n",
      "-------------------------------------------\n",
      "--------- dt\n",
      "              precision    recall  f1-score   support\n",
      "\n",
      "    Negative       0.27      0.19      0.22        16\n",
      "     Neutral       0.17      0.30      0.22        30\n",
      "    Positive       0.96      0.94      0.95       718\n",
      "\n",
      "    accuracy                           0.90       764\n",
      "   macro avg       0.47      0.47      0.46       764\n",
      "weighted avg       0.91      0.90      0.90       764\n",
      "\n",
      "f1_score: 0.4623011714622162\n",
      "-------------------------------------------\n",
      "--------- svm_linear\n",
      "              precision    recall  f1-score   support\n",
      "\n",
      "    Negative       0.80      0.25      0.38        16\n",
      "     Neutral       0.44      0.23      0.30        30\n",
      "    Positive       0.96      0.99      0.97       718\n",
      "\n",
      "    accuracy                           0.95       764\n",
      "   macro avg       0.73      0.49      0.55       764\n",
      "weighted avg       0.93      0.95      0.94       764\n",
      "\n",
      "f1_score: 0.5533250290861219\n",
      "-------------------------------------------\n",
      "--------- svm_rbf\n",
      "              precision    recall  f1-score   support\n",
      "\n",
      "    Negative       0.80      0.25      0.38        16\n",
      "     Neutral       0.41      0.43      0.42        30\n",
      "    Positive       0.97      0.98      0.97       718\n",
      "\n",
      "    accuracy                           0.94       764\n",
      "   macro avg       0.72      0.55      0.59       764\n",
      "weighted avg       0.94      0.94      0.94       764\n",
      "\n",
      "f1_score: 0.5911058667616319\n",
      "-------------------------------------------\n",
      "--------- svm_poly\n",
      "              precision    recall  f1-score   support\n",
      "\n",
      "    Negative       1.00      0.25      0.40        16\n",
      "     Neutral       1.00      0.17      0.29        30\n",
      "    Positive       0.95      1.00      0.97       718\n",
      "\n",
      "    accuracy                           0.95       764\n",
      "   macro avg       0.98      0.47      0.55       764\n",
      "weighted avg       0.95      0.95      0.94       764\n",
      "\n",
      "f1_score: 0.5535318268515824\n",
      "-------------------------------------------\n"
     ]
    }
   ],
   "source": [
    "from imblearn.under_sampling import RandomUnderSampler\n",
    "from imblearn.over_sampling import RandomOverSampler\n",
    "\n",
    "from imblearn.pipeline import make_pipeline as make_pipeline_imb\n",
    "from imblearn.metrics import classification_report_imbalanced\n",
    "\n",
    "from sklearn.ensemble import RandomForestClassifier\n",
    "from xgboost import XGBClassifier\n",
    "from sklearn.tree import DecisionTreeClassifier\n",
    "from sklearn.svm import LinearSVC\n",
    "from sklearn import svm\n",
    "\n",
    "MNB = make_pipeline_imb(TfidfVectorizer(), RandomOverSampler(), MultinomialNB())\n",
    "RF = make_pipeline_imb(TfidfVectorizer(), RandomOverSampler(), RandomForestClassifier())\n",
    "XGB = make_pipeline_imb(TfidfVectorizer(), RandomOverSampler(), XGBClassifier())\n",
    "DT = make_pipeline_imb(TfidfVectorizer(), RandomOverSampler(), DecisionTreeClassifier())\n",
    "SVM_linear = make_pipeline_imb(TfidfVectorizer(), RandomOverSampler(), LinearSVC())\n",
    "SVM_rbf = make_pipeline_imb(TfidfVectorizer(), RandomOverSampler(), svm.SVC(kernel='rbf', gamma=0.5, C=0.1))\n",
    "SVM_poly = make_pipeline_imb(TfidfVectorizer(), RandomOverSampler(), svm.SVC(kernel='poly', degree=3, C=1))\n",
    "\n",
    "models = {'mnb':MNB,'rf':RF,'xgb':XGB,'dt':DT,'svm_linear':SVM_linear,'svm_rbf':SVM_rbf,'svm_poly':SVM_poly}\n",
    "#models = [MNB_model,RF_model]\n",
    "\n",
    "for i in models:\n",
    "    print('---------',i)\n",
    "    models[i].fit(X_train,y_train)\n",
    "    y_pred = models[i].predict(X_val)\n",
    "    print(classification_report(y_val, y_pred))\n",
    "    f1score = f1_score(y_val,y_pred,average='macro')\n",
    "    print(\"f1_score:\",f1score)\n",
    "    print(\"-------------------------------------------\")\n",
    "\n",
    "\n"
   ]
  },
  {
   "cell_type": "code",
   "execution_count": 59,
   "id": "3b6b73c8",
   "metadata": {},
   "outputs": [
    {
     "name": "stdout",
     "output_type": "stream",
     "text": [
      "--------- mnb\n"
     ]
    },
    {
     "data": {
      "image/png": "[encoded data removed]",
      "text/plain": [
       "<Figure size 432x288 with 2 Axes>"
      ]
     },
     "metadata": {
      "needs_background": "light"
     },
     "output_type": "display_data"
    },
    {
     "name": "stdout",
     "output_type": "stream",
     "text": [
      "--------- rf\n"
     ]
    },
    {
     "data": {
      "image/png": "[encoded data removed]",
      "text/plain": [
       "<Figure size 432x288 with 2 Axes>"
      ]
     },
     "metadata": {
      "needs_background": "light"
     },
     "output_type": "display_data"
    },
    {
     "name": "stdout",
     "output_type": "stream",
     "text": [
      "--------- xgb\n"
     ]
    },
    {
     "data": {
      "image/png": "[encoded data removed]",
      "text/plain": [
       "<Figure size 432x288 with 2 Axes>"
      ]
     },
     "metadata": {
      "needs_background": "light"
     },
     "output_type": "display_data"
    },
    {
     "name": "stdout",
     "output_type": "stream",
     "text": [
      "--------- dt\n"
     ]
    },
    {
     "data": {
      "image/png": "[encoded data removed]",
      "text/plain": [
       "<Figure size 432x288 with 2 Axes>"
      ]
     },
     "metadata": {
      "needs_background": "light"
     },
     "output_type": "display_data"
    },
    {
     "name": "stdout",
     "output_type": "stream",
     "text": [
      "--------- svm_linear\n"
     ]
    },
    {
     "data": {
      "image/png": "[encoded data removed]",
      "text/plain": [
       "<Figure size 432x288 with 2 Axes>"
      ]
     },
     "metadata": {
      "needs_background": "light"
     },
     "output_type": "display_data"
    },
    {
     "name": "stdout",
     "output_type": "stream",
     "text": [
      "--------- svm_rbf\n"
     ]
    },
    {
     "data": {
      "image/png": "[encoded data removed]",
      "text/plain": [
       "<Figure size 432x288 with 2 Axes>"
      ]
     },
     "metadata": {
      "needs_background": "light"
     },
     "output_type": "display_data"
    },
    {
     "name": "stdout",
     "output_type": "stream",
     "text": [
      "--------- svm_poly\n"
     ]
    },
    {
     "data": {
      "image/png": "[encoded data removed]",
      "text/plain": [
       "<Figure size 432x288 with 2 Axes>"
      ]
     },
     "metadata": {
      "needs_background": "light"
     },
     "output_type": "display_data"
    }
   ],
   "source": [
    "for i in models:\n",
    "    print('---------',i)\n",
    "    #models[i].fit(X_train,y_train)\n",
    "    y_pred = models[i].predict(X_val)\n",
    "    plot_confusion_matrix(models[i],X_val,y_val)\n",
    "    plt.show()"
   ]
  },
  {
   "cell_type": "code",
   "execution_count": 60,
   "id": "6a7243a7",
   "metadata": {},
   "outputs": [
    {
     "name": "stdout",
     "output_type": "stream",
     "text": [
      "--------- mnb\n",
      "              precision    recall  f1-score   support\n",
      "\n",
      "    Negative       0.19      0.17      0.18        24\n",
      "     Neutral       0.20      0.46      0.28        39\n",
      "    Positive       0.97      0.92      0.94       937\n",
      "\n",
      "    accuracy                           0.88      1000\n",
      "   macro avg       0.45      0.52      0.47      1000\n",
      "weighted avg       0.92      0.88      0.90      1000\n",
      "\n",
      "f1_score: 0.4662657206226834\n",
      "-------------------------------------------\n",
      "--------- rf\n",
      "              precision    recall  f1-score   support\n",
      "\n",
      "    Negative       1.00      0.17      0.29        24\n",
      "     Neutral       1.00      0.21      0.34        39\n",
      "    Positive       0.95      1.00      0.97       937\n",
      "\n",
      "    accuracy                           0.95      1000\n",
      "   macro avg       0.98      0.46      0.53      1000\n",
      "weighted avg       0.95      0.95      0.93      1000\n",
      "\n",
      "f1_score: 0.5332154370452242\n",
      "-------------------------------------------\n",
      "--------- xgb\n",
      "[23:58:40] WARNING: C:/Users/Administrator/workspace/xgboost-win64_release_1.5.1/src/learner.cc:1115: Starting in XGBoost 1.3.0, the default evaluation metric used with the objective 'multi:softprob' was changed from 'merror' to 'mlogloss'. Explicitly set eval_metric if you'd like to restore the old behavior.\n",
      "              precision    recall  f1-score   support\n",
      "\n",
      "    Negative       0.85      0.46      0.59        24\n",
      "     Neutral       0.43      0.23      0.30        39\n",
      "    Positive       0.96      0.99      0.97       937\n",
      "\n",
      "    accuracy                           0.94      1000\n",
      "   macro avg       0.74      0.56      0.62      1000\n",
      "weighted avg       0.93      0.94      0.94      1000\n",
      "\n",
      "f1_score: 0.6222479442132621\n",
      "-------------------------------------------\n",
      "--------- dt\n",
      "              precision    recall  f1-score   support\n",
      "\n",
      "    Negative       0.36      0.33      0.35        24\n",
      "     Neutral       0.24      0.38      0.29        39\n",
      "    Positive       0.96      0.94      0.95       937\n",
      "\n",
      "    accuracy                           0.90      1000\n",
      "   macro avg       0.52      0.55      0.53      1000\n",
      "weighted avg       0.92      0.90      0.91      1000\n",
      "\n",
      "f1_score: 0.5300359602945319\n",
      "-------------------------------------------\n",
      "--------- svm_linear\n",
      "              precision    recall  f1-score   support\n",
      "\n",
      "    Negative       0.70      0.29      0.41        24\n",
      "     Neutral       0.45      0.23      0.31        39\n",
      "    Positive       0.96      0.99      0.97       937\n",
      "\n",
      "    accuracy                           0.94      1000\n",
      "   macro avg       0.70      0.50      0.56      1000\n",
      "weighted avg       0.93      0.94      0.93      1000\n",
      "\n",
      "f1_score: 0.5630190358830865\n",
      "-------------------------------------------\n",
      "--------- svm_rbf\n",
      "              precision    recall  f1-score   support\n",
      "\n",
      "    Negative       0.71      0.21      0.32        24\n",
      "     Neutral       0.28      0.46      0.35        39\n",
      "    Positive       0.97      0.96      0.96       937\n",
      "\n",
      "    accuracy                           0.92      1000\n",
      "   macro avg       0.65      0.54      0.54      1000\n",
      "weighted avg       0.93      0.92      0.92      1000\n",
      "\n",
      "f1_score: 0.5431974667207738\n",
      "-------------------------------------------\n",
      "--------- svm_poly\n",
      "              precision    recall  f1-score   support\n",
      "\n",
      "    Negative       1.00      0.17      0.29        24\n",
      "     Neutral       1.00      0.21      0.34        39\n",
      "    Positive       0.95      1.00      0.97       937\n",
      "\n",
      "    accuracy                           0.95      1000\n",
      "   macro avg       0.98      0.46      0.53      1000\n",
      "weighted avg       0.95      0.95      0.93      1000\n",
      "\n",
      "f1_score: 0.5332154370452242\n",
      "-------------------------------------------\n"
     ]
    }
   ],
   "source": [
    "for i in models:\n",
    "    print('---------',i)\n",
    "    models[i].fit(X_train,y_train)\n",
    "    y_pred1 = models[i].predict(X_test)\n",
    "    print(classification_report(y_test, y_pred1))\n",
    "    f1score = f1_score(y_test,y_pred1,average='macro')\n",
    "    print(\"f1_score:\",f1score)\n",
    "    print(\"-------------------------------------------\")"
   ]
  },
  {
   "cell_type": "code",
   "execution_count": 61,
   "id": "da6f7fa6",
   "metadata": {},
   "outputs": [
    {
     "name": "stdout",
     "output_type": "stream",
     "text": [
      "--------- mnb\n"
     ]
    },
    {
     "data": {
      "image/png": "[encoded data removed]",
      "text/plain": [
       "<Figure size 432x288 with 2 Axes>"
      ]
     },
     "metadata": {
      "needs_background": "light"
     },
     "output_type": "display_data"
    },
    {
     "name": "stdout",
     "output_type": "stream",
     "text": [
      "--------- rf\n"
     ]
    },
    {
     "data": {
      "image/png": "[encoded data removed]",
      "text/plain": [
       "<Figure size 432x288 with 2 Axes>"
      ]
     },
     "metadata": {
      "needs_background": "light"
     },
     "output_type": "display_data"
    },
    {
     "name": "stdout",
     "output_type": "stream",
     "text": [
      "--------- xgb\n"
     ]
    },
    {
     "data": {
      "image/png": "[encoded data removed]",
      "text/plain": [
       "<Figure size 432x288 with 2 Axes>"
      ]
     },
     "metadata": {
      "needs_background": "light"
     },
     "output_type": "display_data"
    },
    {
     "name": "stdout",
     "output_type": "stream",
     "text": [
      "--------- dt\n"
     ]
    },
    {
     "data": {
      "image/png": "[encoded data removed]",
      "text/plain": [
       "<Figure size 432x288 with 2 Axes>"
      ]
     },
     "metadata": {
      "needs_background": "light"
     },
     "output_type": "display_data"
    },
    {
     "name": "stdout",
     "output_type": "stream",
     "text": [
      "--------- svm_linear\n"
     ]
    },
    {
     "data": {
      "image/png": "[encoded data removed]",
      "text/plain": [
       "<Figure size 432x288 with 2 Axes>"
      ]
     },
     "metadata": {
      "needs_background": "light"
     },
     "output_type": "display_data"
    },
    {
     "name": "stdout",
     "output_type": "stream",
     "text": [
      "--------- svm_rbf\n"
     ]
    },
    {
     "data": {
      "image/png": "[encoded data removed]",
      "text/plain": [
       "<Figure size 432x288 with 2 Axes>"
      ]
     },
     "metadata": {
      "needs_background": "light"
     },
     "output_type": "display_data"
    },
    {
     "name": "stdout",
     "output_type": "stream",
     "text": [
      "--------- svm_poly\n"
     ]
    },
    {
     "data": {
      "image/png": "[encoded data removed]",
      "text/plain": [
       "<Figure size 432x288 with 2 Axes>"
      ]
     },
     "metadata": {
      "needs_background": "light"
     },
     "output_type": "display_data"
    }
   ],
   "source": [
    "for i in models:\n",
    "    print('---------',i)\n",
    "    #models[i].fit(X_train,y_train)\n",
    "    y_pred = models[i].predict(X_test)\n",
    "    plot_confusion_matrix(models[i],X_test,y_test)\n",
    "    plt.show()"
   ]
  },
  {
   "cell_type": "code",
   "execution_count": null,
   "id": "d3c44065",
   "metadata": {},
   "outputs": [],
   "source": []
  },
  {
   "cell_type": "code",
   "execution_count": null,
   "id": "98e7ffa8",
   "metadata": {},
   "outputs": [],
   "source": []
  },
  {
   "cell_type": "code",
   "execution_count": null,
   "id": "c7ebbb59",
   "metadata": {},
   "outputs": [],
   "source": []
  },
  {
   "cell_type": "code",
   "execution_count": 62,
   "id": "fb794378",
   "metadata": {},
   "outputs": [],
   "source": [
    "##### Sample review texts for testing\n",
    "\n",
    "negative_review = [\"I am sorry to say that i am not satisfied with alexa device\"]\n",
    "postive_review = [\"I bought new Alexa for my son and he is very comfortably able to use it\"]\n",
    "neutral_review = [\"Amazon firestick is an average device.\"]\n",
    "negative_review2 = ['Order one Alexa, absolutely shocking things with this product. I asked for a refund but never received one. Absolutely horrible customer service from Amazon']\n",
    "postive_review2 = ['the device is very handy, love to buy this device for my nephew also']\n",
    "neutral_review2 = ['just an ordinary product']\n",
    "negative_review3 = ['Not happy with the product, so i will not recommend anybody']\n",
    "negative_review4 = ['Absolutely useless product']\n",
    "negative_review5 = ['worst product']\n",
    "negative_review6 = ['waste of money']\n",
    "negative_review7 = ['Not liked so returned']\n",
    "\n"
   ]
  },
  {
   "cell_type": "code",
   "execution_count": 63,
   "id": "62c8db21",
   "metadata": {},
   "outputs": [
    {
     "name": "stdout",
     "output_type": "stream",
     "text": [
      "--------- mnb\n",
      "Negative Review ['Negative']\n",
      "Negative Review ['Negative']\n",
      "Negative Review ['Positive']\n",
      "Negative Review ['Negative']\n",
      "Negative Review ['Negative']\n",
      "Negative Review ['Neutral']\n",
      "Negative Review ['Negative']\n",
      "Positive Review ['Positive']\n",
      "Positive Review ['Positive']\n",
      "Neutral Review ['Neutral']\n",
      "Neutral Review ['Negative']\n",
      "--------- rf\n",
      "Negative Review ['Positive']\n",
      "Negative Review ['Positive']\n",
      "Negative Review ['Positive']\n",
      "Negative Review ['Positive']\n",
      "Negative Review ['Positive']\n",
      "Negative Review ['Positive']\n",
      "Negative Review ['Negative']\n",
      "Positive Review ['Positive']\n",
      "Positive Review ['Positive']\n",
      "Neutral Review ['Positive']\n",
      "Neutral Review ['Positive']\n",
      "--------- xgb\n",
      "Negative Review ['Positive']\n",
      "Negative Review ['Positive']\n",
      "Negative Review ['Positive']\n",
      "Negative Review ['Positive']\n",
      "Negative Review ['Positive']\n",
      "Negative Review ['Positive']\n",
      "Negative Review ['Negative']\n",
      "Positive Review ['Positive']\n",
      "Positive Review ['Positive']\n",
      "Neutral Review ['Positive']\n",
      "Neutral Review ['Positive']\n",
      "--------- dt\n",
      "Negative Review ['Positive']\n",
      "Negative Review ['Neutral']\n",
      "Negative Review ['Positive']\n",
      "Negative Review ['Positive']\n",
      "Negative Review ['Positive']\n",
      "Negative Review ['Positive']\n",
      "Negative Review ['Negative']\n",
      "Positive Review ['Positive']\n",
      "Positive Review ['Positive']\n",
      "Neutral Review ['Positive']\n",
      "Neutral Review ['Negative']\n",
      "--------- svm_linear\n",
      "Negative Review ['Positive']\n",
      "Negative Review ['Negative']\n",
      "Negative Review ['Neutral']\n",
      "Negative Review ['Positive']\n",
      "Negative Review ['Positive']\n",
      "Negative Review ['Neutral']\n",
      "Negative Review ['Negative']\n",
      "Positive Review ['Positive']\n",
      "Positive Review ['Positive']\n",
      "Neutral Review ['Positive']\n",
      "Neutral Review ['Positive']\n",
      "--------- svm_rbf\n",
      "Negative Review ['Neutral']\n",
      "Negative Review ['Positive']\n",
      "Negative Review ['Negative']\n",
      "Negative Review ['Positive']\n",
      "Negative Review ['Positive']\n",
      "Negative Review ['Positive']\n",
      "Negative Review ['Negative']\n",
      "Positive Review ['Positive']\n",
      "Positive Review ['Positive']\n",
      "Neutral Review ['Neutral']\n",
      "Neutral Review ['Positive']\n",
      "--------- svm_poly\n",
      "Negative Review ['Positive']\n",
      "Negative Review ['Positive']\n",
      "Negative Review ['Positive']\n",
      "Negative Review ['Positive']\n",
      "Negative Review ['Positive']\n",
      "Negative Review ['Positive']\n",
      "Negative Review ['Positive']\n",
      "Positive Review ['Positive']\n",
      "Positive Review ['Positive']\n",
      "Neutral Review ['Positive']\n",
      "Neutral Review ['Positive']\n"
     ]
    }
   ],
   "source": [
    "for i in models:\n",
    "    print('---------',i)\n",
    "    predict_text = models[i].predict(negative_review)\n",
    "    print('Negative Review',predict_text)\n",
    "    predict_text = models[i].predict(negative_review2)\n",
    "    print('Negative Review',predict_text)\n",
    "    predict_text = models[i].predict(negative_review3)\n",
    "    print('Negative Review',predict_text)\n",
    "    predict_text = models[i].predict(negative_review4)\n",
    "    print('Negative Review',predict_text)\n",
    "    predict_text = models[i].predict(negative_review5)\n",
    "    print('Negative Review',predict_text)\n",
    "    predict_text = models[i].predict(negative_review6)\n",
    "    print('Negative Review',predict_text)\n",
    "    predict_text = models[i].predict(negative_review7)\n",
    "    print('Negative Review',predict_text)\n",
    "\n",
    "    predict_text = models[i].predict(postive_review)\n",
    "    print('Positive Review',predict_text)\n",
    "    predict_text = models[i].predict(postive_review2)\n",
    "    print('Positive Review',predict_text)\n",
    "    predict_text = models[i].predict(neutral_review)\n",
    "    print('Neutral Review',predict_text)\n",
    "    predict_text = models[i].predict(neutral_review2)\n",
    "    print('Neutral Review',predict_text)\n",
    "        "
   ]
  },
  {
   "cell_type": "code",
   "execution_count": 64,
   "id": "12f93455",
   "metadata": {},
   "outputs": [
    {
     "name": "stdout",
     "output_type": "stream",
     "text": [
      "accuracy_score: 0.949\n",
      "recall_score : 0.949\n",
      "precision_score: 0.949\n",
      "f1_score: 0.949\n"
     ]
    }
   ],
   "source": [
    "recallscore = recall_score(y_test,y_pred,average='macro')\n",
    "precisionscore = precision_score(y_test,y_pred,average='macro')\n",
    "f1score = f1_score(y_test,y_pred,average='macro')\n",
    "accuracyscore = accuracy_score(y_test,y_pred)\n",
    "print(\"accuracy_score:\",accuracyscore)\n",
    "print(\"recall_score :\",recallscore )\n",
    "print(\"precision_score:\",precisionscore)\n",
    "print(\"f1_score:\",f1score)\n"
   ]
  },
  {
   "cell_type": "markdown",
   "id": "215d0983",
   "metadata": {},
   "source": [
    "#### Will check if using Word2Vec word embedding technique can we get better result than tfidf"
   ]
  },
  {
   "cell_type": "code",
   "execution_count": 65,
   "id": "632d6677",
   "metadata": {},
   "outputs": [
    {
     "data": {
      "text/plain": [
       "4875"
      ]
     },
     "execution_count": 65,
     "metadata": {},
     "output_type": "execute_result"
    }
   ],
   "source": [
    "df1 = train_df['reviews.text']\n",
    "df2 = test_df['reviews.text']  \n",
    "  \n",
    "frames = [df1, df2]\n",
    "  \n",
    "total_reviews = pd.concat(frames)\n",
    "total_reviews\n",
    "\n",
    "review_lines = list()\n",
    "\n",
    "for line in total_reviews:\n",
    "    tokens = word_tokenize(line)\n",
    "    lower_tokens  = [w.lower() for w in tokens]\n",
    "    table = str.maketrans('','',string.punctuation)\n",
    "    stripped = [w.translate(table) for w in lower_tokens]\n",
    "    normal_words = [w for w in stripped if w.isalpha()]\n",
    "    #stop_words = set(stopwords.words('english'))\n",
    "    #words = [w for w in lower_tokens if w not in stop_words ]\n",
    "    literals = \"~!@#$%^&*()_-+][]}{}.,<>?\"\n",
    "    words = [w for w in normal_words if w not in literals ]\n",
    "                 \n",
    "    review_lines.append(words)\n",
    "    \n",
    "len(review_lines)"
   ]
  },
  {
   "cell_type": "code",
   "execution_count": 66,
   "id": "94ad286f",
   "metadata": {},
   "outputs": [],
   "source": [
    "class Sequencer():\n",
    "    \n",
    "    def __init__(self,\n",
    "                 all_words,\n",
    "                 max_words,\n",
    "                 seq_len,\n",
    "                 embedding_matrix\n",
    "                ):\n",
    "        \n",
    "        self.seq_len = seq_len\n",
    "        self.embed_matrix = embedding_matrix\n",
    "        \"\"\"\n",
    "        temp_vocab = Vocab which has all the unique words\n",
    "        self.vocab = Our last vocab which has only most used N words.\n",
    "    \n",
    "        \"\"\"\n",
    "        temp_vocab = list(set(all_words))\n",
    "        self.vocab = []\n",
    "        self.word_cnts = {}\n",
    "        \"\"\"\n",
    "        Now we'll create a hash map (dict) which includes words and their occurencies\n",
    "        \"\"\"\n",
    "        for word in temp_vocab:\n",
    "            # 0 does not have a meaning, add the word to the list\n",
    "            count = len([0 for w in all_words if w == word])\n",
    "            self.word_cnts[word] = count\n",
    "            counts = list(self.word_cnts.values())\n",
    "            indexes = list(range(len(counts)))\n",
    "        \n",
    "        # Now we'll sort counts and while sorting them also will sort indexes.\n",
    "        # We'll use those indexes to find most used N word.\n",
    "        cnt = 0\n",
    "        while cnt + 1 != len(counts):\n",
    "            cnt = 0\n",
    "            for i in range(len(counts)-1):\n",
    "                if counts[i] < counts[i+1]:\n",
    "                    counts[i+1],counts[i] = counts[i],counts[i+1]\n",
    "                    indexes[i],indexes[i+1] = indexes[i+1],indexes[i]\n",
    "                else:\n",
    "                    cnt += 1\n",
    "        \n",
    "        for ind in indexes[:max_words]:\n",
    "            self.vocab.append(temp_vocab[ind])\n",
    "                    \n",
    "    def textToVector(self,text):\n",
    "        # First we need to split the text into its tokens and learn the length\n",
    "        # If length is shorter than the max len we'll add some spaces (100D vectors which has only zero values)\n",
    "        # If it's longer than the max len we'll trim from the end.\n",
    "        tokens = text.split()\n",
    "        len_v = len(tokens)-1 if len(tokens) < self.seq_len else self.seq_len-1\n",
    "        vec = []\n",
    "        for tok in tokens[:len_v]:\n",
    "            try:\n",
    "                vec.append(self.embed_matrix[tok])\n",
    "            except Exception as E:\n",
    "                pass\n",
    "        \n",
    "        last_pieces = self.seq_len - len(vec)\n",
    "        for i in range(last_pieces):\n",
    "            vec.append(np.zeros(100,))\n",
    "        \n",
    "        return np.asarray(vec).flatten()\n",
    "     "
   ]
  },
  {
   "cell_type": "code",
   "execution_count": 67,
   "id": "3135d6e6",
   "metadata": {},
   "outputs": [
    {
     "data": {
      "text/plain": [
       "4875"
      ]
     },
     "execution_count": 67,
     "metadata": {},
     "output_type": "execute_result"
    }
   ],
   "source": [
    "\n",
    "review_lines = list()\n",
    "\n",
    "lines = total_reviews.tolist()\n",
    "for line in lines:\n",
    "    tokens = word_tokenize(line)\n",
    "    lower_tokens  = [w.lower() for w in tokens]\n",
    "    table = str.maketrans('','',string.punctuation)\n",
    "    stripped = [w.translate(table) for w in lower_tokens]\n",
    "    normal_words = [w for w in stripped if w.isalpha()]\n",
    "    #stop_words = set(stopwords.words('english'))\n",
    "    #words = [w for w in lower_tokens if w not in stop_words ]\n",
    "    literals = \"~!@#$%^&*()_-+][]}{}.,<>?\"\n",
    "    words = [w for w in normal_words if w not in literals ]\n",
    "                 \n",
    "    review_lines.append(words)\n",
    "    \n",
    "len(review_lines)"
   ]
  },
  {
   "cell_type": "code",
   "execution_count": 68,
   "id": "44287658",
   "metadata": {},
   "outputs": [],
   "source": [
    "#### Save word vectors into a file\n",
    "\n",
    "import gensim\n",
    "from gensim.models import Word2Vec\n",
    "num_features = 10\n",
    "\n",
    "w2vec_model = gensim.models.Word2Vec(sentences=review_lines,vector_size=100,window=5,workers=4,min_count=1)\n",
    "words = w2vec_model.wv\n",
    "\n",
    "filename='word2vec_amazon_review.txt'\n",
    "w2vec_model.wv.save_word2vec_format(filename,binary=False)"
   ]
  },
  {
   "cell_type": "code",
   "execution_count": 69,
   "id": "154f9cd9",
   "metadata": {},
   "outputs": [],
   "source": [
    "sequencer = Sequencer(all_words = [token for seq in review_lines for token in seq],\n",
    "              max_words = 1200,\n",
    "              seq_len = 15,\n",
    "              embedding_matrix = w2vec_model.wv\n",
    "             )\n"
   ]
  },
  {
   "cell_type": "code",
   "execution_count": 70,
   "id": "1d332ca0",
   "metadata": {},
   "outputs": [
    {
     "data": {
      "text/plain": [
       "array([-0.1732046 ,  0.65041232, -0.10960414, ...,  0.        ,\n",
       "        0.        ,  0.        ])"
      ]
     },
     "execution_count": 70,
     "metadata": {},
     "output_type": "execute_result"
    }
   ],
   "source": [
    "test_vec = sequencer.textToVector(\"love data science\")\n",
    "test_vec\n"
   ]
  },
  {
   "cell_type": "code",
   "execution_count": 71,
   "id": "be244fe7",
   "metadata": {},
   "outputs": [
    {
     "name": "stdout",
     "output_type": "stream",
     "text": [
      "(3053, 1500)\n",
      "(3053,)\n"
     ]
    }
   ],
   "source": [
    "\n",
    "X_train_vecs = np.asarray([sequencer.textToVector(\" \".join(seq)) for seq in X_train_clean])\n",
    "print(X_train_vecs.shape)\n",
    "print(y_train.shape)"
   ]
  },
  {
   "cell_type": "code",
   "execution_count": 72,
   "id": "9040a327",
   "metadata": {},
   "outputs": [
    {
     "name": "stdout",
     "output_type": "stream",
     "text": [
      "(1000, 1500)\n",
      "(1000,)\n"
     ]
    }
   ],
   "source": [
    "x_test_vecs = np.asarray([sequencer.textToVector(\" \".join(seq)) for seq in X_test])\n",
    "print(x_test_vecs.shape)\n",
    "print(y_test.shape)"
   ]
  },
  {
   "cell_type": "code",
   "execution_count": 73,
   "id": "59b88962",
   "metadata": {},
   "outputs": [
    {
     "name": "stdout",
     "output_type": "stream",
     "text": [
      "Sum of variance ratios:  0.9969978299822968\n"
     ]
    },
    {
     "data": {
      "text/plain": [
       "(3053, 50)"
      ]
     },
     "execution_count": 73,
     "metadata": {},
     "output_type": "execute_result"
    }
   ],
   "source": [
    "from sklearn.decomposition import PCA\n",
    "pca_model = PCA(n_components=50)\n",
    "pca_model.fit(X_train_vecs)\n",
    "print(\"Sum of variance ratios: \",sum(pca_model.explained_variance_ratio_))\n",
    "\n",
    "X_train_comps = pca_model.transform(X_train_vecs)\n",
    "X_test_comps = pca_model.transform(x_test_vecs)\n",
    "X_train_comps.shape"
   ]
  },
  {
   "cell_type": "code",
   "execution_count": null,
   "id": "ffca68e9",
   "metadata": {},
   "outputs": [],
   "source": []
  },
  {
   "cell_type": "code",
   "execution_count": 74,
   "id": "ddb39b26",
   "metadata": {},
   "outputs": [
    {
     "name": "stdout",
     "output_type": "stream",
     "text": [
      "--------- rf\n",
      "              precision    recall  f1-score   support\n",
      "\n",
      "    Negative       0.00      0.00      0.00        24\n",
      "     Neutral       0.00      0.00      0.00        39\n",
      "    Positive       0.94      0.99      0.96       937\n",
      "\n",
      "    accuracy                           0.93      1000\n",
      "   macro avg       0.31      0.33      0.32      1000\n",
      "weighted avg       0.88      0.93      0.90      1000\n",
      "\n",
      "--------- xgb\n",
      "[00:00:12] WARNING: C:/Users/Administrator/workspace/xgboost-win64_release_1.5.1/src/learner.cc:1115: Starting in XGBoost 1.3.0, the default evaluation metric used with the objective 'multi:softprob' was changed from 'merror' to 'mlogloss'. Explicitly set eval_metric if you'd like to restore the old behavior.\n",
      "              precision    recall  f1-score   support\n",
      "\n",
      "    Negative       0.00      0.00      0.00        24\n",
      "     Neutral       0.00      0.00      0.00        39\n",
      "    Positive       0.94      0.99      0.96       937\n",
      "\n",
      "    accuracy                           0.93      1000\n",
      "   macro avg       0.31      0.33      0.32      1000\n",
      "weighted avg       0.88      0.93      0.90      1000\n",
      "\n",
      "--------- dt\n",
      "              precision    recall  f1-score   support\n",
      "\n",
      "    Negative       0.00      0.00      0.00        24\n",
      "     Neutral       0.07      0.10      0.09        39\n",
      "    Positive       0.94      0.92      0.93       937\n",
      "\n",
      "    accuracy                           0.86      1000\n",
      "   macro avg       0.34      0.34      0.34      1000\n",
      "weighted avg       0.88      0.86      0.87      1000\n",
      "\n",
      "--------- svm_linear\n",
      "              precision    recall  f1-score   support\n",
      "\n",
      "    Negative       0.02      0.21      0.03        24\n",
      "     Neutral       0.04      0.31      0.07        39\n",
      "    Positive       0.94      0.38      0.54       937\n",
      "\n",
      "    accuracy                           0.38      1000\n",
      "   macro avg       0.33      0.30      0.21      1000\n",
      "weighted avg       0.88      0.38      0.51      1000\n",
      "\n",
      "--------- svm_rbf\n",
      "              precision    recall  f1-score   support\n",
      "\n",
      "    Negative       0.00      0.00      0.00        24\n",
      "     Neutral       0.00      0.00      0.00        39\n",
      "    Positive       0.94      0.98      0.96       937\n",
      "\n",
      "    accuracy                           0.92      1000\n",
      "   macro avg       0.31      0.33      0.32      1000\n",
      "weighted avg       0.88      0.92      0.90      1000\n",
      "\n",
      "--------- svm_poly\n",
      "              precision    recall  f1-score   support\n",
      "\n",
      "    Negative       0.02      0.08      0.03        24\n",
      "     Neutral       0.02      0.03      0.02        39\n",
      "    Positive       0.93      0.85      0.89       937\n",
      "\n",
      "    accuracy                           0.80      1000\n",
      "   macro avg       0.32      0.32      0.31      1000\n",
      "weighted avg       0.88      0.80      0.83      1000\n",
      "\n"
     ]
    }
   ],
   "source": [
    "MNB = make_pipeline_imb( RandomOverSampler(), MultinomialNB())\n",
    "RF = make_pipeline_imb( RandomOverSampler(), RandomForestClassifier())\n",
    "XGB = make_pipeline_imb( RandomOverSampler(), XGBClassifier())\n",
    "DT = make_pipeline_imb( RandomOverSampler(), DecisionTreeClassifier())\n",
    "SVM_linear = make_pipeline_imb( RandomOverSampler(), LinearSVC())\n",
    "SVM_rbf = make_pipeline_imb( RandomOverSampler(), svm.SVC(kernel='rbf', gamma=0.5, C=0.1))\n",
    "SVM_poly = make_pipeline_imb( RandomOverSampler(), svm.SVC(kernel='poly', degree=3, C=1))\n",
    "\n",
    "models = {'rf':RF,'xgb':XGB,'dt':DT,'svm_linear':SVM_linear,'svm_rbf':SVM_rbf,'svm_poly':SVM_poly}\n",
    "#models = [MNB_model,RF_model]\n",
    "\n",
    "for i in models:\n",
    "    print('---------',i)\n",
    "    models[i].fit(X_train_comps,y_train)\n",
    "    y_pred = models[i].predict(X_test_comps)\n",
    "    print(classification_report(y_test, y_pred))\n"
   ]
  }
 ],
 "metadata": {
  "kernelspec": {
   "display_name": "Python 3",
   "language": "python",
   "name": "python3"
  },
  "language_info": {
   "codemirror_mode": {
    "name": "ipython",
    "version": 3
   },
   "file_extension": ".py",
   "mimetype": "text/x-python",
   "name": "python",
   "nbconvert_exporter": "python",
   "pygments_lexer": "ipython3",
   "version": "3.8.8"
  }
 },
 "nbformat": 4,
 "nbformat_minor": 5
}
